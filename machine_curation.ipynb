{
 "cells": [
  {
   "cell_type": "markdown",
   "metadata": {
    "colab_type": "text",
    "id": "view-in-github"
   },
   "source": [
    "<a href=\"https://colab.research.google.com/github/DurhamARC/machine-curation/blob/master/machine_curation.ipynb\" target=\"_parent\"><img src=\"https://colab.research.google.com/assets/colab-badge.svg\" alt=\"Open In Colab\"/></a>"
   ]
  },
  {
   "cell_type": "markdown",
   "metadata": {
    "id": "Z_yWWyyxXLSS"
   },
   "source": [
    "# Machine Curation"
   ]
  },
  {
   "cell_type": "markdown",
   "metadata": {
    "id": "Swgs5dAzNFdf"
   },
   "source": [
    "This notebook presents the code that underpins the machine-curated tour of the Liverpool Biennial collection. The machine curated exhibition can be viewed through the following [link](https://metaobjects.org/testing/liverpoolbiennial/).\n",
    "\n",
    "We load in data from GitHub and present the preprocessing steps that operate on that data and render it useful to our machine curator. Finally, we compute the similarity rankings across the Liverpool Biennial collection that ultimately allow viewers of the machine curated exhibition to navigate their way through the collection."
   ]
  },
  {
   "cell_type": "markdown",
   "metadata": {
    "id": "VfAMpVbrYeAl"
   },
   "source": [
    "## First steps: getting the data"
   ]
  },
  {
   "cell_type": "markdown",
   "metadata": {
    "id": "hFtoAuGihGbm"
   },
   "source": [
    "As a first step, we need to clone the repository that accompanies this notebook. It contains the data we will need in the steps below."
   ]
  },
  {
   "cell_type": "code",
   "execution_count": 23,
   "metadata": {
    "colab": {
     "base_uri": "https://localhost:8080/"
    },
    "id": "NMLis9zuhQPi",
    "outputId": "4bb107c6-5ad0-4942-b27c-ee9ec406184d"
   },
   "outputs": [
    {
     "name": "stdout",
     "output_type": "stream",
     "text": [
      "Cloning into 'machine-curation'...\n",
      "remote: Enumerating objects: 87, done.\u001b[K\n",
      "remote: Counting objects: 100% (6/6), done.\u001b[K\n",
      "remote: Compressing objects: 100% (6/6), done.\u001b[K\n",
      "remote: Total 87 (delta 0), reused 3 (delta 0), pack-reused 81\u001b[K\n",
      "Unpacking objects: 100% (87/87), done.\n"
     ]
    }
   ],
   "source": [
    "!git clone https://github.com/DurhamARC/machine-curation.git"
   ]
  },
  {
   "cell_type": "markdown",
   "metadata": {
    "id": "_Cfd9AnqQiwM"
   },
   "source": [
    "Unzip the 50 images that comprise the Liverpool Biennial 2021 collection and load dataset."
   ]
  },
  {
   "cell_type": "code",
   "execution_count": 24,
   "metadata": {
    "colab": {
     "base_uri": "https://localhost:8080/"
    },
    "id": "D3HmpsjJQur-",
    "outputId": "34144cd1-8755-40e6-f17f-5b2fa74c3238"
   },
   "outputs": [
    {
     "name": "stdout",
     "output_type": "stream",
     "text": [
      "/content/machine-curation/datasets/liverpool_biennial_2021/original_images\n",
      "Archive:  images_part_2.zip\n",
      "   creating: images_part_2/\n",
      "  inflating: images_part_2/Like_a_filter,_matters_passed_through_you_and_became_a_part_of_you.jpg  \n",
      "  inflating: images_part_2/.DS_Store  \n",
      "  inflating: images_part_2/Balindile_I.jpg  \n",
      "  inflating: images_part_2/Bower_of_Bliss.jpg  \n",
      "  inflating: images_part_2/Stacked_Heads.jpg  \n",
      "  inflating: images_part_2/Jiibie.jpg  \n",
      "  inflating: images_part_2/Femme_Colonne.jpg  \n",
      "  inflating: images_part_2/A_Maze_in_Grace_.jpg  \n",
      "  inflating: images_part_2/GRITO_Las_Brisas_de_Febrero.jpg  \n",
      "  inflating: images_part_2/Mauvaise_Alphabet_.jpg  \n",
      "  inflating: images_part_2/Wet_Job.jpg  \n",
      "  inflating: images_part_2/deader_than_dead.jpg  \n",
      "  inflating: images_part_2/The_Coast.jpg  \n",
      "\n",
      "Archive:  images_part_1.zip\n",
      "   creating: images_part_1/\n",
      "  inflating: images_part_1/Timbre.jpg  \n",
      "  inflating: images_part_1/Horror_Vacui.jpg  \n",
      "  inflating: images_part_1/I_sing_of_the_sea,_I_am_mermaid_of_the_trees.jpg  \n",
      "  inflating: images_part_1/Pathology_in_Three_Parts.jpg  \n",
      "  inflating: images_part_1/The_Only_Good_System_Is_a_Soundsystem.jpg  \n",
      "  inflating: images_part_1/The_Goblets.jpg  \n",
      "  inflating: images_part_1/Mouth_of_Medusa.jpg  \n",
      "  inflating: images_part_1/Through_the_Flower.jpg  \n",
      "  inflating: images_part_1/Body_Percussion_Ensemble.jpg  \n",
      "  inflating: images_part_1/Ammonite.jpg  \n",
      "  inflating: images_part_1/Inflation.jpg  \n",
      "  inflating: images_part_1/Volcanic_Landscape.jpg  \n",
      "  inflating: images_part_1/Pan_African_Flag_for_the_Relic_Travellers'_Alliance.jpg  \n",
      "  inflating: images_part_1/Networks.jpg  \n",
      "  inflating: images_part_1/Superposition.jpg  \n",
      "  inflating: images_part_1/turbulence.jpg  \n",
      "  inflating: images_part_1/Even_an_awkward_smile_can_sprout_beyond_the_sun.jpg  \n",
      "  inflating: images_part_1/Wingspan_of_the_captive.jpg  \n",
      "  inflating: images_part_1/Human_ear_complaining_to_Nature_from_the_Spiegel_der_Weisheit_manuscript.jpg  \n",
      "  inflating: images_part_1/Untitled.jpg  \n",
      "  inflating: images_part_1/Life_and_Death_by_Water.jpg  \n",
      "  inflating: images_part_1/Masterless_Voices.jpg  \n",
      "\n",
      "Archive:  images_part_3.zip\n",
      "   creating: images_part_3/\n",
      "  inflating: images_part_3/The_Next_Biennial_Should_be_Curated_by_a_Machine.jpg  \n",
      "  inflating: images_part_3/I_I_I_(something_flat,_something_cosmic,_something_endless).jpg  \n",
      "  inflating: images_part_3/La_Pensee_Ferale.jpg  \n",
      "  inflating: images_part_3/between_a_whisper_and_a_cry.jpg  \n",
      "  inflating: images_part_3/Sundown.jpg  \n",
      "  inflating: images_part_3/Testa.jpg  \n",
      "  inflating: images_part_3/fraught_for_those_who_bear_bare_witness.jpg  \n",
      "  inflating: images_part_3/Sugar_Routes.jpg  \n",
      "  inflating: images_part_3/Bad_Fruit.jpg  \n",
      "  inflating: images_part_3/Meat_is_Not_Murder.jpg  \n",
      "  inflating: images_part_3/Borrowed_Lady_.jpg  \n",
      "  inflating: images_part_3/hyperbolisch_ratlos_ortlos_inhaltslos.jpg  \n",
      "  inflating: images_part_3/Indigo,_Orange_and_Plum_Matter_(I_Magma_cycle).jpg  \n",
      "  inflating: images_part_3/Osteoclast_(I_do_not_know_how_I_came_to_be_on_board_this_ship,_this_navel_of_my_ark).jpg  \n",
      "  inflating: images_part_3/Pteridophilia.jpg  \n",
      "  inflating: images_part_3/Tongues.jpg  \n",
      "\n",
      "3 archives were successfully processed.\n",
      "/content\n",
      "popd -> /content\n"
     ]
    }
   ],
   "source": [
    "%pushd machine-curation/datasets/liverpool_biennial_2021/original_images\n",
    "!unzip 'images_part_*.zip'\n",
    "%popd"
   ]
  },
  {
   "cell_type": "markdown",
   "metadata": {
    "id": "A5SReDJgYSfg"
   },
   "source": [
    "Load the metadata that describes the Liverpool Biennial collection and its content."
   ]
  },
  {
   "cell_type": "code",
   "execution_count": 25,
   "metadata": {
    "id": "qSn2J2gDYal5"
   },
   "outputs": [],
   "source": [
    "import pandas as pd\n",
    "lb2021 = pd.read_csv('machine-curation/datasets/liverpool_biennial_2021/LB2021_metadata.csv')"
   ]
  },
  {
   "cell_type": "markdown",
   "metadata": {
    "id": "45lGz32bZtCh"
   },
   "source": [
    "# Preprocessing: generating data"
   ]
  },
  {
   "cell_type": "markdown",
   "metadata": {
    "id": "eZHgfY2IZ04u"
   },
   "source": [
    "The next four sections create the data that our machine curator needs. We do this in four stages:\n",
    "\n",
    "\n",
    "1.   A machine generated image is computed for each caption in the Liverpool Biennial.\n",
    "2.   Keywords are extracted from the description of each artwork in the Liverpool Biennial.\n",
    "3.   A machine generated caption is computed for each artwork in the Liverpool Biennial.\n",
    "4.   Heatmaps are overlayed over each artwork in the Liverpool Biennial."
   ]
  },
  {
   "cell_type": "markdown",
   "metadata": {
    "id": "SFr3L_mc4AVM"
   },
   "source": [
    "## Generate image from title"
   ]
  },
  {
   "cell_type": "markdown",
   "metadata": {
    "id": "Gi2CaVXPCj3A"
   },
   "source": [
    "Each artwork in the Liverpool Biennial collection is associated with one machine generated image. This machine generated image is created by the `Imagine` model - a natural language to image model - from the [`big_sleep` module](https://github.com/lucidrains/big-sleep). That is, the code below maps artwork titles to machine generated images.\n",
    "\n",
    "First, we install the relevant modules."
   ]
  },
  {
   "cell_type": "code",
   "execution_count": null,
   "metadata": {
    "colab": {
     "base_uri": "https://localhost:8080/"
    },
    "id": "PQFD71tq4vla",
    "outputId": "2a9664ed-40c1-4679-99cd-7a34641dd63a"
   },
   "outputs": [],
   "source": [
    "!pip install folium==0.2.1 # an idiosyncracy of using pip with big-sleep in Colab\n",
    "!pip install big-sleep"
   ]
  },
  {
   "cell_type": "markdown",
   "metadata": {
    "id": "g381GWKaVIqH"
   },
   "source": [
    "To test out the model on one image caption (takes around 30 minutes) run the following code. It will prompt you for the name of an artwork which you should enter with an underscore separating each word.\n",
    "\n",
    "At the end you will we a file called `<given_title>.best.png` will have been generated. This is the image that the machine associates with your artwork title."
   ]
  },
  {
   "cell_type": "code",
   "execution_count": 2,
   "metadata": {
    "colab": {
     "base_uri": "https://localhost:8080/"
    },
    "id": "CHYB83GYVgdi",
    "outputId": "dc0f92da-c96c-4e3e-b7b3-6a346157225d"
   },
   "outputs": [
    {
     "name": "stdout",
     "output_type": "stream",
     "text": [
      "Enter the name of an artwork in your collection with an underscore separating each word, e.g. Masterless_VoicesHello_World\n",
      "Imagining \"Hello_World\" ...\n"
     ]
    },
    {
     "name": "stderr",
     "output_type": "stream",
     "text": [
      "/usr/local/lib/python3.7/dist-packages/torch/nn/functional.py:718: UserWarning: Named tensors and all their associated APIs are an experimental feature and subject to change. Please do not use them for anything important until they are released as stable. (Triggered internally at  /pytorch/c10/core/TensorImpl.h:1156.)\n",
      "  return torch.max_pool2d(input, kernel_size, stride, padding, dilation, ceil_mode)\n",
      "\n",
      "\n",
      "      epochs:   0%|          | 0/1 [00:00<?, ?it/s]\n",
      "   iteration:   0%|          | 0/10 [00:00<?, ?it/s]\u001b[A\n",
      "loss: -15.06:   0%|          | 0/10 [00:01<?, ?it/s]\u001b[A\n",
      "loss: -15.06:  10%|█         | 1/10 [00:01<00:16,  1.88s/it]\u001b[A\n",
      "loss: -16.04:  10%|█         | 1/10 [00:03<00:16,  1.88s/it]\u001b[A\n",
      "loss: -16.04:  20%|██        | 2/10 [00:03<00:15,  1.88s/it]\u001b[A\n",
      "loss: -17.61:  20%|██        | 2/10 [00:05<00:15,  1.88s/it]\u001b[A\n",
      "loss: -17.61:  30%|███       | 3/10 [00:05<00:13,  1.89s/it]\u001b[A\n",
      "loss: -17.95:  30%|███       | 3/10 [00:07<00:13,  1.89s/it]\u001b[A\n",
      "loss: -17.95:  40%|████      | 4/10 [00:07<00:11,  1.89s/it]\u001b[A\n",
      "loss: -16.23:  40%|████      | 4/10 [00:09<00:11,  1.89s/it]\u001b[A\n",
      "loss: -16.23:  50%|█████     | 5/10 [00:09<00:09,  1.89s/it]\u001b[A\n",
      "loss: -17.52:  50%|█████     | 5/10 [00:11<00:09,  1.89s/it]\u001b[A\n",
      "loss: -17.52:  60%|██████    | 6/10 [00:11<00:07,  1.89s/it]\u001b[A\n",
      "loss: -19.01:  60%|██████    | 6/10 [00:13<00:07,  1.89s/it]\u001b[A\n",
      "loss: -19.01:  70%|███████   | 7/10 [00:13<00:05,  1.90s/it]\u001b[A\n",
      "loss: -19.36:  70%|███████   | 7/10 [00:15<00:05,  1.90s/it]\u001b[A\n",
      "loss: -19.36:  80%|████████  | 8/10 [00:15<00:03,  1.90s/it]\u001b[A\n",
      "loss: -18.52:  80%|████████  | 8/10 [00:17<00:03,  1.90s/it]\u001b[A\n",
      "loss: -18.52:  90%|█████████ | 9/10 [00:17<00:01,  1.90s/it]\u001b[A\n",
      "loss: -19.49:  90%|█████████ | 9/10 [00:18<00:01,  1.90s/it]\u001b[A\n",
      "loss: -19.49: 100%|██████████| 10/10 [00:18<00:00,  1.89s/it]\n",
      "      epochs: 100%|██████████| 1/1 [00:18<00:00, 18.95s/it]\n"
     ]
    }
   ],
   "source": [
    "import pandas as pd\n",
    "from big_sleep import Imagine\n",
    "\n",
    "image_caption = input(\"Enter the name of an artwork in your collection with an \"\n",
    "                      \"underscore separating each word, e.g. Masterless_Voices\")\n",
    "\n",
    "dream = Imagine(\n",
    "    text = image_caption,\n",
    "    lr = 5e-2,\n",
    "    epochs = 1,\n",
    "    iterations = 1000,\n",
    "    save_every=200,\n",
    "    num_cutouts = 32,\n",
    "    save_best = True,\n",
    ")\n",
    "dream()"
   ]
  },
  {
   "cell_type": "markdown",
   "metadata": {
    "id": "gsHOmpjAA2wl"
   },
   "source": [
    "As an example of the kind of output one  might get, let's consider the work **`Masterless Voices`** by Ines Doujak and John Barker. A description of this \n",
    "artwork can be found [here](https://www.biennial.com/2021/exhibition/artists/ines-doujak-and-john-barker).\n",
    "\n",
    "When the string `Masterless_Voices` - the title of a work by Ines Doujak and John Barker - is entered, the following output is generated:\n",
    "\n",
    "![Machine_generated_image](https://raw.githubusercontent.com/DurhamARC/machine-curation/master/datasets/liverpool_biennial_2021/example_images/Masterless_Voices.best.png)\n",
    "\n",
    "For comparison, below is the original artwork, the title of which is visualised by the ML model in the above.\n",
    "\n",
    "![original_image](https://raw.githubusercontent.com/DurhamARC/machine-curation/master/datasets/liverpool_biennial_2021/example_images/Masterless_Voices.original.png)"
   ]
  },
  {
   "cell_type": "markdown",
   "metadata": {
    "id": "vOlrtBOehELw"
   },
   "source": [
    "The following code allows us to run the model over all artwork titles in our dataset. The `*.best.png` files will collected and saved in a folder called `title_to_image_data`. \n",
    "\n",
    "This takes a very long time in Colab. To collect the data more quickly so it can be used in the stages below reduce the number of iterations passed to Imagine()."
   ]
  },
  {
   "cell_type": "code",
   "execution_count": 3,
   "metadata": {
    "colab": {
     "base_uri": "https://localhost:8080/"
    },
    "id": "nKqDPCdz4DFR",
    "outputId": "0cc743d6-2d4c-443e-f9ba-620586facc0c",
    "scrolled": false
   },
   "outputs": [
    {
     "name": "stderr",
     "output_type": "stream",
     "text": [
      "\r",
      "image update:   0%|          | 0/0.2 [00:52<?, ?it/s]\n"
     ]
    },
    {
     "name": "stdout",
     "output_type": "stream",
     "text": [
      "Imagining \"Meat_is_Not_Murder\" ...\n"
     ]
    },
    {
     "name": "stderr",
     "output_type": "stream",
     "text": [
      "\n",
      "\n",
      "      epochs:   0%|          | 0/1 [00:00<?, ?it/s]\n",
      "   iteration:   0%|          | 0/10 [00:00<?, ?it/s]\u001b[A\n",
      "loss: -11.45:   0%|          | 0/10 [00:01<?, ?it/s]\u001b[A\n",
      "loss: -11.45:  10%|█         | 1/10 [00:01<00:17,  1.89s/it]\u001b[A\n",
      "loss: -11.09:  10%|█         | 1/10 [00:03<00:17,  1.89s/it]\u001b[A\n",
      "loss: -11.09:  20%|██        | 2/10 [00:03<00:15,  1.90s/it]\u001b[A\n",
      "loss: -10.74:  20%|██        | 2/10 [00:05<00:15,  1.90s/it]\u001b[A\n",
      "loss: -10.74:  30%|███       | 3/10 [00:05<00:13,  1.90s/it]\u001b[A\n",
      "loss: -10.37:  30%|███       | 3/10 [00:07<00:13,  1.90s/it]\u001b[A\n",
      "loss: -10.37:  40%|████      | 4/10 [00:07<00:11,  1.90s/it]\u001b[A\n",
      "\n",
      "image update:  50%|█████     | 1/2.0 [00:10<00:10, 10.46s/it]\u001b[A\u001b[A\n",
      "loss: -11.49:  40%|████      | 4/10 [00:10<00:11,  1.90s/it]\u001b[A\n",
      "loss: -11.49:  50%|█████     | 5/10 [00:10<00:11,  2.34s/it]\u001b[A\n",
      "loss: -11.92:  50%|█████     | 5/10 [00:12<00:11,  2.34s/it]\u001b[A\n",
      "loss: -11.92:  60%|██████    | 6/10 [00:12<00:08,  2.19s/it]\u001b[A\n",
      "loss: -12.50:  60%|██████    | 6/10 [00:14<00:08,  2.19s/it]\u001b[A\n",
      "loss: -12.50:  70%|███████   | 7/10 [00:14<00:06,  2.10s/it]\u001b[A\n",
      "loss: -12.58:  70%|███████   | 7/10 [00:16<00:06,  2.10s/it]\u001b[A\n",
      "loss: -12.58:  80%|████████  | 8/10 [00:16<00:04,  2.04s/it]\u001b[A\n",
      "loss: -12.92:  80%|████████  | 8/10 [00:18<00:04,  2.04s/it]\u001b[A\n",
      "loss: -12.92:  90%|█████████ | 9/10 [00:18<00:01,  2.00s/it]\u001b[A\n",
      "\n",
      "image update: 100%|██████████| 2/2.0 [00:21<00:00, 10.64s/it]\u001b[A\u001b[A\n",
      "loss: -14.34:  90%|█████████ | 9/10 [00:21<00:01,  2.00s/it]\u001b[A\n",
      "loss: -14.34: 100%|██████████| 10/10 [00:21<00:00,  2.15s/it]\n",
      "      epochs: 100%|██████████| 1/1 [00:21<00:00, 21.56s/it]\n",
      "image update: 100%|██████████| 2/2.0 [00:21<00:00, 10.79s/it]\n"
     ]
    },
    {
     "name": "stdout",
     "output_type": "stream",
     "text": [
      "Imagining \"Osteoclast_(I_do_not_know_how_I_came_to_be_on_board_this_ship_this_navel_of_my_ark)\" ...\n"
     ]
    },
    {
     "name": "stderr",
     "output_type": "stream",
     "text": [
      "\n",
      "\n",
      "      epochs:   0%|          | 0/1 [00:00<?, ?it/s]\n",
      "   iteration:   0%|          | 0/10 [00:00<?, ?it/s]\u001b[A\n",
      "loss: -11.55:   0%|          | 0/10 [00:01<?, ?it/s]\u001b[A\n",
      "loss: -11.55:  10%|█         | 1/10 [00:01<00:17,  1.90s/it]\u001b[A\n",
      "loss: -10.53:  10%|█         | 1/10 [00:03<00:17,  1.90s/it]\u001b[A\n",
      "loss: -10.53:  20%|██        | 2/10 [00:03<00:15,  1.90s/it]\u001b[A\n",
      "loss: -12.12:  20%|██        | 2/10 [00:05<00:15,  1.90s/it]\u001b[A\n",
      "loss: -12.12:  30%|███       | 3/10 [00:05<00:13,  1.90s/it]\u001b[A\n",
      "loss: -13.03:  30%|███       | 3/10 [00:07<00:13,  1.90s/it]\u001b[A\n",
      "loss: -13.03:  40%|████      | 4/10 [00:07<00:11,  1.90s/it]\u001b[A\n",
      "\n",
      "image update:  50%|█████     | 1/2.0 [00:10<00:10, 10.40s/it]\u001b[A\u001b[A\n",
      "loss: -14.13:  40%|████      | 4/10 [00:10<00:11,  1.90s/it]\u001b[A\n",
      "loss: -14.13:  50%|█████     | 5/10 [00:10<00:11,  2.29s/it]\u001b[A\n",
      "loss: -14.03:  50%|█████     | 5/10 [00:12<00:11,  2.29s/it]\u001b[A\n",
      "loss: -14.03:  60%|██████    | 6/10 [00:12<00:08,  2.16s/it]\u001b[A\n",
      "loss: -14.63:  60%|██████    | 6/10 [00:14<00:08,  2.16s/it]\u001b[A\n",
      "loss: -14.63:  70%|███████   | 7/10 [00:14<00:06,  2.08s/it]\u001b[A\n",
      "loss: -14.48:  70%|███████   | 7/10 [00:16<00:06,  2.08s/it]\u001b[A\n",
      "loss: -14.48:  80%|████████  | 8/10 [00:16<00:04,  2.03s/it]\u001b[A\n",
      "loss: -14.44:  80%|████████  | 8/10 [00:18<00:04,  2.03s/it]\u001b[A\n",
      "loss: -14.44:  90%|█████████ | 9/10 [00:18<00:01,  1.99s/it]\u001b[A\n",
      "\n",
      "image update: 100%|██████████| 2/2.0 [00:21<00:00, 10.54s/it]\u001b[A\u001b[A\n",
      "loss: -14.88:  90%|█████████ | 9/10 [00:21<00:01,  1.99s/it]\u001b[A\n",
      "loss: -14.88: 100%|██████████| 10/10 [00:21<00:00,  2.12s/it]\n",
      "      epochs: 100%|██████████| 1/1 [00:21<00:00, 21.25s/it]\n",
      "image update: 100%|██████████| 2/2.0 [00:22<00:00, 11.07s/it]\n"
     ]
    },
    {
     "name": "stdout",
     "output_type": "stream",
     "text": [
      "Imagining \"I_I_I_(something_flat_something_cosmic_something_endless)\" ...\n"
     ]
    },
    {
     "name": "stderr",
     "output_type": "stream",
     "text": [
      "\n",
      "\n",
      "      epochs:   0%|          | 0/1 [00:00<?, ?it/s]\n",
      "   iteration:   0%|          | 0/10 [00:00<?, ?it/s]\u001b[A\n",
      "loss: -12.85:   0%|          | 0/10 [00:01<?, ?it/s]\u001b[A\n",
      "loss: -12.85:  10%|█         | 1/10 [00:01<00:17,  1.89s/it]\u001b[A\n",
      "loss: -13.64:  10%|█         | 1/10 [00:03<00:17,  1.89s/it]\u001b[A\n",
      "loss: -13.64:  20%|██        | 2/10 [00:03<00:15,  1.90s/it]\u001b[A\n",
      "loss: -14.57:  20%|██        | 2/10 [00:05<00:15,  1.90s/it]\u001b[A\n",
      "loss: -14.57:  30%|███       | 3/10 [00:05<00:13,  1.90s/it]\u001b[A\n",
      "loss: -14.64:  30%|███       | 3/10 [00:07<00:13,  1.90s/it]\u001b[A\n",
      "loss: -14.64:  40%|████      | 4/10 [00:07<00:11,  1.90s/it]\u001b[A\n",
      "\n",
      "image update:  50%|█████     | 1/2.0 [00:10<00:10, 10.51s/it]\u001b[A\u001b[A\n",
      "loss: -14.73:  40%|████      | 4/10 [00:10<00:11,  1.90s/it]\u001b[A\n",
      "loss: -14.73:  50%|█████     | 5/10 [00:10<00:11,  2.37s/it]\u001b[A\n",
      "loss: -15.53:  50%|█████     | 5/10 [00:12<00:11,  2.37s/it]\u001b[A\n",
      "loss: -15.53:  60%|██████    | 6/10 [00:12<00:08,  2.21s/it]\u001b[A\n",
      "loss: -16.16:  60%|██████    | 6/10 [00:14<00:08,  2.21s/it]\u001b[A\n",
      "loss: -16.16:  70%|███████   | 7/10 [00:14<00:06,  2.12s/it]\u001b[A\n",
      "loss: -16.56:  70%|███████   | 7/10 [00:16<00:06,  2.12s/it]\u001b[A\n",
      "loss: -16.56:  80%|████████  | 8/10 [00:16<00:04,  2.05s/it]\u001b[A\n",
      "loss: -16.61:  80%|████████  | 8/10 [00:18<00:04,  2.05s/it]\u001b[A\n",
      "loss: -16.61:  90%|█████████ | 9/10 [00:18<00:02,  2.01s/it]\u001b[A\n",
      "\n",
      "image update: 100%|██████████| 2/2.0 [00:21<00:00, 10.68s/it]\u001b[A\u001b[A\n",
      "loss: -17.42:  90%|█████████ | 9/10 [00:21<00:02,  2.01s/it]\u001b[A\n",
      "loss: -17.42: 100%|██████████| 10/10 [00:21<00:00,  2.16s/it]\n",
      "      epochs: 100%|██████████| 1/1 [00:21<00:00, 21.60s/it]\n",
      "image update: 100%|██████████| 2/2.0 [00:22<00:00, 11.31s/it]\n"
     ]
    },
    {
     "name": "stdout",
     "output_type": "stream",
     "text": [
      "Imagining \"hyperbolisch_ratlos_ortlos_inhaltslos\" ...\n"
     ]
    },
    {
     "name": "stderr",
     "output_type": "stream",
     "text": [
      "\n",
      "\n",
      "      epochs:   0%|          | 0/1 [00:00<?, ?it/s]\n",
      "   iteration:   0%|          | 0/10 [00:00<?, ?it/s]\u001b[A\n",
      "loss: -18.64:   0%|          | 0/10 [00:01<?, ?it/s]\u001b[A\n",
      "loss: -18.64:  10%|█         | 1/10 [00:01<00:16,  1.89s/it]\u001b[A\n",
      "loss: -18.88:  10%|█         | 1/10 [00:03<00:16,  1.89s/it]\u001b[A\n",
      "loss: -18.88:  20%|██        | 2/10 [00:03<00:15,  1.90s/it]\u001b[A\n",
      "loss: -15.36:  20%|██        | 2/10 [00:05<00:15,  1.90s/it]\u001b[A\n",
      "loss: -15.36:  30%|███       | 3/10 [00:05<00:13,  1.90s/it]\u001b[A\n",
      "loss: -18.15:  30%|███       | 3/10 [00:07<00:13,  1.90s/it]\u001b[A\n",
      "loss: -18.15:  40%|████      | 4/10 [00:07<00:11,  1.91s/it]\u001b[A\n",
      "\n",
      "image update:  50%|█████     | 1/2.0 [00:10<00:10, 10.48s/it]\u001b[A\u001b[A\n",
      "loss: -18.36:  40%|████      | 4/10 [00:10<00:11,  1.91s/it]\u001b[A\n",
      "loss: -18.36:  50%|█████     | 5/10 [00:10<00:11,  2.35s/it]\u001b[A\n",
      "loss: -18.28:  50%|█████     | 5/10 [00:12<00:11,  2.35s/it]\u001b[A\n",
      "loss: -18.28:  60%|██████    | 6/10 [00:12<00:08,  2.20s/it]\u001b[A\n",
      "loss: -18.32:  60%|██████    | 6/10 [00:14<00:08,  2.20s/it]\u001b[A\n",
      "loss: -18.32:  70%|███████   | 7/10 [00:14<00:06,  2.10s/it]\u001b[A\n",
      "loss: -17.97:  70%|███████   | 7/10 [00:16<00:06,  2.10s/it]\u001b[A\n",
      "loss: -17.97:  80%|████████  | 8/10 [00:16<00:04,  2.04s/it]\u001b[A\n",
      "loss: -18.14:  80%|████████  | 8/10 [00:18<00:04,  2.04s/it]\u001b[A\n",
      "loss: -18.14:  90%|█████████ | 9/10 [00:18<00:01,  2.00s/it]\u001b[A\n",
      "\n",
      "image update: 100%|██████████| 2/2.0 [00:21<00:00, 10.65s/it]\u001b[A\u001b[A\n",
      "loss: -18.18:  90%|█████████ | 9/10 [00:21<00:01,  2.00s/it]\u001b[A\n",
      "loss: -18.18: 100%|██████████| 10/10 [00:21<00:00,  2.15s/it]\n",
      "      epochs: 100%|██████████| 1/1 [00:21<00:00, 21.56s/it]\n",
      "image update: 100%|██████████| 2/2.0 [00:22<00:00, 11.24s/it]\n"
     ]
    },
    {
     "name": "stdout",
     "output_type": "stream",
     "text": [
      "Imagining \"La_Pensee_Ferale\" ...\n"
     ]
    },
    {
     "name": "stderr",
     "output_type": "stream",
     "text": [
      "\n",
      "\n",
      "      epochs:   0%|          | 0/1 [00:00<?, ?it/s]\n",
      "   iteration:   0%|          | 0/10 [00:00<?, ?it/s]\u001b[A\n",
      "loss: -17.30:   0%|          | 0/10 [00:01<?, ?it/s]\u001b[A\n",
      "loss: -17.30:  10%|█         | 1/10 [00:01<00:17,  1.90s/it]\u001b[A\n",
      "loss: -17.49:  10%|█         | 1/10 [00:03<00:17,  1.90s/it]\u001b[A\n",
      "loss: -17.49:  20%|██        | 2/10 [00:03<00:15,  1.90s/it]\u001b[A\n",
      "loss: -17.39:  20%|██        | 2/10 [00:05<00:15,  1.90s/it]\u001b[A\n",
      "loss: -17.39:  30%|███       | 3/10 [00:05<00:13,  1.91s/it]\u001b[A\n",
      "loss: -17.84:  30%|███       | 3/10 [00:07<00:13,  1.91s/it]\u001b[A\n",
      "loss: -17.84:  40%|████      | 4/10 [00:07<00:11,  1.91s/it]\u001b[A\n",
      "\n",
      "image update:  50%|█████     | 1/2.0 [00:10<00:10, 10.49s/it]\u001b[A\u001b[A\n",
      "loss: -17.68:  40%|████      | 4/10 [00:10<00:11,  1.91s/it]\u001b[A\n",
      "loss: -17.68:  50%|█████     | 5/10 [00:10<00:11,  2.35s/it]\u001b[A\n",
      "loss: -18.04:  50%|█████     | 5/10 [00:12<00:11,  2.35s/it]\u001b[A\n",
      "loss: -18.04:  60%|██████    | 6/10 [00:12<00:08,  2.20s/it]\u001b[A\n",
      "loss: -17.57:  60%|██████    | 6/10 [00:14<00:08,  2.20s/it]\u001b[A\n",
      "loss: -17.57:  70%|███████   | 7/10 [00:14<00:06,  2.10s/it]\u001b[A\n",
      "loss: -17.48:  70%|███████   | 7/10 [00:16<00:06,  2.10s/it]\u001b[A\n",
      "loss: -17.48:  80%|████████  | 8/10 [00:16<00:04,  2.04s/it]\u001b[A\n",
      "loss: -17.95:  80%|████████  | 8/10 [00:18<00:04,  2.04s/it]\u001b[A\n",
      "loss: -17.95:  90%|█████████ | 9/10 [00:18<00:02,  2.00s/it]\u001b[A\n",
      "\n",
      "image update: 100%|██████████| 2/2.0 [00:21<00:00, 10.64s/it]\u001b[A\u001b[A\n",
      "loss: -17.96:  90%|█████████ | 9/10 [00:21<00:02,  2.00s/it]\u001b[A\n",
      "loss: -17.96: 100%|██████████| 10/10 [00:21<00:00,  2.14s/it]\n",
      "      epochs: 100%|██████████| 1/1 [00:21<00:00, 21.40s/it]\n",
      "image update: 100%|██████████| 2/2.0 [00:22<00:00, 11.16s/it]\n"
     ]
    },
    {
     "name": "stdout",
     "output_type": "stream",
     "text": [
      "Imagining \"Borrowed_Lady\" ...\n"
     ]
    },
    {
     "name": "stderr",
     "output_type": "stream",
     "text": [
      "\n",
      "\n",
      "      epochs:   0%|          | 0/1 [00:00<?, ?it/s]\n",
      "   iteration:   0%|          | 0/10 [00:00<?, ?it/s]\u001b[A\n",
      "loss: -16.36:   0%|          | 0/10 [00:01<?, ?it/s]\u001b[A\n",
      "loss: -16.36:  10%|█         | 1/10 [00:01<00:17,  1.89s/it]\u001b[A\n",
      "loss: -15.37:  10%|█         | 1/10 [00:03<00:17,  1.89s/it]\u001b[A\n",
      "loss: -15.37:  20%|██        | 2/10 [00:03<00:15,  1.90s/it]\u001b[A\n",
      "loss: -15.46:  20%|██        | 2/10 [00:05<00:15,  1.90s/it]\u001b[A\n",
      "loss: -15.46:  30%|███       | 3/10 [00:05<00:13,  1.91s/it]\u001b[A\n",
      "loss: -15.69:  30%|███       | 3/10 [00:07<00:13,  1.91s/it]\u001b[A\n",
      "loss: -15.69:  40%|████      | 4/10 [00:07<00:11,  1.91s/it]\u001b[A\n",
      "\n",
      "image update:  50%|█████     | 1/2.0 [00:10<00:10, 10.46s/it]\u001b[A\u001b[A\n",
      "loss: -15.73:  40%|████      | 4/10 [00:10<00:11,  1.91s/it]\u001b[A\n",
      "loss: -15.73:  50%|█████     | 5/10 [00:10<00:11,  2.33s/it]\u001b[A\n",
      "loss: -16.18:  50%|█████     | 5/10 [00:12<00:11,  2.33s/it]\u001b[A\n",
      "loss: -16.18:  60%|██████    | 6/10 [00:12<00:08,  2.18s/it]\u001b[A\n",
      "loss: -16.15:  60%|██████    | 6/10 [00:14<00:08,  2.18s/it]\u001b[A\n",
      "loss: -16.15:  70%|███████   | 7/10 [00:14<00:06,  2.10s/it]\u001b[A\n",
      "loss: -16.50:  70%|███████   | 7/10 [00:16<00:06,  2.10s/it]\u001b[A\n",
      "loss: -16.50:  80%|████████  | 8/10 [00:16<00:04,  2.04s/it]\u001b[A\n",
      "loss: -16.54:  80%|████████  | 8/10 [00:18<00:04,  2.04s/it]\u001b[A\n",
      "loss: -16.54:  90%|█████████ | 9/10 [00:18<00:02,  2.00s/it]\u001b[A\n",
      "\n",
      "image update: 100%|██████████| 2/2.0 [00:21<00:00, 10.62s/it]\u001b[A\u001b[A\n",
      "loss: -17.03:  90%|█████████ | 9/10 [00:21<00:02,  2.00s/it]\u001b[A\n",
      "loss: -17.03: 100%|██████████| 10/10 [00:21<00:00,  2.14s/it]\n",
      "      epochs: 100%|██████████| 1/1 [00:21<00:00, 21.45s/it]\n",
      "image update: 100%|██████████| 2/2.0 [00:22<00:00, 11.20s/it]\n"
     ]
    },
    {
     "name": "stdout",
     "output_type": "stream",
     "text": [
      "Imagining \"between_a_whisper_and_a_cry\" ...\n"
     ]
    },
    {
     "name": "stderr",
     "output_type": "stream",
     "text": [
      "\n",
      "\n",
      "      epochs:   0%|          | 0/1 [00:00<?, ?it/s]\n",
      "   iteration:   0%|          | 0/10 [00:00<?, ?it/s]\u001b[A\n",
      "loss: -14.81:   0%|          | 0/10 [00:01<?, ?it/s]\u001b[A\n",
      "loss: -14.81:  10%|█         | 1/10 [00:01<00:17,  1.90s/it]\u001b[A\n",
      "loss: -13.94:  10%|█         | 1/10 [00:03<00:17,  1.90s/it]\u001b[A\n",
      "loss: -13.94:  20%|██        | 2/10 [00:03<00:15,  1.90s/it]\u001b[A\n",
      "loss: -15.55:  20%|██        | 2/10 [00:05<00:15,  1.90s/it]\u001b[A\n",
      "loss: -15.55:  30%|███       | 3/10 [00:05<00:13,  1.90s/it]\u001b[A\n",
      "loss: -14.06:  30%|███       | 3/10 [00:07<00:13,  1.90s/it]\u001b[A\n",
      "loss: -14.06:  40%|████      | 4/10 [00:07<00:11,  1.90s/it]\u001b[A\n",
      "\n",
      "image update:  50%|█████     | 1/2.0 [00:10<00:10, 10.46s/it]\u001b[A\u001b[A\n",
      "loss: -14.17:  40%|████      | 4/10 [00:10<00:11,  1.90s/it]\u001b[A\n",
      "loss: -14.17:  50%|█████     | 5/10 [00:10<00:11,  2.34s/it]\u001b[A\n",
      "loss: -14.47:  50%|█████     | 5/10 [00:12<00:11,  2.34s/it]\u001b[A\n",
      "loss: -14.47:  60%|██████    | 6/10 [00:12<00:08,  2.19s/it]\u001b[A\n",
      "loss: -16.10:  60%|██████    | 6/10 [00:14<00:08,  2.19s/it]\u001b[A\n",
      "loss: -16.10:  70%|███████   | 7/10 [00:14<00:06,  2.10s/it]\u001b[A\n",
      "loss: -16.29:  70%|███████   | 7/10 [00:16<00:06,  2.10s/it]\u001b[A\n",
      "loss: -16.29:  80%|████████  | 8/10 [00:16<00:04,  2.04s/it]\u001b[A\n",
      "loss: -15.82:  80%|████████  | 8/10 [00:18<00:04,  2.04s/it]\u001b[A\n",
      "loss: -15.82:  90%|█████████ | 9/10 [00:18<00:01,  2.00s/it]\u001b[A\n",
      "\n",
      "image update: 100%|██████████| 2/2.0 [00:21<00:00, 10.64s/it]\u001b[A\u001b[A\n",
      "loss: -15.93:  90%|█████████ | 9/10 [00:21<00:01,  2.00s/it]\u001b[A\n",
      "loss: -15.93: 100%|██████████| 10/10 [00:21<00:00,  2.14s/it]\n",
      "      epochs: 100%|██████████| 1/1 [00:21<00:00, 21.40s/it]\n",
      "image update: 100%|██████████| 2/2.0 [00:22<00:00, 11.17s/it]\n"
     ]
    },
    {
     "name": "stdout",
     "output_type": "stream",
     "text": [
      "Imagining \"Tongues\" ...\n"
     ]
    },
    {
     "name": "stderr",
     "output_type": "stream",
     "text": [
      "\n",
      "\n",
      "      epochs:   0%|          | 0/1 [00:00<?, ?it/s]\n",
      "   iteration:   0%|          | 0/10 [00:00<?, ?it/s]\u001b[A\n",
      "loss: -14.46:   0%|          | 0/10 [00:01<?, ?it/s]\u001b[A\n",
      "loss: -14.46:  10%|█         | 1/10 [00:01<00:17,  1.90s/it]\u001b[A\n",
      "loss: -14.62:  10%|█         | 1/10 [00:03<00:17,  1.90s/it]\u001b[A\n",
      "loss: -14.62:  20%|██        | 2/10 [00:03<00:15,  1.90s/it]\u001b[A\n",
      "loss: -14.79:  20%|██        | 2/10 [00:05<00:15,  1.90s/it]\u001b[A\n",
      "loss: -14.79:  30%|███       | 3/10 [00:05<00:13,  1.91s/it]\u001b[A\n",
      "loss: -15.53:  30%|███       | 3/10 [00:07<00:13,  1.91s/it]\u001b[A\n",
      "loss: -15.53:  40%|████      | 4/10 [00:07<00:11,  1.91s/it]\u001b[A\n",
      "\n",
      "image update:  50%|█████     | 1/2.0 [00:10<00:10, 10.47s/it]\u001b[A\u001b[A\n",
      "loss: -15.19:  40%|████      | 4/10 [00:10<00:11,  1.91s/it]\u001b[A\n",
      "loss: -15.19:  50%|█████     | 5/10 [00:10<00:11,  2.32s/it]\u001b[A\n",
      "loss: -15.51:  50%|█████     | 5/10 [00:12<00:11,  2.32s/it]\u001b[A\n",
      "loss: -15.51:  60%|██████    | 6/10 [00:12<00:08,  2.18s/it]\u001b[A\n",
      "loss: -15.65:  60%|██████    | 6/10 [00:14<00:08,  2.18s/it]\u001b[A\n",
      "loss: -15.65:  70%|███████   | 7/10 [00:14<00:06,  2.09s/it]\u001b[A\n",
      "loss: -15.82:  70%|███████   | 7/10 [00:16<00:06,  2.09s/it]\u001b[A\n",
      "loss: -15.82:  80%|████████  | 8/10 [00:16<00:04,  2.03s/it]\u001b[A\n",
      "loss: -16.43:  80%|████████  | 8/10 [00:18<00:04,  2.03s/it]\u001b[A\n",
      "loss: -16.43:  90%|█████████ | 9/10 [00:18<00:01,  1.99s/it]\u001b[A\n",
      "\n",
      "image update: 100%|██████████| 2/2.0 [00:21<00:00, 10.59s/it]\u001b[A\u001b[A\n",
      "loss: -16.33:  90%|█████████ | 9/10 [00:21<00:01,  1.99s/it]\u001b[A\n",
      "loss: -16.33: 100%|██████████| 10/10 [00:21<00:00,  2.13s/it]\n",
      "      epochs: 100%|██████████| 1/1 [00:21<00:00, 21.35s/it]\n",
      "image update: 100%|██████████| 2/2.0 [00:22<00:00, 11.13s/it]\n"
     ]
    },
    {
     "name": "stdout",
     "output_type": "stream",
     "text": [
      "Imagining \"Sundown\" ...\n"
     ]
    },
    {
     "name": "stderr",
     "output_type": "stream",
     "text": [
      "\n",
      "\n",
      "      epochs:   0%|          | 0/1 [00:00<?, ?it/s]\n",
      "   iteration:   0%|          | 0/10 [00:00<?, ?it/s]\u001b[A\n",
      "loss: -10.78:   0%|          | 0/10 [00:01<?, ?it/s]\u001b[A\n",
      "loss: -10.78:  10%|█         | 1/10 [00:01<00:17,  1.90s/it]\u001b[A\n",
      "loss: -12.20:  10%|█         | 1/10 [00:03<00:17,  1.90s/it]\u001b[A\n",
      "loss: -12.20:  20%|██        | 2/10 [00:03<00:15,  1.91s/it]\u001b[A\n",
      "loss: -12.09:  20%|██        | 2/10 [00:05<00:15,  1.91s/it]\u001b[A\n",
      "loss: -12.09:  30%|███       | 3/10 [00:05<00:13,  1.91s/it]\u001b[A\n",
      "loss: -13.41:  30%|███       | 3/10 [00:07<00:13,  1.91s/it]\u001b[A\n",
      "loss: -13.41:  40%|████      | 4/10 [00:07<00:11,  1.91s/it]\u001b[A\n",
      "\n",
      "image update:  50%|█████     | 1/2.0 [00:10<00:10, 10.48s/it]\u001b[A\u001b[A\n",
      "loss: -14.51:  40%|████      | 4/10 [00:10<00:11,  1.91s/it]\u001b[A\n",
      "loss: -14.51:  50%|█████     | 5/10 [00:10<00:11,  2.33s/it]\u001b[A\n",
      "loss: -14.54:  50%|█████     | 5/10 [00:12<00:11,  2.33s/it]\u001b[A\n",
      "loss: -14.54:  60%|██████    | 6/10 [00:12<00:08,  2.19s/it]\u001b[A\n",
      "loss: -15.25:  60%|██████    | 6/10 [00:14<00:08,  2.19s/it]\u001b[A\n",
      "loss: -15.25:  70%|███████   | 7/10 [00:14<00:06,  2.10s/it]\u001b[A\n",
      "loss: -15.65:  70%|███████   | 7/10 [00:16<00:06,  2.10s/it]\u001b[A\n",
      "loss: -15.65:  80%|████████  | 8/10 [00:16<00:04,  2.04s/it]\u001b[A\n",
      "loss: -16.71:  80%|████████  | 8/10 [00:18<00:04,  2.04s/it]\u001b[A\n",
      "loss: -16.71:  90%|█████████ | 9/10 [00:18<00:01,  2.00s/it]\u001b[A\n",
      "\n",
      "image update: 100%|██████████| 2/2.0 [00:21<00:00, 10.64s/it]\u001b[A\u001b[A\n",
      "loss: -17.58:  90%|█████████ | 9/10 [00:21<00:01,  2.00s/it]\u001b[A\n",
      "loss: -17.58: 100%|██████████| 10/10 [00:21<00:00,  2.15s/it]\n",
      "      epochs: 100%|██████████| 1/1 [00:21<00:00, 21.55s/it]\n",
      "image update: 100%|██████████| 2/2.0 [00:22<00:00, 11.25s/it]\n"
     ]
    },
    {
     "name": "stdout",
     "output_type": "stream",
     "text": [
      "Imagining \"The_Next_Biennial_Should_be_Curated_by_a_Machine\" ...\n"
     ]
    },
    {
     "name": "stderr",
     "output_type": "stream",
     "text": [
      "\n",
      "\n",
      "      epochs:   0%|          | 0/1 [00:00<?, ?it/s]\n",
      "   iteration:   0%|          | 0/10 [00:00<?, ?it/s]\u001b[A\n",
      "loss: -13.26:   0%|          | 0/10 [00:01<?, ?it/s]\u001b[A\n",
      "loss: -13.26:  10%|█         | 1/10 [00:01<00:17,  1.89s/it]\u001b[A\n",
      "loss: -12.90:  10%|█         | 1/10 [00:03<00:17,  1.89s/it]\u001b[A\n",
      "loss: -12.90:  20%|██        | 2/10 [00:03<00:15,  1.90s/it]\u001b[A\n",
      "loss: -12.86:  20%|██        | 2/10 [00:05<00:15,  1.90s/it]\u001b[A\n",
      "loss: -12.86:  30%|███       | 3/10 [00:05<00:13,  1.90s/it]\u001b[A\n",
      "loss: -11.90:  30%|███       | 3/10 [00:07<00:13,  1.90s/it]\u001b[A\n",
      "loss: -11.90:  40%|████      | 4/10 [00:07<00:11,  1.90s/it]\u001b[A\n",
      "\n",
      "image update:  50%|█████     | 1/2.0 [00:10<00:10, 10.42s/it]\u001b[A\u001b[A\n",
      "loss: -12.08:  40%|████      | 4/10 [00:10<00:11,  1.90s/it]\u001b[A\n",
      "loss: -12.08:  50%|█████     | 5/10 [00:10<00:11,  2.30s/it]\u001b[A\n",
      "loss: -12.30:  50%|█████     | 5/10 [00:12<00:11,  2.30s/it]\u001b[A\n",
      "loss: -12.30:  60%|██████    | 6/10 [00:12<00:08,  2.17s/it]\u001b[A\n",
      "loss: -13.38:  60%|██████    | 6/10 [00:14<00:08,  2.17s/it]\u001b[A\n",
      "loss: -13.38:  70%|███████   | 7/10 [00:14<00:06,  2.08s/it]\u001b[A\n",
      "loss: -13.52:  70%|███████   | 7/10 [00:16<00:06,  2.08s/it]\u001b[A\n",
      "loss: -13.52:  80%|████████  | 8/10 [00:16<00:04,  2.03s/it]\u001b[A\n",
      "loss: -13.66:  80%|████████  | 8/10 [00:18<00:04,  2.03s/it]\u001b[A\n",
      "loss: -13.66:  90%|█████████ | 9/10 [00:18<00:01,  1.99s/it]\u001b[A\n",
      "\n",
      "image update: 100%|██████████| 2/2.0 [00:21<00:00, 10.55s/it]\u001b[A\u001b[A\n",
      "loss: -15.88:  90%|█████████ | 9/10 [00:21<00:01,  1.99s/it]\u001b[A\n",
      "loss: -15.88: 100%|██████████| 10/10 [00:21<00:00,  2.13s/it]\n",
      "      epochs: 100%|██████████| 1/1 [00:21<00:00, 21.31s/it]\n",
      "image update: 100%|██████████| 2/2.0 [00:22<00:00, 11.11s/it]\n"
     ]
    },
    {
     "name": "stdout",
     "output_type": "stream",
     "text": [
      "Imagining \"Sugar_Routes\" ...\n"
     ]
    },
    {
     "name": "stderr",
     "output_type": "stream",
     "text": [
      "\n",
      "\n",
      "      epochs:   0%|          | 0/1 [00:00<?, ?it/s]\n",
      "   iteration:   0%|          | 0/10 [00:00<?, ?it/s]\u001b[A\n",
      "loss: -12.49:   0%|          | 0/10 [00:01<?, ?it/s]\u001b[A\n",
      "loss: -12.49:  10%|█         | 1/10 [00:01<00:17,  1.89s/it]\u001b[A\n",
      "loss: -13.56:  10%|█         | 1/10 [00:03<00:17,  1.89s/it]\u001b[A\n",
      "loss: -13.56:  20%|██        | 2/10 [00:03<00:15,  1.91s/it]\u001b[A\n",
      "loss: -14.81:  20%|██        | 2/10 [00:05<00:15,  1.91s/it]\u001b[A\n",
      "loss: -14.81:  30%|███       | 3/10 [00:05<00:13,  1.91s/it]\u001b[A\n",
      "loss: -15.70:  30%|███       | 3/10 [00:07<00:13,  1.91s/it]\u001b[A\n",
      "loss: -15.70:  40%|████      | 4/10 [00:07<00:11,  1.92s/it]\u001b[A\n",
      "\n",
      "image update:  50%|█████     | 1/2.0 [00:10<00:10, 10.51s/it]\u001b[A\u001b[A\n",
      "loss: -15.66:  40%|████      | 4/10 [00:10<00:11,  1.92s/it]\u001b[A\n",
      "loss: -15.66:  50%|█████     | 5/10 [00:10<00:11,  2.34s/it]\u001b[A\n",
      "loss: -16.28:  50%|█████     | 5/10 [00:12<00:11,  2.34s/it]\u001b[A\n",
      "loss: -16.28:  60%|██████    | 6/10 [00:12<00:08,  2.20s/it]\u001b[A\n",
      "loss: -15.53:  60%|██████    | 6/10 [00:14<00:08,  2.20s/it]\u001b[A\n",
      "loss: -15.53:  70%|███████   | 7/10 [00:14<00:06,  2.10s/it]\u001b[A\n",
      "loss: -15.79:  70%|███████   | 7/10 [00:16<00:06,  2.10s/it]\u001b[A\n",
      "loss: -15.79:  80%|████████  | 8/10 [00:16<00:04,  2.04s/it]\u001b[A\n",
      "loss: -17.85:  80%|████████  | 8/10 [00:18<00:04,  2.04s/it]\u001b[A\n",
      "loss: -17.85:  90%|█████████ | 9/10 [00:18<00:02,  2.00s/it]\u001b[A\n",
      "\n",
      "image update: 100%|██████████| 2/2.0 [00:21<00:00, 10.66s/it]\u001b[A\u001b[A\n",
      "loss: -17.90:  90%|█████████ | 9/10 [00:21<00:02,  2.00s/it]\u001b[A\n",
      "loss: -17.90: 100%|██████████| 10/10 [00:21<00:00,  2.14s/it]\n",
      "      epochs: 100%|██████████| 1/1 [00:21<00:00, 21.45s/it]\n",
      "image update: 100%|██████████| 2/2.0 [00:22<00:00, 11.18s/it]\n"
     ]
    },
    {
     "name": "stdout",
     "output_type": "stream",
     "text": [
      "Imagining \"Pteridophilia\" ...\n"
     ]
    },
    {
     "name": "stderr",
     "output_type": "stream",
     "text": [
      "\n",
      "\n",
      "      epochs:   0%|          | 0/1 [00:00<?, ?it/s]\n",
      "   iteration:   0%|          | 0/10 [00:00<?, ?it/s]\u001b[A\n",
      "loss: -14.20:   0%|          | 0/10 [00:01<?, ?it/s]\u001b[A\n",
      "loss: -14.20:  10%|█         | 1/10 [00:01<00:17,  1.90s/it]\u001b[A\n",
      "loss: -13.46:  10%|█         | 1/10 [00:03<00:17,  1.90s/it]\u001b[A\n",
      "loss: -13.46:  20%|██        | 2/10 [00:03<00:15,  1.90s/it]\u001b[A\n",
      "loss: -16.19:  20%|██        | 2/10 [00:05<00:15,  1.90s/it]\u001b[A\n",
      "loss: -16.19:  30%|███       | 3/10 [00:05<00:13,  1.91s/it]\u001b[A\n",
      "loss: -18.76:  30%|███       | 3/10 [00:07<00:13,  1.91s/it]\u001b[A\n",
      "loss: -18.76:  40%|████      | 4/10 [00:07<00:11,  1.91s/it]\u001b[A\n",
      "\n",
      "image update:  50%|█████     | 1/2.0 [00:10<00:10, 10.42s/it]\u001b[A\u001b[A\n",
      "loss: -20.54:  40%|████      | 4/10 [00:10<00:11,  1.91s/it]\u001b[A\n",
      "loss: -20.54:  50%|█████     | 5/10 [00:10<00:11,  2.28s/it]\u001b[A\n",
      "loss: -21.25:  50%|█████     | 5/10 [00:12<00:11,  2.28s/it]\u001b[A\n",
      "loss: -21.25:  60%|██████    | 6/10 [00:12<00:08,  2.16s/it]\u001b[A\n",
      "loss: -22.05:  60%|██████    | 6/10 [00:14<00:08,  2.16s/it]\u001b[A\n",
      "loss: -22.05:  70%|███████   | 7/10 [00:14<00:06,  2.08s/it]\u001b[A\n",
      "loss: -22.42:  70%|███████   | 7/10 [00:16<00:06,  2.08s/it]\u001b[A\n",
      "loss: -22.42:  80%|████████  | 8/10 [00:16<00:04,  2.03s/it]\u001b[A\n",
      "loss: -23.03:  80%|████████  | 8/10 [00:18<00:04,  2.03s/it]\u001b[A\n",
      "loss: -23.03:  90%|█████████ | 9/10 [00:18<00:01,  1.99s/it]\u001b[A\n",
      "\n",
      "image update: 100%|██████████| 2/2.0 [00:21<00:00, 10.54s/it]\u001b[A\u001b[A\n",
      "loss: -22.99:  90%|█████████ | 9/10 [00:21<00:01,  1.99s/it]\u001b[A\n",
      "loss: -22.99: 100%|██████████| 10/10 [00:21<00:00,  2.12s/it]\n",
      "      epochs: 100%|██████████| 1/1 [00:21<00:00, 21.22s/it]\n",
      "image update: 100%|██████████| 2/2.0 [00:22<00:00, 11.11s/it]\n"
     ]
    },
    {
     "name": "stdout",
     "output_type": "stream",
     "text": [
      "Imagining \"Indigo_Orange_and_Plum_Matter_(I_Magma_cycle)\" ...\n"
     ]
    },
    {
     "name": "stderr",
     "output_type": "stream",
     "text": [
      "\n",
      "\n",
      "      epochs:   0%|          | 0/1 [00:00<?, ?it/s]\n",
      "   iteration:   0%|          | 0/10 [00:00<?, ?it/s]\u001b[A\n",
      "loss: -11.97:   0%|          | 0/10 [00:01<?, ?it/s]\u001b[A\n",
      "loss: -11.97:  10%|█         | 1/10 [00:01<00:17,  1.90s/it]\u001b[A\n",
      "loss: -13.61:  10%|█         | 1/10 [00:03<00:17,  1.90s/it]\u001b[A\n",
      "loss: -13.61:  20%|██        | 2/10 [00:03<00:15,  1.90s/it]\u001b[A\n",
      "loss: -14.32:  20%|██        | 2/10 [00:05<00:15,  1.90s/it]\u001b[A\n",
      "loss: -14.32:  30%|███       | 3/10 [00:05<00:13,  1.90s/it]\u001b[A\n",
      "loss: -17.26:  30%|███       | 3/10 [00:07<00:13,  1.90s/it]\u001b[A\n",
      "loss: -17.26:  40%|████      | 4/10 [00:07<00:11,  1.91s/it]\u001b[A\n",
      "\n",
      "image update:  50%|█████     | 1/2.0 [00:10<00:10, 10.47s/it]\u001b[A\u001b[A\n",
      "loss: -16.55:  40%|████      | 4/10 [00:10<00:11,  1.91s/it]\u001b[A\n",
      "loss: -16.55:  50%|█████     | 5/10 [00:10<00:11,  2.34s/it]\u001b[A\n",
      "loss: -13.83:  50%|█████     | 5/10 [00:12<00:11,  2.34s/it]\u001b[A\n",
      "loss: -13.83:  60%|██████    | 6/10 [00:12<00:08,  2.20s/it]\u001b[A\n",
      "loss: -14.30:  60%|██████    | 6/10 [00:14<00:08,  2.20s/it]\u001b[A\n",
      "loss: -14.30:  70%|███████   | 7/10 [00:14<00:06,  2.10s/it]\u001b[A\n",
      "loss: -15.36:  70%|███████   | 7/10 [00:16<00:06,  2.10s/it]\u001b[A\n",
      "loss: -15.36:  80%|████████  | 8/10 [00:16<00:04,  2.04s/it]\u001b[A\n",
      "loss: -15.49:  80%|████████  | 8/10 [00:18<00:04,  2.04s/it]\u001b[A\n",
      "loss: -15.49:  90%|█████████ | 9/10 [00:18<00:02,  2.00s/it]\u001b[A\n",
      "\n",
      "image update: 100%|██████████| 2/2.0 [00:21<00:00, 10.62s/it]\u001b[A\u001b[A\n",
      "loss: -15.55:  90%|█████████ | 9/10 [00:21<00:02,  2.00s/it]\u001b[A\n",
      "loss: -15.55: 100%|██████████| 10/10 [00:21<00:00,  2.14s/it]\n",
      "      epochs: 100%|██████████| 1/1 [00:21<00:00, 21.40s/it]\n",
      "image update: 100%|██████████| 2/2.0 [00:22<00:00, 11.18s/it]\n"
     ]
    },
    {
     "name": "stdout",
     "output_type": "stream",
     "text": [
      "Imagining \"Testa\" ...\n"
     ]
    },
    {
     "name": "stderr",
     "output_type": "stream",
     "text": [
      "\n",
      "\n",
      "      epochs:   0%|          | 0/1 [00:00<?, ?it/s]\n",
      "   iteration:   0%|          | 0/10 [00:00<?, ?it/s]\u001b[A\n",
      "loss: -19.10:   0%|          | 0/10 [00:01<?, ?it/s]\u001b[A\n",
      "loss: -19.10:  10%|█         | 1/10 [00:01<00:17,  1.89s/it]\u001b[A\n",
      "loss: -19.47:  10%|█         | 1/10 [00:03<00:17,  1.89s/it]\u001b[A\n",
      "loss: -19.47:  20%|██        | 2/10 [00:03<00:15,  1.90s/it]\u001b[A\n",
      "loss: -19.04:  20%|██        | 2/10 [00:05<00:15,  1.90s/it]\u001b[A\n",
      "loss: -19.04:  30%|███       | 3/10 [00:05<00:13,  1.91s/it]\u001b[A\n",
      "loss: -20.11:  30%|███       | 3/10 [00:07<00:13,  1.91s/it]\u001b[A\n",
      "loss: -20.11:  40%|████      | 4/10 [00:07<00:11,  1.90s/it]\u001b[A\n",
      "\n",
      "image update:  50%|█████     | 1/2.0 [00:10<00:10, 10.49s/it]\u001b[A\u001b[A\n",
      "loss: -20.05:  40%|████      | 4/10 [00:10<00:11,  1.90s/it]\u001b[A\n",
      "loss: -20.05:  50%|█████     | 5/10 [00:10<00:11,  2.37s/it]\u001b[A\n",
      "loss: -20.76:  50%|█████     | 5/10 [00:12<00:11,  2.37s/it]\u001b[A\n",
      "loss: -20.76:  60%|██████    | 6/10 [00:12<00:08,  2.21s/it]\u001b[A\n",
      "loss: -21.10:  60%|██████    | 6/10 [00:14<00:08,  2.21s/it]\u001b[A\n",
      "loss: -21.10:  70%|███████   | 7/10 [00:14<00:06,  2.11s/it]\u001b[A\n",
      "loss: -21.03:  70%|███████   | 7/10 [00:16<00:06,  2.11s/it]\u001b[A\n",
      "loss: -21.03:  80%|████████  | 8/10 [00:16<00:04,  2.05s/it]\u001b[A\n",
      "loss: -21.04:  80%|████████  | 8/10 [00:18<00:04,  2.05s/it]\u001b[A\n",
      "loss: -21.04:  90%|█████████ | 9/10 [00:18<00:02,  2.01s/it]\u001b[A\n",
      "\n",
      "image update: 100%|██████████| 2/2.0 [00:21<00:00, 10.70s/it]\u001b[A\u001b[A\n",
      "loss: -21.20:  90%|█████████ | 9/10 [00:21<00:02,  2.01s/it]\u001b[A\n",
      "loss: -21.20: 100%|██████████| 10/10 [00:21<00:00,  2.17s/it]\n",
      "      epochs: 100%|██████████| 1/1 [00:21<00:00, 21.68s/it]\n",
      "image update: 100%|██████████| 2/2.0 [00:22<00:00, 11.33s/it]\n"
     ]
    },
    {
     "name": "stdout",
     "output_type": "stream",
     "text": [
      "Imagining \"Bad_Fruit\" ...\n"
     ]
    },
    {
     "name": "stderr",
     "output_type": "stream",
     "text": [
      "\n",
      "\n",
      "      epochs:   0%|          | 0/1 [00:00<?, ?it/s]\n",
      "   iteration:   0%|          | 0/10 [00:00<?, ?it/s]\u001b[A\n",
      "loss: -14.71:   0%|          | 0/10 [00:01<?, ?it/s]\u001b[A\n",
      "loss: -14.71:  10%|█         | 1/10 [00:01<00:17,  1.90s/it]\u001b[A\n",
      "loss: -13.50:  10%|█         | 1/10 [00:03<00:17,  1.90s/it]\u001b[A\n",
      "loss: -13.50:  20%|██        | 2/10 [00:03<00:15,  1.91s/it]\u001b[A\n",
      "loss: -13.78:  20%|██        | 2/10 [00:05<00:15,  1.91s/it]\u001b[A\n",
      "loss: -13.78:  30%|███       | 3/10 [00:05<00:13,  1.91s/it]\u001b[A\n",
      "loss: -19.62:  30%|███       | 3/10 [00:07<00:13,  1.91s/it]\u001b[A\n",
      "loss: -19.62:  40%|████      | 4/10 [00:07<00:11,  1.91s/it]\u001b[A\n",
      "\n",
      "image update:  50%|█████     | 1/2.0 [00:10<00:10, 10.50s/it]\u001b[A\u001b[A\n",
      "loss: -16.85:  40%|████      | 4/10 [00:10<00:11,  1.91s/it]\u001b[A\n",
      "loss: -16.85:  50%|█████     | 5/10 [00:10<00:11,  2.37s/it]\u001b[A\n",
      "loss: -16.66:  50%|█████     | 5/10 [00:12<00:11,  2.37s/it]\u001b[A\n",
      "loss: -16.66:  60%|██████    | 6/10 [00:12<00:08,  2.21s/it]\u001b[A\n",
      "loss: -17.48:  60%|██████    | 6/10 [00:14<00:08,  2.21s/it]\u001b[A\n",
      "loss: -17.48:  70%|███████   | 7/10 [00:14<00:06,  2.12s/it]\u001b[A\n",
      "loss: -17.64:  70%|███████   | 7/10 [00:16<00:06,  2.12s/it]\u001b[A\n",
      "loss: -17.64:  80%|████████  | 8/10 [00:16<00:04,  2.05s/it]\u001b[A\n",
      "loss: -19.15:  80%|████████  | 8/10 [00:18<00:04,  2.05s/it]\u001b[A\n",
      "loss: -19.15:  90%|█████████ | 9/10 [00:18<00:02,  2.01s/it]\u001b[A\n",
      "\n",
      "image update: 100%|██████████| 2/2.0 [00:21<00:00, 10.70s/it]\u001b[A\u001b[A\n",
      "loss: -20.23:  90%|█████████ | 9/10 [00:21<00:02,  2.01s/it]\u001b[A\n",
      "loss: -20.23: 100%|██████████| 10/10 [00:21<00:00,  2.17s/it]\n",
      "      epochs: 100%|██████████| 1/1 [00:21<00:00, 21.71s/it]\n",
      "image update: 100%|██████████| 2/2.0 [00:22<00:00, 11.30s/it]\n"
     ]
    },
    {
     "name": "stdout",
     "output_type": "stream",
     "text": [
      "Imagining \"fraught_for_those_who_bear_bare_witness\" ...\n"
     ]
    },
    {
     "name": "stderr",
     "output_type": "stream",
     "text": [
      "\n",
      "\n",
      "      epochs:   0%|          | 0/1 [00:00<?, ?it/s]\n",
      "   iteration:   0%|          | 0/10 [00:00<?, ?it/s]\u001b[A\n",
      "loss: -15.72:   0%|          | 0/10 [00:01<?, ?it/s]\u001b[A\n",
      "loss: -15.72:  10%|█         | 1/10 [00:01<00:17,  1.91s/it]\u001b[A\n",
      "loss: -15.70:  10%|█         | 1/10 [00:03<00:17,  1.91s/it]\u001b[A\n",
      "loss: -15.70:  20%|██        | 2/10 [00:03<00:15,  1.90s/it]\u001b[A\n",
      "loss: -15.27:  20%|██        | 2/10 [00:05<00:15,  1.90s/it]\u001b[A\n",
      "loss: -15.27:  30%|███       | 3/10 [00:05<00:13,  1.91s/it]\u001b[A\n",
      "loss: -14.85:  30%|███       | 3/10 [00:07<00:13,  1.91s/it]\u001b[A\n",
      "loss: -14.85:  40%|████      | 4/10 [00:07<00:11,  1.91s/it]\u001b[A\n",
      "\n",
      "image update:  50%|█████     | 1/2.0 [00:10<00:10, 10.44s/it]\u001b[A\u001b[A\n",
      "loss: -15.89:  40%|████      | 4/10 [00:10<00:11,  1.91s/it]\u001b[A\n",
      "loss: -15.89:  50%|█████     | 5/10 [00:10<00:11,  2.29s/it]\u001b[A\n",
      "loss: -16.34:  50%|█████     | 5/10 [00:12<00:11,  2.29s/it]\u001b[A\n",
      "loss: -16.34:  60%|██████    | 6/10 [00:12<00:08,  2.16s/it]\u001b[A\n",
      "loss: -17.22:  60%|██████    | 6/10 [00:14<00:08,  2.16s/it]\u001b[A\n",
      "loss: -17.22:  70%|███████   | 7/10 [00:14<00:06,  2.08s/it]\u001b[A\n",
      "loss: -17.35:  70%|███████   | 7/10 [00:16<00:06,  2.08s/it]\u001b[A\n",
      "loss: -17.35:  80%|████████  | 8/10 [00:16<00:04,  2.02s/it]\u001b[A\n",
      "loss: -16.84:  80%|████████  | 8/10 [00:18<00:04,  2.02s/it]\u001b[A\n",
      "loss: -16.84:  90%|█████████ | 9/10 [00:18<00:01,  1.99s/it]\u001b[A\n",
      "\n",
      "image update: 100%|██████████| 2/2.0 [00:21<00:00, 10.55s/it]\u001b[A\u001b[A\n",
      "loss: -16.60:  90%|█████████ | 9/10 [00:21<00:01,  1.99s/it]\u001b[A\n",
      "loss: -16.60: 100%|██████████| 10/10 [00:21<00:00,  2.13s/it]\n",
      "      epochs: 100%|██████████| 1/1 [00:21<00:00, 21.31s/it]\n",
      "image update: 100%|██████████| 2/2.0 [00:22<00:00, 11.13s/it]\n"
     ]
    },
    {
     "name": "stdout",
     "output_type": "stream",
     "text": [
      "Imagining \"deader_than_dead\" ...\n"
     ]
    },
    {
     "name": "stderr",
     "output_type": "stream",
     "text": [
      "\n",
      "\n",
      "      epochs:   0%|          | 0/1 [00:00<?, ?it/s]\n",
      "   iteration:   0%|          | 0/10 [00:00<?, ?it/s]\u001b[A\n",
      "loss: -13.73:   0%|          | 0/10 [00:01<?, ?it/s]\u001b[A\n",
      "loss: -13.73:  10%|█         | 1/10 [00:01<00:17,  1.89s/it]\u001b[A\n",
      "loss: -13.91:  10%|█         | 1/10 [00:03<00:17,  1.89s/it]\u001b[A\n",
      "loss: -13.91:  20%|██        | 2/10 [00:03<00:15,  1.90s/it]\u001b[A\n",
      "loss: -15.40:  20%|██        | 2/10 [00:05<00:15,  1.90s/it]\u001b[A\n",
      "loss: -15.40:  30%|███       | 3/10 [00:05<00:13,  1.91s/it]\u001b[A\n",
      "loss: -15.67:  30%|███       | 3/10 [00:07<00:13,  1.91s/it]\u001b[A\n",
      "loss: -15.67:  40%|████      | 4/10 [00:07<00:11,  1.91s/it]\u001b[A\n",
      "\n",
      "image update:  50%|█████     | 1/2.0 [00:10<00:10, 10.51s/it]\u001b[A\u001b[A\n",
      "loss: -16.30:  40%|████      | 4/10 [00:10<00:11,  1.91s/it]\u001b[A\n",
      "loss: -16.30:  50%|█████     | 5/10 [00:10<00:11,  2.37s/it]\u001b[A\n",
      "loss: -16.28:  50%|█████     | 5/10 [00:12<00:11,  2.37s/it]\u001b[A\n",
      "loss: -16.28:  60%|██████    | 6/10 [00:12<00:08,  2.21s/it]\u001b[A\n",
      "loss: -17.60:  60%|██████    | 6/10 [00:14<00:08,  2.21s/it]\u001b[A\n",
      "loss: -17.60:  70%|███████   | 7/10 [00:14<00:06,  2.11s/it]\u001b[A\n",
      "loss: -17.16:  70%|███████   | 7/10 [00:16<00:06,  2.11s/it]\u001b[A\n",
      "loss: -17.16:  80%|████████  | 8/10 [00:16<00:04,  2.04s/it]\u001b[A\n",
      "loss: -16.99:  80%|████████  | 8/10 [00:18<00:04,  2.04s/it]\u001b[A\n",
      "loss: -16.99:  90%|█████████ | 9/10 [00:18<00:01,  2.00s/it]\u001b[A\n",
      "\n",
      "image update: 100%|██████████| 2/2.0 [00:21<00:00, 10.67s/it]\u001b[A\u001b[A\n",
      "loss: -16.82:  90%|█████████ | 9/10 [00:21<00:01,  2.00s/it]\u001b[A\n",
      "loss: -16.82: 100%|██████████| 10/10 [00:21<00:00,  2.16s/it]\n",
      "      epochs: 100%|██████████| 1/1 [00:21<00:00, 21.62s/it]\n",
      "image update: 100%|██████████| 2/2.0 [00:22<00:00, 11.29s/it]\n"
     ]
    },
    {
     "name": "stdout",
     "output_type": "stream",
     "text": [
      "Imagining \"Femme_Colonne\" ...\n"
     ]
    },
    {
     "name": "stderr",
     "output_type": "stream",
     "text": [
      "\n",
      "\n",
      "      epochs:   0%|          | 0/1 [00:00<?, ?it/s]\n",
      "   iteration:   0%|          | 0/10 [00:00<?, ?it/s]\u001b[A\n",
      "loss: -16.02:   0%|          | 0/10 [00:01<?, ?it/s]\u001b[A\n",
      "loss: -16.02:  10%|█         | 1/10 [00:01<00:17,  1.89s/it]\u001b[A\n",
      "loss: -14.10:  10%|█         | 1/10 [00:03<00:17,  1.89s/it]\u001b[A\n",
      "loss: -14.10:  20%|██        | 2/10 [00:03<00:15,  1.89s/it]\u001b[A\n",
      "loss: -14.93:  20%|██        | 2/10 [00:05<00:15,  1.89s/it]\u001b[A\n",
      "loss: -14.93:  30%|███       | 3/10 [00:05<00:13,  1.90s/it]\u001b[A\n",
      "loss: -15.31:  30%|███       | 3/10 [00:07<00:13,  1.90s/it]\u001b[A\n",
      "loss: -15.31:  40%|████      | 4/10 [00:07<00:11,  1.90s/it]\u001b[A\n",
      "\n",
      "image update:  50%|█████     | 1/2.0 [00:10<00:10, 10.47s/it]\u001b[A\u001b[A\n",
      "loss: -14.69:  40%|████      | 4/10 [00:10<00:11,  1.90s/it]\u001b[A\n",
      "loss: -14.69:  50%|█████     | 5/10 [00:10<00:11,  2.37s/it]\u001b[A\n",
      "loss: -14.45:  50%|█████     | 5/10 [00:12<00:11,  2.37s/it]\u001b[A\n",
      "loss: -14.45:  60%|██████    | 6/10 [00:12<00:08,  2.21s/it]\u001b[A\n",
      "loss: -14.80:  60%|██████    | 6/10 [00:14<00:08,  2.21s/it]\u001b[A\n",
      "loss: -14.80:  70%|███████   | 7/10 [00:14<00:06,  2.11s/it]\u001b[A\n",
      "loss: -15.52:  70%|███████   | 7/10 [00:16<00:06,  2.11s/it]\u001b[A\n",
      "loss: -15.52:  80%|████████  | 8/10 [00:16<00:04,  2.05s/it]\u001b[A\n",
      "loss: -15.47:  80%|████████  | 8/10 [00:18<00:04,  2.05s/it]\u001b[A\n",
      "loss: -15.47:  90%|█████████ | 9/10 [00:18<00:02,  2.00s/it]\u001b[A\n",
      "\n",
      "image update: 100%|██████████| 2/2.0 [00:21<00:00, 10.69s/it]\u001b[A\u001b[A\n",
      "loss: -16.17:  90%|█████████ | 9/10 [00:21<00:02,  2.00s/it]\u001b[A\n",
      "loss: -16.17: 100%|██████████| 10/10 [00:21<00:00,  2.17s/it]\n",
      "      epochs: 100%|██████████| 1/1 [00:21<00:00, 21.69s/it]\n",
      "image update: 100%|██████████| 2/2.0 [00:22<00:00, 11.30s/it]\n"
     ]
    },
    {
     "name": "stdout",
     "output_type": "stream",
     "text": [
      "Imagining \"Like_a_filter_matters_passed_through_you_and_became_a_part_of_you\" ...\n"
     ]
    },
    {
     "name": "stderr",
     "output_type": "stream",
     "text": [
      "\n",
      "\n",
      "      epochs:   0%|          | 0/1 [00:00<?, ?it/s]\n",
      "   iteration:   0%|          | 0/10 [00:00<?, ?it/s]\u001b[A\n",
      "loss: -14.05:   0%|          | 0/10 [00:01<?, ?it/s]\u001b[A\n",
      "loss: -14.05:  10%|█         | 1/10 [00:01<00:16,  1.89s/it]\u001b[A\n",
      "loss: -13.32:  10%|█         | 1/10 [00:03<00:16,  1.89s/it]\u001b[A\n",
      "loss: -13.32:  20%|██        | 2/10 [00:03<00:15,  1.90s/it]\u001b[A\n",
      "loss: -14.01:  20%|██        | 2/10 [00:05<00:15,  1.90s/it]\u001b[A\n",
      "loss: -14.01:  30%|███       | 3/10 [00:05<00:13,  1.90s/it]\u001b[A\n",
      "loss: -15.14:  30%|███       | 3/10 [00:07<00:13,  1.90s/it]\u001b[A\n",
      "loss: -15.14:  40%|████      | 4/10 [00:07<00:11,  1.91s/it]\u001b[A\n",
      "\n",
      "image update:  50%|█████     | 1/2.0 [00:10<00:10, 10.48s/it]\u001b[A\u001b[A\n",
      "loss: -13.34:  40%|████      | 4/10 [00:10<00:11,  1.91s/it]\u001b[A\n",
      "loss: -13.34:  50%|█████     | 5/10 [00:10<00:11,  2.35s/it]\u001b[A\n",
      "loss: -12.94:  50%|█████     | 5/10 [00:12<00:11,  2.35s/it]\u001b[A\n",
      "loss: -12.94:  60%|██████    | 6/10 [00:12<00:08,  2.20s/it]\u001b[A\n",
      "loss: -14.87:  60%|██████    | 6/10 [00:14<00:08,  2.20s/it]\u001b[A\n",
      "loss: -14.87:  70%|███████   | 7/10 [00:14<00:06,  2.11s/it]\u001b[A\n",
      "loss: -14.11:  70%|███████   | 7/10 [00:16<00:06,  2.11s/it]\u001b[A\n",
      "loss: -14.11:  80%|████████  | 8/10 [00:16<00:04,  2.04s/it]\u001b[A\n",
      "loss: -15.30:  80%|████████  | 8/10 [00:18<00:04,  2.04s/it]\u001b[A\n",
      "loss: -15.30:  90%|█████████ | 9/10 [00:18<00:02,  2.00s/it]\u001b[A\n",
      "\n",
      "image update: 100%|██████████| 2/2.0 [00:21<00:00, 10.66s/it]\u001b[A\u001b[A\n",
      "loss: -16.06:  90%|█████████ | 9/10 [00:21<00:02,  2.00s/it]\u001b[A\n",
      "loss: -16.06: 100%|██████████| 10/10 [00:21<00:00,  2.14s/it]\n",
      "      epochs: 100%|██████████| 1/1 [00:21<00:00, 21.46s/it]\n",
      "image update: 100%|██████████| 2/2.0 [00:22<00:00, 11.19s/it]\n"
     ]
    },
    {
     "name": "stdout",
     "output_type": "stream",
     "text": [
      "Imagining \"Wet_Job\" ...\n"
     ]
    },
    {
     "name": "stderr",
     "output_type": "stream",
     "text": [
      "\n",
      "\n",
      "      epochs:   0%|          | 0/1 [00:00<?, ?it/s]\n",
      "   iteration:   0%|          | 0/10 [00:00<?, ?it/s]\u001b[A\n",
      "loss: -14.01:   0%|          | 0/10 [00:01<?, ?it/s]\u001b[A\n",
      "loss: -14.01:  10%|█         | 1/10 [00:01<00:17,  1.89s/it]\u001b[A\n",
      "loss: -13.13:  10%|█         | 1/10 [00:03<00:17,  1.89s/it]\u001b[A\n",
      "loss: -13.13:  20%|██        | 2/10 [00:03<00:15,  1.91s/it]\u001b[A\n",
      "loss: -15.11:  20%|██        | 2/10 [00:05<00:15,  1.91s/it]\u001b[A\n",
      "loss: -15.11:  30%|███       | 3/10 [00:05<00:13,  1.91s/it]\u001b[A\n",
      "loss: -15.50:  30%|███       | 3/10 [00:07<00:13,  1.91s/it]\u001b[A\n",
      "loss: -15.50:  40%|████      | 4/10 [00:07<00:11,  1.91s/it]\u001b[A\n",
      "\n",
      "image update:  50%|█████     | 1/2.0 [00:10<00:10, 10.51s/it]\u001b[A\u001b[A\n",
      "loss: -15.70:  40%|████      | 4/10 [00:10<00:11,  1.91s/it]\u001b[A\n",
      "loss: -15.70:  50%|█████     | 5/10 [00:10<00:11,  2.37s/it]\u001b[A\n",
      "loss: -15.32:  50%|█████     | 5/10 [00:12<00:11,  2.37s/it]\u001b[A\n",
      "loss: -15.32:  60%|██████    | 6/10 [00:12<00:08,  2.21s/it]\u001b[A\n",
      "loss: -14.27:  60%|██████    | 6/10 [00:14<00:08,  2.21s/it]\u001b[A\n",
      "loss: -14.27:  70%|███████   | 7/10 [00:14<00:06,  2.11s/it]\u001b[A\n",
      "loss: -14.41:  70%|███████   | 7/10 [00:16<00:06,  2.11s/it]\u001b[A\n",
      "loss: -14.41:  80%|████████  | 8/10 [00:16<00:04,  2.05s/it]\u001b[A\n",
      "loss: -14.97:  80%|████████  | 8/10 [00:18<00:04,  2.05s/it]\u001b[A\n",
      "loss: -14.97:  90%|█████████ | 9/10 [00:18<00:02,  2.00s/it]\u001b[A\n",
      "\n",
      "image update: 100%|██████████| 2/2.0 [00:21<00:00, 10.68s/it]\u001b[A\u001b[A\n",
      "loss: -16.18:  90%|█████████ | 9/10 [00:21<00:02,  2.00s/it]\u001b[A\n",
      "loss: -16.18: 100%|██████████| 10/10 [00:21<00:00,  2.16s/it]\n",
      "      epochs: 100%|██████████| 1/1 [00:21<00:00, 21.59s/it]\n",
      "image update: 100%|██████████| 2/2.0 [00:22<00:00, 11.26s/it]\n"
     ]
    },
    {
     "name": "stdout",
     "output_type": "stream",
     "text": [
      "Imagining \"A_Maze_in_Grace\" ...\n"
     ]
    },
    {
     "name": "stderr",
     "output_type": "stream",
     "text": [
      "\n",
      "\n",
      "      epochs:   0%|          | 0/1 [00:00<?, ?it/s]\n",
      "   iteration:   0%|          | 0/10 [00:00<?, ?it/s]\u001b[A\n",
      "loss: -12.37:   0%|          | 0/10 [00:01<?, ?it/s]\u001b[A\n",
      "loss: -12.37:  10%|█         | 1/10 [00:01<00:16,  1.89s/it]\u001b[A\n",
      "loss: -14.70:  10%|█         | 1/10 [00:03<00:16,  1.89s/it]\u001b[A\n",
      "loss: -14.70:  20%|██        | 2/10 [00:03<00:15,  1.90s/it]\u001b[A\n",
      "loss: -15.78:  20%|██        | 2/10 [00:05<00:15,  1.90s/it]\u001b[A\n",
      "loss: -15.78:  30%|███       | 3/10 [00:05<00:13,  1.91s/it]\u001b[A\n",
      "loss: -16.37:  30%|███       | 3/10 [00:07<00:13,  1.91s/it]\u001b[A\n",
      "loss: -16.37:  40%|████      | 4/10 [00:07<00:11,  1.91s/it]\u001b[A\n",
      "\n",
      "image update:  50%|█████     | 1/2.0 [00:10<00:10, 10.46s/it]\u001b[A\u001b[A\n",
      "loss: -16.76:  40%|████      | 4/10 [00:10<00:11,  1.91s/it]\u001b[A\n",
      "loss: -16.76:  50%|█████     | 5/10 [00:10<00:11,  2.31s/it]\u001b[A\n",
      "loss: -17.11:  50%|█████     | 5/10 [00:12<00:11,  2.31s/it]\u001b[A\n",
      "loss: -17.11:  60%|██████    | 6/10 [00:12<00:08,  2.18s/it]\u001b[A\n",
      "loss: -16.61:  60%|██████    | 6/10 [00:14<00:08,  2.18s/it]\u001b[A\n",
      "loss: -16.61:  70%|███████   | 7/10 [00:14<00:06,  2.09s/it]\u001b[A\n",
      "loss: -17.66:  70%|███████   | 7/10 [00:16<00:06,  2.09s/it]\u001b[A\n",
      "loss: -17.66:  80%|████████  | 8/10 [00:16<00:04,  2.04s/it]\u001b[A\n",
      "loss: -15.49:  80%|████████  | 8/10 [00:18<00:04,  2.04s/it]\u001b[A\n",
      "loss: -15.49:  90%|█████████ | 9/10 [00:18<00:02,  2.00s/it]\u001b[A\n",
      "\n",
      "image update: 100%|██████████| 2/2.0 [00:21<00:00, 10.61s/it]\u001b[A\u001b[A\n",
      "loss: -16.59:  90%|█████████ | 9/10 [00:21<00:02,  2.00s/it]\u001b[A\n",
      "loss: -16.59: 100%|██████████| 10/10 [00:21<00:00,  2.14s/it]\n",
      "      epochs: 100%|██████████| 1/1 [00:21<00:00, 21.39s/it]\n",
      "image update: 100%|██████████| 2/2.0 [00:22<00:00, 11.17s/it]\n"
     ]
    },
    {
     "name": "stdout",
     "output_type": "stream",
     "text": [
      "Imagining \"The_Coast\" ...\n"
     ]
    },
    {
     "name": "stderr",
     "output_type": "stream",
     "text": [
      "\n",
      "\n",
      "      epochs:   0%|          | 0/1 [00:00<?, ?it/s]\n",
      "   iteration:   0%|          | 0/10 [00:00<?, ?it/s]\u001b[A\n",
      "loss: -12.49:   0%|          | 0/10 [00:01<?, ?it/s]\u001b[A\n",
      "loss: -12.49:  10%|█         | 1/10 [00:01<00:17,  1.89s/it]\u001b[A\n",
      "loss: -13.92:  10%|█         | 1/10 [00:03<00:17,  1.89s/it]\u001b[A\n",
      "loss: -13.92:  20%|██        | 2/10 [00:03<00:15,  1.91s/it]\u001b[A\n",
      "loss: -15.30:  20%|██        | 2/10 [00:05<00:15,  1.91s/it]\u001b[A\n",
      "loss: -15.30:  30%|███       | 3/10 [00:05<00:13,  1.91s/it]\u001b[A\n",
      "loss: -16.85:  30%|███       | 3/10 [00:07<00:13,  1.91s/it]\u001b[A\n",
      "loss: -16.85:  40%|████      | 4/10 [00:07<00:11,  1.91s/it]\u001b[A\n",
      "\n",
      "image update:  50%|█████     | 1/2.0 [00:10<00:10, 10.49s/it]\u001b[A\u001b[A\n",
      "loss: -16.46:  40%|████      | 4/10 [00:10<00:11,  1.91s/it]\u001b[A\n",
      "loss: -16.46:  50%|█████     | 5/10 [00:10<00:11,  2.33s/it]\u001b[A\n",
      "loss: -16.26:  50%|█████     | 5/10 [00:12<00:11,  2.33s/it]\u001b[A\n",
      "loss: -16.26:  60%|██████    | 6/10 [00:12<00:08,  2.19s/it]\u001b[A\n",
      "loss: -16.73:  60%|██████    | 6/10 [00:14<00:08,  2.19s/it]\u001b[A\n",
      "loss: -16.73:  70%|███████   | 7/10 [00:14<00:06,  2.10s/it]\u001b[A\n",
      "loss: -17.06:  70%|███████   | 7/10 [00:16<00:06,  2.10s/it]\u001b[A\n",
      "loss: -17.06:  80%|████████  | 8/10 [00:16<00:04,  2.04s/it]\u001b[A\n",
      "loss: -17.55:  80%|████████  | 8/10 [00:18<00:04,  2.04s/it]\u001b[A\n",
      "loss: -17.55:  90%|█████████ | 9/10 [00:18<00:02,  2.00s/it]\u001b[A\n",
      "\n",
      "image update: 100%|██████████| 2/2.0 [00:21<00:00, 10.63s/it]\u001b[A\u001b[A\n",
      "loss: -17.15:  90%|█████████ | 9/10 [00:21<00:02,  2.00s/it]\u001b[A\n",
      "loss: -17.15: 100%|██████████| 10/10 [00:21<00:00,  2.15s/it]\n",
      "      epochs: 100%|██████████| 1/1 [00:21<00:00, 21.48s/it]\n",
      "image update: 100%|██████████| 2/2.0 [00:22<00:00, 11.21s/it]\n"
     ]
    },
    {
     "name": "stdout",
     "output_type": "stream",
     "text": [
      "Imagining \"Jiibie\" ...\n"
     ]
    },
    {
     "name": "stderr",
     "output_type": "stream",
     "text": [
      "\n",
      "\n",
      "      epochs:   0%|          | 0/1 [00:00<?, ?it/s]\n",
      "   iteration:   0%|          | 0/10 [00:00<?, ?it/s]\u001b[A\n",
      "loss: -15.42:   0%|          | 0/10 [00:01<?, ?it/s]\u001b[A\n",
      "loss: -15.42:  10%|█         | 1/10 [00:01<00:17,  1.91s/it]\u001b[A\n",
      "loss: -16.78:  10%|█         | 1/10 [00:03<00:17,  1.91s/it]\u001b[A\n",
      "loss: -16.78:  20%|██        | 2/10 [00:03<00:15,  1.91s/it]\u001b[A\n",
      "loss: -18.32:  20%|██        | 2/10 [00:05<00:15,  1.91s/it]\u001b[A\n",
      "loss: -18.32:  30%|███       | 3/10 [00:05<00:13,  1.92s/it]\u001b[A\n",
      "loss: -17.80:  30%|███       | 3/10 [00:07<00:13,  1.92s/it]\u001b[A\n",
      "loss: -17.80:  40%|████      | 4/10 [00:07<00:11,  1.92s/it]\u001b[A\n",
      "\n",
      "image update:  50%|█████     | 1/2.0 [00:10<00:10, 10.52s/it]\u001b[A\u001b[A\n",
      "loss: -17.36:  40%|████      | 4/10 [00:10<00:11,  1.92s/it]\u001b[A\n",
      "loss: -17.36:  50%|█████     | 5/10 [00:10<00:11,  2.36s/it]\u001b[A\n",
      "loss: -16.94:  50%|█████     | 5/10 [00:12<00:11,  2.36s/it]\u001b[A\n",
      "loss: -16.94:  60%|██████    | 6/10 [00:12<00:08,  2.21s/it]\u001b[A\n",
      "loss: -16.94:  60%|██████    | 6/10 [00:14<00:08,  2.21s/it]\u001b[A\n",
      "loss: -16.94:  70%|███████   | 7/10 [00:14<00:06,  2.12s/it]\u001b[A\n",
      "loss: -17.00:  70%|███████   | 7/10 [00:16<00:06,  2.12s/it]\u001b[A\n",
      "loss: -17.00:  80%|████████  | 8/10 [00:16<00:04,  2.05s/it]\u001b[A\n",
      "loss: -17.03:  80%|████████  | 8/10 [00:18<00:04,  2.05s/it]\u001b[A\n",
      "loss: -17.03:  90%|█████████ | 9/10 [00:18<00:02,  2.01s/it]\u001b[A\n",
      "\n",
      "image update: 100%|██████████| 2/2.0 [00:21<00:00, 10.70s/it]\u001b[A\u001b[A\n",
      "loss: -16.54:  90%|█████████ | 9/10 [00:21<00:02,  2.01s/it]\u001b[A\n",
      "loss: -16.54: 100%|██████████| 10/10 [00:21<00:00,  2.15s/it]\n",
      "      epochs: 100%|██████████| 1/1 [00:21<00:00, 21.52s/it]\n",
      "image update: 100%|██████████| 2/2.0 [00:22<00:00, 11.22s/it]\n"
     ]
    },
    {
     "name": "stdout",
     "output_type": "stream",
     "text": [
      "Imagining \"Bower_of_Bliss\" ...\n"
     ]
    },
    {
     "name": "stderr",
     "output_type": "stream",
     "text": [
      "\n",
      "\n",
      "      epochs:   0%|          | 0/1 [00:00<?, ?it/s]\n",
      "   iteration:   0%|          | 0/10 [00:00<?, ?it/s]\u001b[A\n",
      "loss: -15.32:   0%|          | 0/10 [00:01<?, ?it/s]\u001b[A\n",
      "loss: -15.32:  10%|█         | 1/10 [00:01<00:16,  1.89s/it]\u001b[A\n",
      "loss: -17.00:  10%|█         | 1/10 [00:03<00:16,  1.89s/it]\u001b[A\n",
      "loss: -17.00:  20%|██        | 2/10 [00:03<00:15,  1.90s/it]\u001b[A\n",
      "loss: -15.70:  20%|██        | 2/10 [00:05<00:15,  1.90s/it]\u001b[A\n",
      "loss: -15.70:  30%|███       | 3/10 [00:05<00:13,  1.91s/it]\u001b[A\n",
      "loss: -16.71:  30%|███       | 3/10 [00:07<00:13,  1.91s/it]\u001b[A\n",
      "loss: -16.71:  40%|████      | 4/10 [00:07<00:11,  1.91s/it]\u001b[A\n",
      "\n",
      "image update:  50%|█████     | 1/2.0 [00:10<00:10, 10.49s/it]\u001b[A\u001b[A\n",
      "loss: -17.08:  40%|████      | 4/10 [00:10<00:11,  1.91s/it]\u001b[A\n",
      "loss: -17.08:  50%|█████     | 5/10 [00:10<00:11,  2.32s/it]\u001b[A\n",
      "loss: -17.04:  50%|█████     | 5/10 [00:12<00:11,  2.32s/it]\u001b[A\n",
      "loss: -17.04:  60%|██████    | 6/10 [00:12<00:08,  2.19s/it]\u001b[A\n",
      "loss: -17.62:  60%|██████    | 6/10 [00:14<00:08,  2.19s/it]\u001b[A\n",
      "loss: -17.62:  70%|███████   | 7/10 [00:14<00:06,  2.10s/it]\u001b[A\n",
      "loss: -18.46:  70%|███████   | 7/10 [00:16<00:06,  2.10s/it]\u001b[A\n",
      "loss: -18.46:  80%|████████  | 8/10 [00:16<00:04,  2.04s/it]\u001b[A\n",
      "loss: -18.26:  80%|████████  | 8/10 [00:18<00:04,  2.04s/it]\u001b[A\n",
      "loss: -18.26:  90%|█████████ | 9/10 [00:18<00:02,  2.00s/it]\u001b[A\n",
      "\n",
      "image update: 100%|██████████| 2/2.0 [00:21<00:00, 10.64s/it]\u001b[A\u001b[A\n",
      "loss: -18.44:  90%|█████████ | 9/10 [00:21<00:02,  2.00s/it]\u001b[A\n",
      "loss: -18.44: 100%|██████████| 10/10 [00:21<00:00,  2.15s/it]\n",
      "      epochs: 100%|██████████| 1/1 [00:21<00:00, 21.47s/it]\n",
      "image update: 100%|██████████| 2/2.0 [00:22<00:00, 11.20s/it]\n"
     ]
    },
    {
     "name": "stdout",
     "output_type": "stream",
     "text": [
      "Imagining \"Stacked_Heads\" ...\n"
     ]
    },
    {
     "name": "stderr",
     "output_type": "stream",
     "text": [
      "\n",
      "\n",
      "      epochs:   0%|          | 0/1 [00:00<?, ?it/s]\n",
      "   iteration:   0%|          | 0/10 [00:00<?, ?it/s]\u001b[A\n",
      "loss: -14.44:   0%|          | 0/10 [00:01<?, ?it/s]\u001b[A\n",
      "loss: -14.44:  10%|█         | 1/10 [00:01<00:17,  1.90s/it]\u001b[A\n",
      "loss: -14.95:  10%|█         | 1/10 [00:03<00:17,  1.90s/it]\u001b[A\n",
      "loss: -14.95:  20%|██        | 2/10 [00:03<00:15,  1.91s/it]\u001b[A\n",
      "loss: -13.57:  20%|██        | 2/10 [00:05<00:15,  1.91s/it]\u001b[A\n",
      "loss: -13.57:  30%|███       | 3/10 [00:05<00:13,  1.92s/it]\u001b[A\n",
      "loss: -12.48:  30%|███       | 3/10 [00:07<00:13,  1.92s/it]\u001b[A\n",
      "loss: -12.48:  40%|████      | 4/10 [00:07<00:11,  1.92s/it]\u001b[A\n",
      "\n",
      "image update:  50%|█████     | 1/2.0 [00:10<00:10, 10.46s/it]\u001b[A\u001b[A\n",
      "loss: -12.90:  40%|████      | 4/10 [00:10<00:11,  1.92s/it]\u001b[A\n",
      "loss: -12.90:  50%|█████     | 5/10 [00:10<00:11,  2.29s/it]\u001b[A\n",
      "loss: -13.83:  50%|█████     | 5/10 [00:12<00:11,  2.29s/it]\u001b[A\n",
      "loss: -13.83:  60%|██████    | 6/10 [00:12<00:08,  2.16s/it]\u001b[A\n",
      "loss: -13.66:  60%|██████    | 6/10 [00:14<00:08,  2.16s/it]\u001b[A\n",
      "loss: -13.66:  70%|███████   | 7/10 [00:14<00:06,  2.08s/it]\u001b[A\n",
      "loss: -14.08:  70%|███████   | 7/10 [00:16<00:06,  2.08s/it]\u001b[A\n",
      "loss: -14.08:  80%|████████  | 8/10 [00:16<00:04,  2.03s/it]\u001b[A\n",
      "loss: -14.00:  80%|████████  | 8/10 [00:18<00:04,  2.03s/it]\u001b[A\n",
      "loss: -14.00:  90%|█████████ | 9/10 [00:18<00:01,  1.99s/it]\u001b[A\n",
      "\n",
      "image update: 100%|██████████| 2/2.0 [00:21<00:00, 10.56s/it]\u001b[A\u001b[A\n",
      "loss: -13.69:  90%|█████████ | 9/10 [00:21<00:01,  1.99s/it]\u001b[A\n",
      "loss: -13.69: 100%|██████████| 10/10 [00:21<00:00,  2.12s/it]\n",
      "      epochs: 100%|██████████| 1/1 [00:21<00:00, 21.18s/it]\n",
      "image update: 100%|██████████| 2/2.0 [00:22<00:00, 11.06s/it]\n"
     ]
    },
    {
     "name": "stdout",
     "output_type": "stream",
     "text": [
      "Imagining \"Mauvaise_Alphabet\" ...\n"
     ]
    },
    {
     "name": "stderr",
     "output_type": "stream",
     "text": [
      "\n",
      "\n",
      "      epochs:   0%|          | 0/1 [00:00<?, ?it/s]\n",
      "   iteration:   0%|          | 0/10 [00:00<?, ?it/s]\u001b[A\n",
      "loss: -9.72:   0%|          | 0/10 [00:01<?, ?it/s] \u001b[A\n",
      "loss: -9.72:  10%|█         | 1/10 [00:01<00:17,  1.90s/it]\u001b[A\n",
      "loss: -11.12:  10%|█         | 1/10 [00:03<00:17,  1.90s/it]\u001b[A\n",
      "loss: -11.12:  20%|██        | 2/10 [00:03<00:15,  1.91s/it]\u001b[A\n",
      "loss: -11.72:  20%|██        | 2/10 [00:05<00:15,  1.91s/it]\u001b[A\n",
      "loss: -11.72:  30%|███       | 3/10 [00:05<00:13,  1.91s/it]\u001b[A\n",
      "loss: -12.52:  30%|███       | 3/10 [00:07<00:13,  1.91s/it]\u001b[A\n",
      "loss: -12.52:  40%|████      | 4/10 [00:07<00:11,  1.91s/it]\u001b[A\n",
      "\n",
      "image update:  50%|█████     | 1/2.0 [00:10<00:10, 10.43s/it]\u001b[A\u001b[A\n",
      "loss: -12.57:  40%|████      | 4/10 [00:10<00:11,  1.91s/it]\u001b[A\n",
      "loss: -12.57:  50%|█████     | 5/10 [00:10<00:11,  2.28s/it]\u001b[A\n",
      "loss: -13.29:  50%|█████     | 5/10 [00:12<00:11,  2.28s/it]\u001b[A\n",
      "loss: -13.29:  60%|██████    | 6/10 [00:12<00:08,  2.16s/it]\u001b[A\n",
      "loss: -13.02:  60%|██████    | 6/10 [00:14<00:08,  2.16s/it]\u001b[A\n",
      "loss: -13.02:  70%|███████   | 7/10 [00:14<00:06,  2.08s/it]\u001b[A\n",
      "loss: -13.42:  70%|███████   | 7/10 [00:16<00:06,  2.08s/it]\u001b[A\n",
      "loss: -13.42:  80%|████████  | 8/10 [00:16<00:04,  2.03s/it]\u001b[A\n",
      "loss: -13.50:  80%|████████  | 8/10 [00:18<00:04,  2.03s/it]\u001b[A\n",
      "loss: -13.50:  90%|█████████ | 9/10 [00:18<00:01,  1.99s/it]\u001b[A\n",
      "\n",
      "image update: 100%|██████████| 2/2.0 [00:21<00:00, 10.53s/it]\u001b[A\u001b[A\n",
      "loss: -13.37:  90%|█████████ | 9/10 [00:21<00:01,  1.99s/it]\u001b[A\n",
      "loss: -13.37: 100%|██████████| 10/10 [00:21<00:00,  2.12s/it]\n",
      "      epochs: 100%|██████████| 1/1 [00:21<00:00, 21.22s/it]\n",
      "image update: 100%|██████████| 2/2.0 [00:22<00:00, 11.07s/it]\n"
     ]
    },
    {
     "name": "stdout",
     "output_type": "stream",
     "text": [
      "Imagining \"GRITO_Las_Brisas_de_Febrero\" ...\n"
     ]
    },
    {
     "name": "stderr",
     "output_type": "stream",
     "text": [
      "\n",
      "\n",
      "      epochs:   0%|          | 0/1 [00:00<?, ?it/s]\n",
      "   iteration:   0%|          | 0/10 [00:00<?, ?it/s]\u001b[A\n",
      "loss: -14.04:   0%|          | 0/10 [00:01<?, ?it/s]\u001b[A\n",
      "loss: -14.04:  10%|█         | 1/10 [00:01<00:17,  1.89s/it]\u001b[A\n",
      "loss: -14.94:  10%|█         | 1/10 [00:03<00:17,  1.89s/it]\u001b[A\n",
      "loss: -14.94:  20%|██        | 2/10 [00:03<00:15,  1.91s/it]\u001b[A\n",
      "loss: -12.89:  20%|██        | 2/10 [00:05<00:15,  1.91s/it]\u001b[A\n",
      "loss: -12.89:  30%|███       | 3/10 [00:05<00:13,  1.91s/it]\u001b[A\n",
      "loss: -13.09:  30%|███       | 3/10 [00:07<00:13,  1.91s/it]\u001b[A\n",
      "loss: -13.09:  40%|████      | 4/10 [00:07<00:11,  1.91s/it]\u001b[A\n",
      "\n",
      "image update:  50%|█████     | 1/2.0 [00:10<00:10, 10.52s/it]\u001b[A\u001b[A\n",
      "loss: -13.26:  40%|████      | 4/10 [00:10<00:11,  1.91s/it]\u001b[A\n",
      "loss: -13.26:  50%|█████     | 5/10 [00:10<00:11,  2.36s/it]\u001b[A\n",
      "loss: -13.95:  50%|█████     | 5/10 [00:12<00:11,  2.36s/it]\u001b[A\n",
      "loss: -13.95:  60%|██████    | 6/10 [00:12<00:08,  2.21s/it]\u001b[A\n",
      "loss: -14.96:  60%|██████    | 6/10 [00:14<00:08,  2.21s/it]\u001b[A\n",
      "loss: -14.96:  70%|███████   | 7/10 [00:14<00:06,  2.12s/it]\u001b[A\n",
      "loss: -14.70:  70%|███████   | 7/10 [00:16<00:06,  2.12s/it]\u001b[A\n",
      "loss: -14.70:  80%|████████  | 8/10 [00:16<00:04,  2.05s/it]\u001b[A\n",
      "loss: -14.88:  80%|████████  | 8/10 [00:18<00:04,  2.05s/it]\u001b[A\n",
      "loss: -14.88:  90%|█████████ | 9/10 [00:18<00:02,  2.01s/it]\u001b[A\n",
      "\n",
      "image update: 100%|██████████| 2/2.0 [00:21<00:00, 10.70s/it]\u001b[A\u001b[A\n",
      "loss: -15.67:  90%|█████████ | 9/10 [00:21<00:02,  2.01s/it]\u001b[A\n",
      "loss: -15.67: 100%|██████████| 10/10 [00:21<00:00,  2.15s/it]\n",
      "      epochs: 100%|██████████| 1/1 [00:21<00:00, 21.52s/it]\n",
      "image update: 100%|██████████| 2/2.0 [00:22<00:00, 11.21s/it]\n"
     ]
    },
    {
     "name": "stdout",
     "output_type": "stream",
     "text": [
      "Imagining \"Balindile_I\" ...\n"
     ]
    },
    {
     "name": "stderr",
     "output_type": "stream",
     "text": [
      "\n",
      "\n",
      "      epochs:   0%|          | 0/1 [00:00<?, ?it/s]\n",
      "   iteration:   0%|          | 0/10 [00:00<?, ?it/s]\u001b[A\n",
      "loss: -16.06:   0%|          | 0/10 [00:01<?, ?it/s]\u001b[A\n",
      "loss: -16.06:  10%|█         | 1/10 [00:01<00:17,  1.89s/it]\u001b[A\n",
      "loss: -17.30:  10%|█         | 1/10 [00:03<00:17,  1.89s/it]\u001b[A\n",
      "loss: -17.30:  20%|██        | 2/10 [00:03<00:15,  1.91s/it]\u001b[A\n",
      "loss: -17.62:  20%|██        | 2/10 [00:05<00:15,  1.91s/it]\u001b[A\n",
      "loss: -17.62:  30%|███       | 3/10 [00:05<00:13,  1.91s/it]\u001b[A\n",
      "loss: -17.72:  30%|███       | 3/10 [00:07<00:13,  1.91s/it]\u001b[A\n",
      "loss: -17.72:  40%|████      | 4/10 [00:07<00:11,  1.91s/it]\u001b[A\n",
      "\n",
      "image update:  50%|█████     | 1/2.0 [00:10<00:10, 10.52s/it]\u001b[A\u001b[A\n",
      "loss: -18.60:  40%|████      | 4/10 [00:10<00:11,  1.91s/it]\u001b[A\n",
      "loss: -18.60:  50%|█████     | 5/10 [00:10<00:11,  2.37s/it]\u001b[A\n",
      "loss: -18.62:  50%|█████     | 5/10 [00:12<00:11,  2.37s/it]\u001b[A\n",
      "loss: -18.62:  60%|██████    | 6/10 [00:12<00:08,  2.21s/it]\u001b[A\n",
      "loss: -19.23:  60%|██████    | 6/10 [00:14<00:08,  2.21s/it]\u001b[A\n",
      "loss: -19.23:  70%|███████   | 7/10 [00:14<00:06,  2.12s/it]\u001b[A\n",
      "loss: -19.09:  70%|███████   | 7/10 [00:16<00:06,  2.12s/it]\u001b[A\n",
      "loss: -19.09:  80%|████████  | 8/10 [00:16<00:04,  2.05s/it]\u001b[A\n",
      "loss: -18.62:  80%|████████  | 8/10 [00:18<00:04,  2.05s/it]\u001b[A\n",
      "loss: -18.62:  90%|█████████ | 9/10 [00:18<00:02,  2.01s/it]\u001b[A\n",
      "\n",
      "image update: 100%|██████████| 2/2.0 [00:21<00:00, 10.71s/it]\u001b[A\u001b[A\n",
      "loss: -17.53:  90%|█████████ | 9/10 [00:21<00:02,  2.01s/it]\u001b[A\n",
      "loss: -17.53: 100%|██████████| 10/10 [00:21<00:00,  2.17s/it]\n",
      "      epochs: 100%|██████████| 1/1 [00:21<00:00, 21.71s/it]\n",
      "image update: 100%|██████████| 2/2.0 [00:22<00:00, 11.32s/it]\n"
     ]
    },
    {
     "name": "stdout",
     "output_type": "stream",
     "text": [
      "Imagining \"Superposition\" ...\n"
     ]
    },
    {
     "name": "stderr",
     "output_type": "stream",
     "text": [
      "\n",
      "\n",
      "      epochs:   0%|          | 0/1 [00:00<?, ?it/s]\n",
      "   iteration:   0%|          | 0/10 [00:00<?, ?it/s]\u001b[A\n",
      "loss: -13.42:   0%|          | 0/10 [00:01<?, ?it/s]\u001b[A\n",
      "loss: -13.42:  10%|█         | 1/10 [00:01<00:17,  1.89s/it]\u001b[A\n",
      "loss: -12.89:  10%|█         | 1/10 [00:03<00:17,  1.89s/it]\u001b[A\n",
      "loss: -12.89:  20%|██        | 2/10 [00:03<00:15,  1.91s/it]\u001b[A\n",
      "loss: -13.70:  20%|██        | 2/10 [00:05<00:15,  1.91s/it]\u001b[A\n",
      "loss: -13.70:  30%|███       | 3/10 [00:05<00:13,  1.91s/it]\u001b[A\n",
      "loss: -14.60:  30%|███       | 3/10 [00:07<00:13,  1.91s/it]\u001b[A\n",
      "loss: -14.60:  40%|████      | 4/10 [00:07<00:11,  1.91s/it]\u001b[A\n",
      "\n",
      "image update:  50%|█████     | 1/2.0 [00:10<00:10, 10.51s/it]\u001b[A\u001b[A\n",
      "loss: -16.50:  40%|████      | 4/10 [00:10<00:11,  1.91s/it]\u001b[A\n",
      "loss: -16.50:  50%|█████     | 5/10 [00:10<00:11,  2.36s/it]\u001b[A\n",
      "loss: -17.44:  50%|█████     | 5/10 [00:12<00:11,  2.36s/it]\u001b[A\n",
      "loss: -17.44:  60%|██████    | 6/10 [00:12<00:08,  2.21s/it]\u001b[A\n",
      "loss: -17.15:  60%|██████    | 6/10 [00:14<00:08,  2.21s/it]\u001b[A\n",
      "loss: -17.15:  70%|███████   | 7/10 [00:14<00:06,  2.11s/it]\u001b[A\n",
      "loss: -18.54:  70%|███████   | 7/10 [00:16<00:06,  2.11s/it]\u001b[A\n",
      "loss: -18.54:  80%|████████  | 8/10 [00:16<00:04,  2.05s/it]\u001b[A\n",
      "loss: -16.98:  80%|████████  | 8/10 [00:18<00:04,  2.05s/it]\u001b[A\n",
      "loss: -16.98:  90%|█████████ | 9/10 [00:18<00:02,  2.01s/it]\u001b[A\n",
      "\n",
      "image update: 100%|██████████| 2/2.0 [00:21<00:00, 10.68s/it]\u001b[A\u001b[A\n",
      "loss: -18.53:  90%|█████████ | 9/10 [00:21<00:02,  2.01s/it]\u001b[A\n",
      "loss: -18.53: 100%|██████████| 10/10 [00:21<00:00,  2.16s/it]\n",
      "      epochs: 100%|██████████| 1/1 [00:21<00:00, 21.58s/it]\n",
      "image update: 100%|██████████| 2/2.0 [00:22<00:00, 11.24s/it]\n"
     ]
    },
    {
     "name": "stdout",
     "output_type": "stream",
     "text": [
      "Imagining \"I_sing_of_the_sea_I_am_mermaid_of_the_trees\" ...\n"
     ]
    },
    {
     "name": "stderr",
     "output_type": "stream",
     "text": [
      "\n",
      "\n",
      "      epochs:   0%|          | 0/1 [00:00<?, ?it/s]\n",
      "   iteration:   0%|          | 0/10 [00:00<?, ?it/s]\u001b[A\n",
      "loss: -10.59:   0%|          | 0/10 [00:01<?, ?it/s]\u001b[A\n",
      "loss: -10.59:  10%|█         | 1/10 [00:01<00:17,  1.89s/it]\u001b[A\n",
      "loss: -15.01:  10%|█         | 1/10 [00:03<00:17,  1.89s/it]\u001b[A\n",
      "loss: -15.01:  20%|██        | 2/10 [00:03<00:15,  1.91s/it]\u001b[A\n",
      "loss: -14.05:  20%|██        | 2/10 [00:05<00:15,  1.91s/it]\u001b[A\n",
      "loss: -14.05:  30%|███       | 3/10 [00:05<00:13,  1.91s/it]\u001b[A\n",
      "loss: -15.09:  30%|███       | 3/10 [00:07<00:13,  1.91s/it]\u001b[A\n",
      "loss: -15.09:  40%|████      | 4/10 [00:07<00:11,  1.91s/it]\u001b[A\n",
      "\n",
      "image update:  50%|█████     | 1/2.0 [00:10<00:10, 10.53s/it]\u001b[A\u001b[A\n",
      "loss: -15.96:  40%|████      | 4/10 [00:10<00:11,  1.91s/it]\u001b[A\n",
      "loss: -15.96:  50%|█████     | 5/10 [00:10<00:11,  2.37s/it]\u001b[A\n",
      "loss: -15.71:  50%|█████     | 5/10 [00:12<00:11,  2.37s/it]\u001b[A\n",
      "loss: -15.71:  60%|██████    | 6/10 [00:12<00:08,  2.22s/it]\u001b[A\n",
      "loss: -17.07:  60%|██████    | 6/10 [00:14<00:08,  2.22s/it]\u001b[A\n",
      "loss: -17.07:  70%|███████   | 7/10 [00:14<00:06,  2.12s/it]\u001b[A\n",
      "loss: -17.12:  70%|███████   | 7/10 [00:16<00:06,  2.12s/it]\u001b[A\n",
      "loss: -17.12:  80%|████████  | 8/10 [00:16<00:04,  2.06s/it]\u001b[A\n",
      "loss: -16.69:  80%|████████  | 8/10 [00:18<00:04,  2.06s/it]\u001b[A\n",
      "loss: -16.69:  90%|█████████ | 9/10 [00:18<00:02,  2.01s/it]\u001b[A\n",
      "\n",
      "image update: 100%|██████████| 2/2.0 [00:21<00:00, 10.72s/it]\u001b[A\u001b[A\n",
      "loss: -15.81:  90%|█████████ | 9/10 [00:21<00:02,  2.01s/it]\u001b[A\n",
      "loss: -15.81: 100%|██████████| 10/10 [00:21<00:00,  2.17s/it]\n",
      "      epochs: 100%|██████████| 1/1 [00:21<00:00, 21.69s/it]\n",
      "image update: 100%|██████████| 2/2.0 [00:22<00:00, 11.31s/it]\n"
     ]
    },
    {
     "name": "stdout",
     "output_type": "stream",
     "text": [
      "Imagining \"Human_ear_complaining_to_Nature_from_the_Spiegel_der_Weisheit_manuscript\" ...\n"
     ]
    },
    {
     "name": "stderr",
     "output_type": "stream",
     "text": [
      "\n",
      "\n",
      "      epochs:   0%|          | 0/1 [00:00<?, ?it/s]\n",
      "   iteration:   0%|          | 0/10 [00:00<?, ?it/s]\u001b[A\n",
      "loss: -11.71:   0%|          | 0/10 [00:01<?, ?it/s]\u001b[A\n",
      "loss: -11.71:  10%|█         | 1/10 [00:01<00:17,  1.89s/it]\u001b[A\n",
      "loss: -12.83:  10%|█         | 1/10 [00:03<00:17,  1.89s/it]\u001b[A\n",
      "loss: -12.83:  20%|██        | 2/10 [00:03<00:15,  1.91s/it]\u001b[A\n",
      "loss: -12.46:  20%|██        | 2/10 [00:05<00:15,  1.91s/it]\u001b[A\n",
      "loss: -12.46:  30%|███       | 3/10 [00:05<00:13,  1.91s/it]\u001b[A\n",
      "loss: -12.98:  30%|███       | 3/10 [00:07<00:13,  1.91s/it]\u001b[A\n",
      "loss: -12.98:  40%|████      | 4/10 [00:07<00:11,  1.91s/it]\u001b[A\n",
      "\n",
      "image update:  50%|█████     | 1/2.0 [00:10<00:10, 10.49s/it]\u001b[A\u001b[A\n",
      "loss: -14.88:  40%|████      | 4/10 [00:10<00:11,  1.91s/it]\u001b[A\n",
      "loss: -14.88:  50%|█████     | 5/10 [00:10<00:11,  2.35s/it]\u001b[A\n",
      "loss: -14.40:  50%|█████     | 5/10 [00:12<00:11,  2.35s/it]\u001b[A\n",
      "loss: -14.40:  60%|██████    | 6/10 [00:12<00:08,  2.20s/it]\u001b[A\n",
      "loss: -14.86:  60%|██████    | 6/10 [00:14<00:08,  2.20s/it]\u001b[A\n",
      "loss: -14.86:  70%|███████   | 7/10 [00:14<00:06,  2.11s/it]\u001b[A\n",
      "loss: -15.80:  70%|███████   | 7/10 [00:16<00:06,  2.11s/it]\u001b[A\n",
      "loss: -15.80:  80%|████████  | 8/10 [00:16<00:04,  2.04s/it]\u001b[A\n",
      "loss: -15.97:  80%|████████  | 8/10 [00:18<00:04,  2.04s/it]\u001b[A\n",
      "loss: -15.97:  90%|█████████ | 9/10 [00:18<00:02,  2.00s/it]\u001b[A\n",
      "\n",
      "image update: 100%|██████████| 2/2.0 [00:21<00:00, 10.65s/it]\u001b[A\u001b[A\n",
      "loss: -16.14:  90%|█████████ | 9/10 [00:21<00:02,  2.00s/it]\u001b[A\n",
      "loss: -16.14: 100%|██████████| 10/10 [00:21<00:00,  2.15s/it]\n",
      "      epochs: 100%|██████████| 1/1 [00:21<00:00, 21.51s/it]\n",
      "image update: 100%|██████████| 2/2.0 [00:22<00:00, 11.23s/it]\n"
     ]
    },
    {
     "name": "stdout",
     "output_type": "stream",
     "text": [
      "Imagining \"Mouth_of_Medusa\" ...\n"
     ]
    },
    {
     "name": "stderr",
     "output_type": "stream",
     "text": [
      "\n",
      "\n",
      "      epochs:   0%|          | 0/1 [00:00<?, ?it/s]\n",
      "   iteration:   0%|          | 0/10 [00:00<?, ?it/s]\u001b[A\n",
      "loss: -11.79:   0%|          | 0/10 [00:01<?, ?it/s]\u001b[A\n",
      "loss: -11.79:  10%|█         | 1/10 [00:01<00:17,  1.90s/it]\u001b[A\n",
      "loss: -10.06:  10%|█         | 1/10 [00:03<00:17,  1.90s/it]\u001b[A\n",
      "loss: -10.06:  20%|██        | 2/10 [00:03<00:15,  1.90s/it]\u001b[A\n",
      "loss: -12.46:  20%|██        | 2/10 [00:05<00:15,  1.90s/it]\u001b[A\n",
      "loss: -12.46:  30%|███       | 3/10 [00:05<00:13,  1.91s/it]\u001b[A\n",
      "loss: -11.71:  30%|███       | 3/10 [00:07<00:13,  1.91s/it]\u001b[A\n",
      "loss: -11.71:  40%|████      | 4/10 [00:07<00:11,  1.91s/it]\u001b[A\n",
      "\n",
      "image update:  50%|█████     | 1/2.0 [00:10<00:10, 10.45s/it]\u001b[A\u001b[A\n",
      "loss: -11.97:  40%|████      | 4/10 [00:10<00:11,  1.91s/it]\u001b[A\n",
      "loss: -11.97:  50%|█████     | 5/10 [00:10<00:11,  2.30s/it]\u001b[A\n",
      "loss: -12.75:  50%|█████     | 5/10 [00:12<00:11,  2.30s/it]\u001b[A\n",
      "loss: -12.75:  60%|██████    | 6/10 [00:12<00:08,  2.17s/it]\u001b[A\n",
      "loss: -14.11:  60%|██████    | 6/10 [00:14<00:08,  2.17s/it]\u001b[A\n",
      "loss: -14.11:  70%|███████   | 7/10 [00:14<00:06,  2.09s/it]\u001b[A\n",
      "loss: -15.07:  70%|███████   | 7/10 [00:16<00:06,  2.09s/it]\u001b[A\n",
      "loss: -15.07:  80%|████████  | 8/10 [00:16<00:04,  2.03s/it]\u001b[A\n",
      "loss: -16.71:  80%|████████  | 8/10 [00:18<00:04,  2.03s/it]\u001b[A\n",
      "loss: -16.71:  90%|█████████ | 9/10 [00:18<00:01,  2.00s/it]\u001b[A\n",
      "\n",
      "image update: 100%|██████████| 2/2.0 [00:21<00:00, 10.56s/it]\u001b[A\u001b[A\n",
      "loss: -17.46:  90%|█████████ | 9/10 [00:21<00:01,  2.00s/it]\u001b[A\n",
      "loss: -17.46: 100%|██████████| 10/10 [00:21<00:00,  2.13s/it]\n",
      "      epochs: 100%|██████████| 1/1 [00:21<00:00, 21.28s/it]\n",
      "image update: 100%|██████████| 2/2.0 [00:22<00:00, 11.11s/it]\n"
     ]
    },
    {
     "name": "stdout",
     "output_type": "stream",
     "text": [
      "Imagining \"The_Only_Good_System_Is_a_Soundsystem\" ...\n"
     ]
    },
    {
     "name": "stderr",
     "output_type": "stream",
     "text": [
      "\n",
      "\n",
      "      epochs:   0%|          | 0/1 [00:00<?, ?it/s]\n",
      "   iteration:   0%|          | 0/10 [00:00<?, ?it/s]\u001b[A\n",
      "loss: -12.59:   0%|          | 0/10 [00:01<?, ?it/s]\u001b[A\n",
      "loss: -12.59:  10%|█         | 1/10 [00:01<00:17,  1.90s/it]\u001b[A\n",
      "loss: -12.74:  10%|█         | 1/10 [00:03<00:17,  1.90s/it]\u001b[A\n",
      "loss: -12.74:  20%|██        | 2/10 [00:03<00:15,  1.91s/it]\u001b[A\n",
      "loss: -12.66:  20%|██        | 2/10 [00:05<00:15,  1.91s/it]\u001b[A\n",
      "loss: -12.66:  30%|███       | 3/10 [00:05<00:13,  1.91s/it]\u001b[A\n",
      "loss: -12.75:  30%|███       | 3/10 [00:07<00:13,  1.91s/it]\u001b[A\n",
      "loss: -12.75:  40%|████      | 4/10 [00:07<00:11,  1.92s/it]\u001b[A\n",
      "\n",
      "image update:  50%|█████     | 1/2.0 [00:10<00:10, 10.52s/it]\u001b[A\u001b[A\n",
      "loss: -14.28:  40%|████      | 4/10 [00:10<00:11,  1.92s/it]\u001b[A\n",
      "loss: -14.28:  50%|█████     | 5/10 [00:10<00:11,  2.36s/it]\u001b[A\n",
      "loss: -16.23:  50%|█████     | 5/10 [00:12<00:11,  2.36s/it]\u001b[A\n",
      "loss: -16.23:  60%|██████    | 6/10 [00:12<00:08,  2.21s/it]\u001b[A\n",
      "loss: -15.50:  60%|██████    | 6/10 [00:14<00:08,  2.21s/it]\u001b[A\n",
      "loss: -15.50:  70%|███████   | 7/10 [00:14<00:06,  2.11s/it]\u001b[A\n",
      "loss: -16.08:  70%|███████   | 7/10 [00:16<00:06,  2.11s/it]\u001b[A\n",
      "loss: -16.08:  80%|████████  | 8/10 [00:16<00:04,  2.05s/it]\u001b[A\n",
      "loss: -14.43:  80%|████████  | 8/10 [00:18<00:04,  2.05s/it]\u001b[A\n",
      "loss: -14.43:  90%|█████████ | 9/10 [00:18<00:02,  2.01s/it]\u001b[A\n",
      "\n",
      "image update: 100%|██████████| 2/2.0 [00:21<00:00, 10.67s/it]\u001b[A\u001b[A\n",
      "loss: -15.48:  90%|█████████ | 9/10 [00:21<00:02,  2.01s/it]\u001b[A\n",
      "loss: -15.48: 100%|██████████| 10/10 [00:21<00:00,  2.14s/it]\n",
      "      epochs: 100%|██████████| 1/1 [00:21<00:00, 21.44s/it]\n",
      "image update: 100%|██████████| 2/2.0 [00:22<00:00, 11.18s/it]\n"
     ]
    },
    {
     "name": "stdout",
     "output_type": "stream",
     "text": [
      "Imagining \"Life_and_Death_by_Water\" ...\n"
     ]
    },
    {
     "name": "stderr",
     "output_type": "stream",
     "text": [
      "\n",
      "\n",
      "      epochs:   0%|          | 0/1 [00:00<?, ?it/s]\n",
      "   iteration:   0%|          | 0/10 [00:00<?, ?it/s]\u001b[A\n",
      "loss: -14.79:   0%|          | 0/10 [00:01<?, ?it/s]\u001b[A\n",
      "loss: -14.79:  10%|█         | 1/10 [00:01<00:17,  1.90s/it]\u001b[A\n",
      "loss: -14.65:  10%|█         | 1/10 [00:03<00:17,  1.90s/it]\u001b[A\n",
      "loss: -14.65:  20%|██        | 2/10 [00:03<00:15,  1.91s/it]\u001b[A\n",
      "loss: -15.51:  20%|██        | 2/10 [00:05<00:15,  1.91s/it]\u001b[A\n",
      "loss: -15.51:  30%|███       | 3/10 [00:05<00:13,  1.92s/it]\u001b[A\n",
      "loss: -16.35:  30%|███       | 3/10 [00:07<00:13,  1.92s/it]\u001b[A\n",
      "loss: -16.35:  40%|████      | 4/10 [00:07<00:11,  1.92s/it]\u001b[A\n",
      "\n",
      "image update:  50%|█████     | 1/2.0 [00:10<00:10, 10.54s/it]\u001b[A\u001b[A\n",
      "loss: -17.55:  40%|████      | 4/10 [00:10<00:11,  1.92s/it]\u001b[A\n",
      "loss: -17.55:  50%|█████     | 5/10 [00:10<00:11,  2.36s/it]\u001b[A\n",
      "loss: -15.94:  50%|█████     | 5/10 [00:12<00:11,  2.36s/it]\u001b[A\n",
      "loss: -15.94:  60%|██████    | 6/10 [00:12<00:08,  2.21s/it]\u001b[A\n",
      "loss: -18.05:  60%|██████    | 6/10 [00:14<00:08,  2.21s/it]\u001b[A\n",
      "loss: -18.05:  70%|███████   | 7/10 [00:14<00:06,  2.11s/it]\u001b[A\n",
      "loss: -18.14:  70%|███████   | 7/10 [00:16<00:06,  2.11s/it]\u001b[A\n",
      "loss: -18.14:  80%|████████  | 8/10 [00:16<00:04,  2.05s/it]\u001b[A\n",
      "loss: -18.01:  80%|████████  | 8/10 [00:18<00:04,  2.05s/it]\u001b[A\n",
      "loss: -18.01:  90%|█████████ | 9/10 [00:18<00:02,  2.01s/it]\u001b[A\n",
      "\n",
      "image update: 100%|██████████| 2/2.0 [00:21<00:00, 10.70s/it]\u001b[A\u001b[A\n",
      "loss: -18.29:  90%|█████████ | 9/10 [00:21<00:02,  2.01s/it]\u001b[A\n",
      "loss: -18.29: 100%|██████████| 10/10 [00:21<00:00,  2.17s/it]\n",
      "      epochs: 100%|██████████| 1/1 [00:21<00:00, 21.69s/it]\n",
      "image update: 100%|██████████| 2/2.0 [00:22<00:00, 11.31s/it]\n"
     ]
    },
    {
     "name": "stdout",
     "output_type": "stream",
     "text": [
      "Imagining \"Wingspan_of_the_captive\" ...\n"
     ]
    },
    {
     "name": "stderr",
     "output_type": "stream",
     "text": [
      "\n",
      "\n",
      "      epochs:   0%|          | 0/1 [00:00<?, ?it/s]\n",
      "   iteration:   0%|          | 0/10 [00:00<?, ?it/s]\u001b[A\n",
      "loss: -15.20:   0%|          | 0/10 [00:01<?, ?it/s]\u001b[A\n",
      "loss: -15.20:  10%|█         | 1/10 [00:01<00:17,  1.89s/it]\u001b[A\n",
      "loss: -17.42:  10%|█         | 1/10 [00:03<00:17,  1.89s/it]\u001b[A\n",
      "loss: -17.42:  20%|██        | 2/10 [00:03<00:15,  1.91s/it]\u001b[A\n",
      "loss: -17.37:  20%|██        | 2/10 [00:05<00:15,  1.91s/it]\u001b[A\n",
      "loss: -17.37:  30%|███       | 3/10 [00:05<00:13,  1.91s/it]\u001b[A\n",
      "loss: -18.13:  30%|███       | 3/10 [00:07<00:13,  1.91s/it]\u001b[A\n",
      "loss: -18.13:  40%|████      | 4/10 [00:07<00:11,  1.91s/it]\u001b[A\n",
      "\n",
      "image update:  50%|█████     | 1/2.0 [00:10<00:10, 10.51s/it]\u001b[A\u001b[A\n",
      "loss: -20.48:  40%|████      | 4/10 [00:10<00:11,  1.91s/it]\u001b[A\n",
      "loss: -20.48:  50%|█████     | 5/10 [00:10<00:11,  2.35s/it]\u001b[A\n",
      "loss: -20.39:  50%|█████     | 5/10 [00:12<00:11,  2.35s/it]\u001b[A\n",
      "loss: -20.39:  60%|██████    | 6/10 [00:12<00:08,  2.20s/it]\u001b[A\n",
      "loss: -20.04:  60%|██████    | 6/10 [00:14<00:08,  2.20s/it]\u001b[A\n",
      "loss: -20.04:  70%|███████   | 7/10 [00:14<00:06,  2.11s/it]\u001b[A\n",
      "loss: -20.58:  70%|███████   | 7/10 [00:16<00:06,  2.11s/it]\u001b[A\n",
      "loss: -20.58:  80%|████████  | 8/10 [00:16<00:04,  2.05s/it]\u001b[A\n",
      "loss: -20.26:  80%|████████  | 8/10 [00:18<00:04,  2.05s/it]\u001b[A\n",
      "loss: -20.26:  90%|█████████ | 9/10 [00:18<00:02,  2.01s/it]\u001b[A\n",
      "\n",
      "image update: 100%|██████████| 2/2.0 [00:21<00:00, 10.67s/it]\u001b[A\u001b[A\n",
      "loss: -21.90:  90%|█████████ | 9/10 [00:21<00:02,  2.01s/it]\u001b[A\n",
      "loss: -21.90: 100%|██████████| 10/10 [00:21<00:00,  2.14s/it]\n",
      "      epochs: 100%|██████████| 1/1 [00:21<00:00, 21.45s/it]\n",
      "image update: 100%|██████████| 2/2.0 [00:22<00:00, 11.20s/it]\n"
     ]
    },
    {
     "name": "stdout",
     "output_type": "stream",
     "text": [
      "Imagining \"Pan_African_Flag_for_the_Relic_Travellers'_Alliance\" ...\n"
     ]
    },
    {
     "name": "stderr",
     "output_type": "stream",
     "text": [
      "\n",
      "\n",
      "      epochs:   0%|          | 0/1 [00:00<?, ?it/s]\n",
      "   iteration:   0%|          | 0/10 [00:00<?, ?it/s]\u001b[A\n",
      "loss: -9.72:   0%|          | 0/10 [00:01<?, ?it/s] \u001b[A\n",
      "loss: -9.72:  10%|█         | 1/10 [00:01<00:17,  1.89s/it]\u001b[A\n",
      "loss: -11.79:  10%|█         | 1/10 [00:03<00:17,  1.89s/it]\u001b[A\n",
      "loss: -11.79:  20%|██        | 2/10 [00:03<00:15,  1.90s/it]\u001b[A\n",
      "loss: -12.37:  20%|██        | 2/10 [00:05<00:15,  1.90s/it]\u001b[A\n",
      "loss: -12.37:  30%|███       | 3/10 [00:05<00:13,  1.91s/it]\u001b[A\n",
      "loss: -13.23:  30%|███       | 3/10 [00:07<00:13,  1.91s/it]\u001b[A\n",
      "loss: -13.23:  40%|████      | 4/10 [00:07<00:11,  1.91s/it]\u001b[A\n",
      "\n",
      "image update:  50%|█████     | 1/2.0 [00:10<00:10, 10.51s/it]\u001b[A\u001b[A\n",
      "loss: -13.59:  40%|████      | 4/10 [00:10<00:11,  1.91s/it]\u001b[A\n",
      "loss: -13.59:  50%|█████     | 5/10 [00:10<00:11,  2.37s/it]\u001b[A\n",
      "loss: -12.93:  50%|█████     | 5/10 [00:12<00:11,  2.37s/it]\u001b[A\n",
      "loss: -12.93:  60%|██████    | 6/10 [00:12<00:08,  2.22s/it]\u001b[A\n",
      "loss: -13.37:  60%|██████    | 6/10 [00:14<00:08,  2.22s/it]\u001b[A\n",
      "loss: -13.37:  70%|███████   | 7/10 [00:14<00:06,  2.12s/it]\u001b[A\n",
      "loss: -14.01:  70%|███████   | 7/10 [00:16<00:06,  2.12s/it]\u001b[A\n",
      "loss: -14.01:  80%|████████  | 8/10 [00:16<00:04,  2.05s/it]\u001b[A\n",
      "loss: -14.45:  80%|████████  | 8/10 [00:18<00:04,  2.05s/it]\u001b[A\n",
      "loss: -14.45:  90%|█████████ | 9/10 [00:18<00:02,  2.01s/it]\u001b[A\n",
      "\n",
      "image update: 100%|██████████| 2/2.0 [00:21<00:00, 10.73s/it]\u001b[A\u001b[A\n",
      "loss: -14.30:  90%|█████████ | 9/10 [00:21<00:02,  2.01s/it]\u001b[A\n",
      "loss: -14.30: 100%|██████████| 10/10 [00:21<00:00,  2.17s/it]\n",
      "      epochs: 100%|██████████| 1/1 [00:21<00:00, 21.76s/it]\n",
      "image update: 100%|██████████| 2/2.0 [00:22<00:00, 11.34s/it]\n"
     ]
    },
    {
     "name": "stdout",
     "output_type": "stream",
     "text": [
      "Imagining \"The_Goblets\" ...\n"
     ]
    },
    {
     "name": "stderr",
     "output_type": "stream",
     "text": [
      "\n",
      "\n",
      "      epochs:   0%|          | 0/1 [00:00<?, ?it/s]\n",
      "   iteration:   0%|          | 0/10 [00:00<?, ?it/s]\u001b[A\n",
      "loss: -12.69:   0%|          | 0/10 [00:01<?, ?it/s]\u001b[A\n",
      "loss: -12.69:  10%|█         | 1/10 [00:01<00:17,  1.90s/it]\u001b[A\n",
      "loss: -14.35:  10%|█         | 1/10 [00:03<00:17,  1.90s/it]\u001b[A\n",
      "loss: -14.35:  20%|██        | 2/10 [00:03<00:15,  1.91s/it]\u001b[A\n",
      "loss: -12.56:  20%|██        | 2/10 [00:05<00:15,  1.91s/it]\u001b[A\n",
      "loss: -12.56:  30%|███       | 3/10 [00:05<00:13,  1.91s/it]\u001b[A\n",
      "loss: -13.86:  30%|███       | 3/10 [00:07<00:13,  1.91s/it]\u001b[A\n",
      "loss: -13.86:  40%|████      | 4/10 [00:07<00:11,  1.91s/it]\u001b[A\n",
      "\n",
      "image update:  50%|█████     | 1/2.0 [00:10<00:10, 10.50s/it]\u001b[A\u001b[A\n",
      "loss: -14.70:  40%|████      | 4/10 [00:10<00:11,  1.91s/it]\u001b[A\n",
      "loss: -14.70:  50%|█████     | 5/10 [00:10<00:11,  2.35s/it]\u001b[A\n",
      "loss: -15.34:  50%|█████     | 5/10 [00:12<00:11,  2.35s/it]\u001b[A\n",
      "loss: -15.34:  60%|██████    | 6/10 [00:12<00:08,  2.21s/it]\u001b[A\n",
      "loss: -16.48:  60%|██████    | 6/10 [00:14<00:08,  2.21s/it]\u001b[A\n",
      "loss: -16.48:  70%|███████   | 7/10 [00:14<00:06,  2.12s/it]\u001b[A\n",
      "loss: -17.52:  70%|███████   | 7/10 [00:16<00:06,  2.12s/it]\u001b[A\n",
      "loss: -17.52:  80%|████████  | 8/10 [00:16<00:04,  2.05s/it]\u001b[A\n",
      "loss: -18.01:  80%|████████  | 8/10 [00:18<00:04,  2.05s/it]\u001b[A\n",
      "loss: -18.01:  90%|█████████ | 9/10 [00:18<00:02,  2.01s/it]\u001b[A\n",
      "\n",
      "image update: 100%|██████████| 2/2.0 [00:21<00:00, 10.69s/it]\u001b[A\u001b[A\n",
      "loss: -18.26:  90%|█████████ | 9/10 [00:21<00:02,  2.01s/it]\u001b[A\n",
      "loss: -18.26: 100%|██████████| 10/10 [00:21<00:00,  2.16s/it]\n",
      "      epochs: 100%|██████████| 1/1 [00:21<00:00, 21.61s/it]\n",
      "image update: 100%|██████████| 2/2.0 [00:22<00:00, 11.28s/it]\n"
     ]
    },
    {
     "name": "stdout",
     "output_type": "stream",
     "text": [
      "Imagining \"Untitled\" ...\n"
     ]
    },
    {
     "name": "stderr",
     "output_type": "stream",
     "text": [
      "\n",
      "\n",
      "      epochs:   0%|          | 0/1 [00:00<?, ?it/s]\n",
      "   iteration:   0%|          | 0/10 [00:00<?, ?it/s]\u001b[A\n",
      "loss: -15.53:   0%|          | 0/10 [00:01<?, ?it/s]\u001b[A\n",
      "loss: -15.53:  10%|█         | 1/10 [00:01<00:17,  1.90s/it]\u001b[A\n",
      "loss: -16.25:  10%|█         | 1/10 [00:03<00:17,  1.90s/it]\u001b[A\n",
      "loss: -16.25:  20%|██        | 2/10 [00:03<00:15,  1.91s/it]\u001b[A\n",
      "loss: -16.56:  20%|██        | 2/10 [00:05<00:15,  1.91s/it]\u001b[A\n",
      "loss: -16.56:  30%|███       | 3/10 [00:05<00:13,  1.92s/it]\u001b[A\n",
      "loss: -16.17:  30%|███       | 3/10 [00:07<00:13,  1.92s/it]\u001b[A\n",
      "loss: -16.17:  40%|████      | 4/10 [00:07<00:11,  1.91s/it]\u001b[A\n",
      "\n",
      "image update:  50%|█████     | 1/2.0 [00:10<00:10, 10.51s/it]\u001b[A\u001b[A\n",
      "loss: -16.18:  40%|████      | 4/10 [00:10<00:11,  1.91s/it]\u001b[A\n",
      "loss: -16.18:  50%|█████     | 5/10 [00:10<00:11,  2.33s/it]\u001b[A\n",
      "loss: -16.39:  50%|█████     | 5/10 [00:12<00:11,  2.33s/it]\u001b[A\n",
      "loss: -16.39:  60%|██████    | 6/10 [00:12<00:08,  2.19s/it]\u001b[A\n",
      "loss: -17.33:  60%|██████    | 6/10 [00:14<00:08,  2.19s/it]\u001b[A\n",
      "loss: -17.33:  70%|███████   | 7/10 [00:14<00:06,  2.10s/it]\u001b[A\n",
      "loss: -16.48:  70%|███████   | 7/10 [00:16<00:06,  2.10s/it]\u001b[A\n",
      "loss: -16.48:  80%|████████  | 8/10 [00:16<00:04,  2.04s/it]\u001b[A\n",
      "loss: -17.16:  80%|████████  | 8/10 [00:18<00:04,  2.04s/it]\u001b[A\n",
      "loss: -17.16:  90%|█████████ | 9/10 [00:18<00:02,  2.01s/it]\u001b[A\n",
      "\n",
      "image update: 100%|██████████| 2/2.0 [00:21<00:00, 10.64s/it]\u001b[A\u001b[A\n",
      "loss: -17.95:  90%|█████████ | 9/10 [00:21<00:02,  2.01s/it]\u001b[A\n",
      "loss: -17.95: 100%|██████████| 10/10 [00:21<00:00,  2.13s/it]\n",
      "      epochs: 100%|██████████| 1/1 [00:21<00:00, 21.35s/it]\n",
      "image update: 100%|██████████| 2/2.0 [00:22<00:00, 11.14s/it]\n"
     ]
    },
    {
     "name": "stdout",
     "output_type": "stream",
     "text": [
      "Imagining \"Even_an_awkward_smile_can_sprout_beyond_the_sun\" ...\n"
     ]
    },
    {
     "name": "stderr",
     "output_type": "stream",
     "text": [
      "\n",
      "\n",
      "      epochs:   0%|          | 0/1 [00:00<?, ?it/s]\n",
      "   iteration:   0%|          | 0/10 [00:00<?, ?it/s]\u001b[A\n",
      "loss: -10.14:   0%|          | 0/10 [00:01<?, ?it/s]\u001b[A\n",
      "loss: -10.14:  10%|█         | 1/10 [00:01<00:17,  1.90s/it]\u001b[A\n",
      "loss: -13.90:  10%|█         | 1/10 [00:03<00:17,  1.90s/it]\u001b[A\n",
      "loss: -13.90:  20%|██        | 2/10 [00:03<00:15,  1.90s/it]\u001b[A\n",
      "loss: -13.36:  20%|██        | 2/10 [00:05<00:15,  1.90s/it]\u001b[A\n",
      "loss: -13.36:  30%|███       | 3/10 [00:05<00:13,  1.91s/it]\u001b[A\n",
      "loss: -11.08:  30%|███       | 3/10 [00:07<00:13,  1.91s/it]\u001b[A\n",
      "loss: -11.08:  40%|████      | 4/10 [00:07<00:11,  1.91s/it]\u001b[A\n",
      "\n",
      "image update:  50%|█████     | 1/2.0 [00:10<00:10, 10.50s/it]\u001b[A\u001b[A\n",
      "loss: -13.02:  40%|████      | 4/10 [00:10<00:11,  1.91s/it]\u001b[A\n",
      "loss: -13.02:  50%|█████     | 5/10 [00:10<00:11,  2.36s/it]\u001b[A\n",
      "loss: -13.20:  50%|█████     | 5/10 [00:12<00:11,  2.36s/it]\u001b[A\n",
      "loss: -13.20:  60%|██████    | 6/10 [00:12<00:08,  2.21s/it]\u001b[A\n",
      "loss: -14.07:  60%|██████    | 6/10 [00:14<00:08,  2.21s/it]\u001b[A\n",
      "loss: -14.07:  70%|███████   | 7/10 [00:14<00:06,  2.12s/it]\u001b[A\n",
      "loss: -13.96:  70%|███████   | 7/10 [00:16<00:06,  2.12s/it]\u001b[A\n",
      "loss: -13.96:  80%|████████  | 8/10 [00:16<00:04,  2.06s/it]\u001b[A\n",
      "loss: -14.26:  80%|████████  | 8/10 [00:18<00:04,  2.06s/it]\u001b[A\n",
      "loss: -14.26:  90%|█████████ | 9/10 [00:18<00:02,  2.01s/it]\u001b[A\n",
      "\n",
      "image update: 100%|██████████| 2/2.0 [00:21<00:00, 10.70s/it]\u001b[A\u001b[A\n",
      "loss: -14.64:  90%|█████████ | 9/10 [00:21<00:02,  2.01s/it]\u001b[A\n",
      "loss: -14.64: 100%|██████████| 10/10 [00:21<00:00,  2.16s/it]\n",
      "      epochs: 100%|██████████| 1/1 [00:21<00:00, 21.63s/it]\n",
      "image update: 100%|██████████| 2/2.0 [00:22<00:00, 11.27s/it]\n"
     ]
    },
    {
     "name": "stdout",
     "output_type": "stream",
     "text": [
      "Imagining \"Horror_Vacui\" ...\n"
     ]
    },
    {
     "name": "stderr",
     "output_type": "stream",
     "text": [
      "\n",
      "\n",
      "      epochs:   0%|          | 0/1 [00:00<?, ?it/s]\n",
      "   iteration:   0%|          | 0/10 [00:00<?, ?it/s]\u001b[A\n",
      "loss: -14.97:   0%|          | 0/10 [00:01<?, ?it/s]\u001b[A\n",
      "loss: -14.97:  10%|█         | 1/10 [00:01<00:17,  1.89s/it]\u001b[A\n",
      "loss: -14.43:  10%|█         | 1/10 [00:03<00:17,  1.89s/it]\u001b[A\n",
      "loss: -14.43:  20%|██        | 2/10 [00:03<00:15,  1.90s/it]\u001b[A\n",
      "loss: -15.37:  20%|██        | 2/10 [00:05<00:15,  1.90s/it]\u001b[A\n",
      "loss: -15.37:  30%|███       | 3/10 [00:05<00:13,  1.91s/it]\u001b[A\n",
      "loss: -15.45:  30%|███       | 3/10 [00:07<00:13,  1.91s/it]\u001b[A\n",
      "loss: -15.45:  40%|████      | 4/10 [00:07<00:11,  1.91s/it]\u001b[A\n",
      "\n",
      "image update:  50%|█████     | 1/2.0 [00:10<00:10, 10.53s/it]\u001b[A\u001b[A\n",
      "loss: -17.48:  40%|████      | 4/10 [00:10<00:11,  1.91s/it]\u001b[A\n",
      "loss: -17.48:  50%|█████     | 5/10 [00:10<00:11,  2.37s/it]\u001b[A\n",
      "loss: -16.70:  50%|█████     | 5/10 [00:12<00:11,  2.37s/it]\u001b[A\n",
      "loss: -16.70:  60%|██████    | 6/10 [00:12<00:08,  2.22s/it]\u001b[A\n",
      "loss: -16.30:  60%|██████    | 6/10 [00:14<00:08,  2.22s/it]\u001b[A\n",
      "loss: -16.30:  70%|███████   | 7/10 [00:14<00:06,  2.12s/it]\u001b[A\n",
      "loss: -16.79:  70%|███████   | 7/10 [00:16<00:06,  2.12s/it]\u001b[A\n",
      "loss: -16.79:  80%|████████  | 8/10 [00:16<00:04,  2.05s/it]\u001b[A\n",
      "loss: -17.15:  80%|████████  | 8/10 [00:18<00:04,  2.05s/it]\u001b[A\n",
      "loss: -17.15:  90%|█████████ | 9/10 [00:18<00:02,  2.01s/it]\u001b[A\n",
      "\n",
      "image update: 100%|██████████| 2/2.0 [00:21<00:00, 10.71s/it]\u001b[A\u001b[A\n",
      "loss: -17.07:  90%|█████████ | 9/10 [00:21<00:02,  2.01s/it]\u001b[A\n",
      "loss: -17.07: 100%|██████████| 10/10 [00:21<00:00,  2.17s/it]\n",
      "      epochs: 100%|██████████| 1/1 [00:21<00:00, 21.68s/it]\n",
      "image update: 100%|██████████| 2/2.0 [00:22<00:00, 11.30s/it]\n"
     ]
    },
    {
     "name": "stdout",
     "output_type": "stream",
     "text": [
      "Imagining \"Networks\" ...\n"
     ]
    },
    {
     "name": "stderr",
     "output_type": "stream",
     "text": [
      "\n",
      "\n",
      "      epochs:   0%|          | 0/1 [00:00<?, ?it/s]\n",
      "   iteration:   0%|          | 0/10 [00:00<?, ?it/s]\u001b[A\n",
      "loss: -13.42:   0%|          | 0/10 [00:01<?, ?it/s]\u001b[A\n",
      "loss: -13.42:  10%|█         | 1/10 [00:01<00:17,  1.90s/it]\u001b[A\n",
      "loss: -14.28:  10%|█         | 1/10 [00:03<00:17,  1.90s/it]\u001b[A\n",
      "loss: -14.28:  20%|██        | 2/10 [00:03<00:15,  1.91s/it]\u001b[A\n",
      "loss: -16.21:  20%|██        | 2/10 [00:05<00:15,  1.91s/it]\u001b[A\n",
      "loss: -16.21:  30%|███       | 3/10 [00:05<00:13,  1.92s/it]\u001b[A\n",
      "loss: -16.11:  30%|███       | 3/10 [00:07<00:13,  1.92s/it]\u001b[A\n",
      "loss: -16.11:  40%|████      | 4/10 [00:07<00:11,  1.92s/it]\u001b[A\n",
      "\n",
      "image update:  50%|█████     | 1/2.0 [00:10<00:10, 10.53s/it]\u001b[A\u001b[A\n",
      "loss: -16.82:  40%|████      | 4/10 [00:10<00:11,  1.92s/it]\u001b[A\n",
      "loss: -16.82:  50%|█████     | 5/10 [00:10<00:11,  2.36s/it]\u001b[A\n",
      "loss: -16.84:  50%|█████     | 5/10 [00:12<00:11,  2.36s/it]\u001b[A\n",
      "loss: -16.84:  60%|██████    | 6/10 [00:12<00:08,  2.21s/it]\u001b[A\n",
      "loss: -15.61:  60%|██████    | 6/10 [00:14<00:08,  2.21s/it]\u001b[A\n",
      "loss: -15.61:  70%|███████   | 7/10 [00:14<00:06,  2.11s/it]\u001b[A\n",
      "loss: -16.73:  70%|███████   | 7/10 [00:16<00:06,  2.11s/it]\u001b[A\n",
      "loss: -16.73:  80%|████████  | 8/10 [00:16<00:04,  2.05s/it]\u001b[A\n",
      "loss: -16.52:  80%|████████  | 8/10 [00:18<00:04,  2.05s/it]\u001b[A\n",
      "loss: -16.52:  90%|█████████ | 9/10 [00:18<00:02,  2.01s/it]\u001b[A\n",
      "\n",
      "image update: 100%|██████████| 2/2.0 [00:21<00:00, 10.68s/it]\u001b[A\u001b[A\n",
      "loss: -17.15:  90%|█████████ | 9/10 [00:21<00:02,  2.01s/it]\u001b[A\n",
      "loss: -17.15: 100%|██████████| 10/10 [00:21<00:00,  2.16s/it]\n",
      "      epochs: 100%|██████████| 1/1 [00:21<00:00, 21.57s/it]\n",
      "image update: 100%|██████████| 2/2.0 [00:22<00:00, 11.25s/it]\n"
     ]
    },
    {
     "name": "stdout",
     "output_type": "stream",
     "text": [
      "Imagining \"Masterless_Voices\" ...\n"
     ]
    },
    {
     "name": "stderr",
     "output_type": "stream",
     "text": [
      "\n",
      "\n",
      "      epochs:   0%|          | 0/1 [00:00<?, ?it/s]\n",
      "   iteration:   0%|          | 0/10 [00:00<?, ?it/s]\u001b[A\n",
      "loss: -13.96:   0%|          | 0/10 [00:01<?, ?it/s]\u001b[A\n",
      "loss: -13.96:  10%|█         | 1/10 [00:01<00:17,  1.92s/it]\u001b[A\n",
      "loss: -13.65:  10%|█         | 1/10 [00:03<00:17,  1.92s/it]\u001b[A\n",
      "loss: -13.65:  20%|██        | 2/10 [00:03<00:15,  1.92s/it]\u001b[A\n",
      "loss: -13.97:  20%|██        | 2/10 [00:05<00:15,  1.92s/it]\u001b[A\n",
      "loss: -13.97:  30%|███       | 3/10 [00:05<00:13,  1.92s/it]\u001b[A\n",
      "loss: -14.66:  30%|███       | 3/10 [00:07<00:13,  1.92s/it]\u001b[A\n",
      "loss: -14.66:  40%|████      | 4/10 [00:07<00:11,  1.92s/it]\u001b[A\n",
      "\n",
      "image update:  50%|█████     | 1/2.0 [00:10<00:10, 10.49s/it]\u001b[A\u001b[A\n",
      "loss: -15.51:  40%|████      | 4/10 [00:10<00:11,  1.92s/it]\u001b[A\n",
      "loss: -15.51:  50%|█████     | 5/10 [00:10<00:11,  2.31s/it]\u001b[A\n",
      "loss: -15.44:  50%|█████     | 5/10 [00:12<00:11,  2.31s/it]\u001b[A\n",
      "loss: -15.44:  60%|██████    | 6/10 [00:12<00:08,  2.18s/it]\u001b[A\n",
      "loss: -15.39:  60%|██████    | 6/10 [00:14<00:08,  2.18s/it]\u001b[A\n",
      "loss: -15.39:  70%|███████   | 7/10 [00:14<00:06,  2.09s/it]\u001b[A\n",
      "loss: -16.54:  70%|███████   | 7/10 [00:16<00:06,  2.09s/it]\u001b[A\n",
      "loss: -16.54:  80%|████████  | 8/10 [00:16<00:04,  2.03s/it]\u001b[A\n",
      "loss: -16.56:  80%|████████  | 8/10 [00:18<00:04,  2.03s/it]\u001b[A\n",
      "loss: -16.56:  90%|█████████ | 9/10 [00:18<00:01,  2.00s/it]\u001b[A\n",
      "\n",
      "image update: 100%|██████████| 2/2.0 [00:21<00:00, 10.61s/it]\u001b[A\u001b[A\n",
      "loss: -16.82:  90%|█████████ | 9/10 [00:21<00:01,  2.00s/it]\u001b[A\n",
      "loss: -16.82: 100%|██████████| 10/10 [00:21<00:00,  2.14s/it]\n",
      "      epochs: 100%|██████████| 1/1 [00:21<00:00, 21.43s/it]\n",
      "image update: 100%|██████████| 2/2.0 [00:22<00:00, 11.20s/it]\n"
     ]
    },
    {
     "name": "stdout",
     "output_type": "stream",
     "text": [
      "Imagining \"Body_Percussion_Ensemble\" ...\n"
     ]
    },
    {
     "name": "stderr",
     "output_type": "stream",
     "text": [
      "\n",
      "\n",
      "      epochs:   0%|          | 0/1 [00:00<?, ?it/s]\n",
      "   iteration:   0%|          | 0/10 [00:00<?, ?it/s]\u001b[A\n",
      "loss: -8.45:   0%|          | 0/10 [00:01<?, ?it/s] \u001b[A\n",
      "loss: -8.45:  10%|█         | 1/10 [00:01<00:17,  1.90s/it]\u001b[A\n",
      "loss: -8.94:  10%|█         | 1/10 [00:03<00:17,  1.90s/it]\u001b[A\n",
      "loss: -8.94:  20%|██        | 2/10 [00:03<00:15,  1.90s/it]\u001b[A\n",
      "loss: -11.92:  20%|██        | 2/10 [00:05<00:15,  1.90s/it]\u001b[A\n",
      "loss: -11.92:  30%|███       | 3/10 [00:05<00:13,  1.91s/it]\u001b[A\n",
      "loss: -12.33:  30%|███       | 3/10 [00:07<00:13,  1.91s/it]\u001b[A\n",
      "loss: -12.33:  40%|████      | 4/10 [00:07<00:11,  1.91s/it]\u001b[A\n",
      "\n",
      "image update:  50%|█████     | 1/2.0 [00:10<00:10, 10.50s/it]\u001b[A\u001b[A\n",
      "loss: -11.59:  40%|████      | 4/10 [00:10<00:11,  1.91s/it]\u001b[A\n",
      "loss: -11.59:  50%|█████     | 5/10 [00:10<00:11,  2.34s/it]\u001b[A\n",
      "loss: -11.60:  50%|█████     | 5/10 [00:12<00:11,  2.34s/it]\u001b[A\n",
      "loss: -11.60:  60%|██████    | 6/10 [00:12<00:08,  2.20s/it]\u001b[A\n",
      "loss: -10.82:  60%|██████    | 6/10 [00:14<00:08,  2.20s/it]\u001b[A\n",
      "loss: -10.82:  70%|███████   | 7/10 [00:14<00:06,  2.10s/it]\u001b[A\n",
      "loss: -10.73:  70%|███████   | 7/10 [00:16<00:06,  2.10s/it]\u001b[A\n",
      "loss: -10.73:  80%|████████  | 8/10 [00:16<00:04,  2.05s/it]\u001b[A\n",
      "loss: -12.40:  80%|████████  | 8/10 [00:18<00:04,  2.05s/it]\u001b[A\n",
      "loss: -12.40:  90%|█████████ | 9/10 [00:18<00:02,  2.01s/it]\u001b[A\n",
      "\n",
      "image update: 100%|██████████| 2/2.0 [00:21<00:00, 10.66s/it]\u001b[A\u001b[A\n",
      "loss: -12.96:  90%|█████████ | 9/10 [00:21<00:02,  2.01s/it]\u001b[A\n",
      "loss: -12.96: 100%|██████████| 10/10 [00:21<00:00,  2.16s/it]\n",
      "      epochs: 100%|██████████| 1/1 [00:21<00:00, 21.58s/it]\n",
      "image update: 100%|██████████| 2/2.0 [00:22<00:00, 11.28s/it]\n"
     ]
    },
    {
     "name": "stdout",
     "output_type": "stream",
     "text": [
      "Imagining \"Volcanic_Landscape\" ...\n"
     ]
    },
    {
     "name": "stderr",
     "output_type": "stream",
     "text": [
      "\n",
      "\n",
      "      epochs:   0%|          | 0/1 [00:00<?, ?it/s]\n",
      "   iteration:   0%|          | 0/10 [00:00<?, ?it/s]\u001b[A\n",
      "loss: -9.15:   0%|          | 0/10 [00:01<?, ?it/s] \u001b[A\n",
      "loss: -9.15:  10%|█         | 1/10 [00:01<00:17,  1.89s/it]\u001b[A\n",
      "loss: -10.73:  10%|█         | 1/10 [00:03<00:17,  1.89s/it]\u001b[A\n",
      "loss: -10.73:  20%|██        | 2/10 [00:03<00:15,  1.91s/it]\u001b[A\n",
      "loss: -12.67:  20%|██        | 2/10 [00:05<00:15,  1.91s/it]\u001b[A\n",
      "loss: -12.67:  30%|███       | 3/10 [00:05<00:13,  1.91s/it]\u001b[A\n",
      "loss: -13.64:  30%|███       | 3/10 [00:07<00:13,  1.91s/it]\u001b[A\n",
      "loss: -13.64:  40%|████      | 4/10 [00:07<00:11,  1.91s/it]\u001b[A\n",
      "\n",
      "image update:  50%|█████     | 1/2.0 [00:10<00:10, 10.48s/it]\u001b[A\u001b[A\n",
      "loss: -13.07:  40%|████      | 4/10 [00:10<00:11,  1.91s/it]\u001b[A\n",
      "loss: -13.07:  50%|█████     | 5/10 [00:10<00:11,  2.34s/it]\u001b[A\n",
      "loss: -11.77:  50%|█████     | 5/10 [00:12<00:11,  2.34s/it]\u001b[A\n",
      "loss: -11.77:  60%|██████    | 6/10 [00:12<00:08,  2.20s/it]\u001b[A\n",
      "loss: -11.25:  60%|██████    | 6/10 [00:14<00:08,  2.20s/it]\u001b[A\n",
      "loss: -11.25:  70%|███████   | 7/10 [00:14<00:06,  2.10s/it]\u001b[A\n",
      "loss: -11.59:  70%|███████   | 7/10 [00:16<00:06,  2.10s/it]\u001b[A\n",
      "loss: -11.59:  80%|████████  | 8/10 [00:16<00:04,  2.04s/it]\u001b[A\n",
      "loss: -13.68:  80%|████████  | 8/10 [00:18<00:04,  2.04s/it]\u001b[A\n",
      "loss: -13.68:  90%|█████████ | 9/10 [00:18<00:02,  2.00s/it]\u001b[A\n",
      "\n",
      "image update: 100%|██████████| 2/2.0 [00:21<00:00, 10.65s/it]\u001b[A\u001b[A\n",
      "loss: -14.50:  90%|█████████ | 9/10 [00:21<00:02,  2.00s/it]\u001b[A\n",
      "loss: -14.50: 100%|██████████| 10/10 [00:21<00:00,  2.15s/it]\n",
      "      epochs: 100%|██████████| 1/1 [00:21<00:00, 21.52s/it]\n",
      "image update: 100%|██████████| 2/2.0 [00:22<00:00, 11.22s/it]\n"
     ]
    },
    {
     "name": "stdout",
     "output_type": "stream",
     "text": [
      "Imagining \"Inflation\" ...\n"
     ]
    },
    {
     "name": "stderr",
     "output_type": "stream",
     "text": [
      "\n",
      "\n",
      "      epochs:   0%|          | 0/1 [00:00<?, ?it/s]\n",
      "   iteration:   0%|          | 0/10 [00:00<?, ?it/s]\u001b[A\n",
      "loss: -12.91:   0%|          | 0/10 [00:01<?, ?it/s]\u001b[A\n",
      "loss: -12.91:  10%|█         | 1/10 [00:01<00:17,  1.90s/it]\u001b[A\n",
      "loss: -12.19:  10%|█         | 1/10 [00:03<00:17,  1.90s/it]\u001b[A\n",
      "loss: -12.19:  20%|██        | 2/10 [00:03<00:15,  1.91s/it]\u001b[A\n",
      "loss: -13.33:  20%|██        | 2/10 [00:05<00:15,  1.91s/it]\u001b[A\n",
      "loss: -13.33:  30%|███       | 3/10 [00:05<00:13,  1.92s/it]\u001b[A\n",
      "loss: -13.53:  30%|███       | 3/10 [00:07<00:13,  1.92s/it]\u001b[A\n",
      "loss: -13.53:  40%|████      | 4/10 [00:07<00:11,  1.92s/it]\u001b[A\n",
      "\n",
      "image update:  50%|█████     | 1/2.0 [00:10<00:10, 10.56s/it]\u001b[A\u001b[A\n",
      "loss: -15.12:  40%|████      | 4/10 [00:10<00:11,  1.92s/it]\u001b[A\n",
      "loss: -15.12:  50%|█████     | 5/10 [00:10<00:11,  2.37s/it]\u001b[A\n",
      "loss: -16.75:  50%|█████     | 5/10 [00:12<00:11,  2.37s/it]\u001b[A\n",
      "loss: -16.75:  60%|██████    | 6/10 [00:12<00:08,  2.22s/it]\u001b[A\n",
      "loss: -17.65:  60%|██████    | 6/10 [00:14<00:08,  2.22s/it]\u001b[A\n",
      "loss: -17.65:  70%|███████   | 7/10 [00:14<00:06,  2.12s/it]\u001b[A\n",
      "loss: -17.68:  70%|███████   | 7/10 [00:16<00:06,  2.12s/it]\u001b[A\n",
      "loss: -17.68:  80%|████████  | 8/10 [00:16<00:04,  2.05s/it]\u001b[A\n",
      "loss: -17.04:  80%|████████  | 8/10 [00:18<00:04,  2.05s/it]\u001b[A\n",
      "loss: -17.04:  90%|█████████ | 9/10 [00:18<00:02,  2.01s/it]\u001b[A\n",
      "\n",
      "image update: 100%|██████████| 2/2.0 [00:21<00:00, 10.73s/it]\u001b[A\u001b[A\n",
      "loss: -15.85:  90%|█████████ | 9/10 [00:21<00:02,  2.01s/it]\u001b[A\n",
      "loss: -15.85: 100%|██████████| 10/10 [00:21<00:00,  2.17s/it]\n",
      "      epochs: 100%|██████████| 1/1 [00:21<00:00, 21.74s/it]\n",
      "image update: 100%|██████████| 2/2.0 [00:22<00:00, 11.33s/it]\n"
     ]
    },
    {
     "name": "stdout",
     "output_type": "stream",
     "text": [
      "Imagining \"Timbre\" ...\n"
     ]
    },
    {
     "name": "stderr",
     "output_type": "stream",
     "text": [
      "\n",
      "\n",
      "      epochs:   0%|          | 0/1 [00:00<?, ?it/s]\n",
      "   iteration:   0%|          | 0/10 [00:00<?, ?it/s]\u001b[A\n",
      "loss: -13.96:   0%|          | 0/10 [00:01<?, ?it/s]\u001b[A\n",
      "loss: -13.96:  10%|█         | 1/10 [00:01<00:17,  1.89s/it]\u001b[A\n",
      "loss: -15.71:  10%|█         | 1/10 [00:03<00:17,  1.89s/it]\u001b[A\n",
      "loss: -15.71:  20%|██        | 2/10 [00:03<00:15,  1.91s/it]\u001b[A\n",
      "loss: -16.48:  20%|██        | 2/10 [00:05<00:15,  1.91s/it]\u001b[A\n",
      "loss: -16.48:  30%|███       | 3/10 [00:05<00:13,  1.91s/it]\u001b[A\n",
      "loss: -16.00:  30%|███       | 3/10 [00:07<00:13,  1.91s/it]\u001b[A\n",
      "loss: -16.00:  40%|████      | 4/10 [00:07<00:11,  1.91s/it]\u001b[A\n",
      "\n",
      "image update:  50%|█████     | 1/2.0 [00:10<00:10, 10.53s/it]\u001b[A\u001b[A\n",
      "loss: -13.81:  40%|████      | 4/10 [00:10<00:11,  1.91s/it]\u001b[A\n",
      "loss: -13.81:  50%|█████     | 5/10 [00:10<00:11,  2.38s/it]\u001b[A\n",
      "loss: -14.92:  50%|█████     | 5/10 [00:12<00:11,  2.38s/it]\u001b[A\n",
      "loss: -14.92:  60%|██████    | 6/10 [00:12<00:08,  2.22s/it]\u001b[A\n",
      "loss: -15.40:  60%|██████    | 6/10 [00:14<00:08,  2.22s/it]\u001b[A\n",
      "loss: -15.40:  70%|███████   | 7/10 [00:14<00:06,  2.12s/it]\u001b[A\n",
      "loss: -16.32:  70%|███████   | 7/10 [00:16<00:06,  2.12s/it]\u001b[A\n",
      "loss: -16.32:  80%|████████  | 8/10 [00:16<00:04,  2.06s/it]\u001b[A\n",
      "loss: -16.39:  80%|████████  | 8/10 [00:18<00:04,  2.06s/it]\u001b[A\n",
      "loss: -16.39:  90%|█████████ | 9/10 [00:18<00:02,  2.01s/it]\u001b[A\n",
      "\n",
      "image update: 100%|██████████| 2/2.0 [00:21<00:00, 10.74s/it]\u001b[A\u001b[A\n",
      "loss: -16.11:  90%|█████████ | 9/10 [00:21<00:02,  2.01s/it]\u001b[A\n",
      "loss: -16.11: 100%|██████████| 10/10 [00:21<00:00,  2.16s/it]\n",
      "      epochs: 100%|██████████| 1/1 [00:21<00:00, 21.64s/it]\n",
      "image update: 100%|██████████| 2/2.0 [00:22<00:00, 11.31s/it]\n"
     ]
    },
    {
     "name": "stdout",
     "output_type": "stream",
     "text": [
      "Imagining \"Through_the_Flower\" ...\n"
     ]
    },
    {
     "name": "stderr",
     "output_type": "stream",
     "text": [
      "\n",
      "\n",
      "      epochs:   0%|          | 0/1 [00:00<?, ?it/s]\n",
      "   iteration:   0%|          | 0/10 [00:00<?, ?it/s]\u001b[A\n",
      "loss: -13.97:   0%|          | 0/10 [00:01<?, ?it/s]\u001b[A\n",
      "loss: -13.97:  10%|█         | 1/10 [00:01<00:17,  1.89s/it]\u001b[A\n",
      "loss: -14.51:  10%|█         | 1/10 [00:03<00:17,  1.89s/it]\u001b[A\n",
      "loss: -14.51:  20%|██        | 2/10 [00:03<00:15,  1.91s/it]\u001b[A\n",
      "loss: -14.90:  20%|██        | 2/10 [00:05<00:15,  1.91s/it]\u001b[A\n",
      "loss: -14.90:  30%|███       | 3/10 [00:05<00:13,  1.91s/it]\u001b[A\n",
      "loss: -15.51:  30%|███       | 3/10 [00:07<00:13,  1.91s/it]\u001b[A\n",
      "loss: -15.51:  40%|████      | 4/10 [00:07<00:11,  1.91s/it]\u001b[A\n",
      "\n",
      "image update:  50%|█████     | 1/2.0 [00:10<00:10, 10.50s/it]\u001b[A\u001b[A\n",
      "loss: -15.07:  40%|████      | 4/10 [00:10<00:11,  1.91s/it]\u001b[A\n",
      "loss: -15.07:  50%|█████     | 5/10 [00:10<00:11,  2.35s/it]\u001b[A\n",
      "loss: -16.25:  50%|█████     | 5/10 [00:12<00:11,  2.35s/it]\u001b[A\n",
      "loss: -16.25:  60%|██████    | 6/10 [00:12<00:08,  2.20s/it]\u001b[A\n",
      "loss: -16.59:  60%|██████    | 6/10 [00:14<00:08,  2.20s/it]\u001b[A\n",
      "loss: -16.59:  70%|███████   | 7/10 [00:14<00:06,  2.11s/it]\u001b[A\n",
      "loss: -17.70:  70%|███████   | 7/10 [00:16<00:06,  2.11s/it]\u001b[A\n",
      "loss: -17.70:  80%|████████  | 8/10 [00:16<00:04,  2.05s/it]\u001b[A\n",
      "loss: -18.51:  80%|████████  | 8/10 [00:18<00:04,  2.05s/it]\u001b[A\n",
      "loss: -18.51:  90%|█████████ | 9/10 [00:18<00:02,  2.01s/it]\u001b[A\n",
      "\n",
      "image update: 100%|██████████| 2/2.0 [00:21<00:00, 10.68s/it]\u001b[A\u001b[A\n",
      "loss: -17.77:  90%|█████████ | 9/10 [00:21<00:02,  2.01s/it]\u001b[A\n",
      "loss: -17.77: 100%|██████████| 10/10 [00:21<00:00,  2.16s/it]\n",
      "      epochs: 100%|██████████| 1/1 [00:21<00:00, 21.59s/it]\n",
      "image update: 100%|██████████| 2/2.0 [00:22<00:00, 11.26s/it]\n"
     ]
    },
    {
     "name": "stdout",
     "output_type": "stream",
     "text": [
      "Imagining \"turbulence\" ...\n"
     ]
    },
    {
     "name": "stderr",
     "output_type": "stream",
     "text": [
      "\n",
      "\n",
      "      epochs:   0%|          | 0/1 [00:00<?, ?it/s]\n",
      "   iteration:   0%|          | 0/10 [00:00<?, ?it/s]\u001b[A\n",
      "loss: -12.65:   0%|          | 0/10 [00:01<?, ?it/s]\u001b[A\n",
      "loss: -12.65:  10%|█         | 1/10 [00:01<00:17,  1.90s/it]\u001b[A\n",
      "loss: -13.41:  10%|█         | 1/10 [00:03<00:17,  1.90s/it]\u001b[A\n",
      "loss: -13.41:  20%|██        | 2/10 [00:03<00:15,  1.92s/it]\u001b[A\n",
      "loss: -14.23:  20%|██        | 2/10 [00:05<00:15,  1.92s/it]\u001b[A\n",
      "loss: -14.23:  30%|███       | 3/10 [00:05<00:13,  1.92s/it]\u001b[A\n",
      "loss: -15.38:  30%|███       | 3/10 [00:07<00:13,  1.92s/it]\u001b[A\n",
      "loss: -15.38:  40%|████      | 4/10 [00:07<00:11,  1.93s/it]\u001b[A\n",
      "\n",
      "image update:  50%|█████     | 1/2.0 [00:10<00:10, 10.57s/it]\u001b[A\u001b[A\n",
      "loss: -17.09:  40%|████      | 4/10 [00:10<00:11,  1.93s/it]\u001b[A\n",
      "loss: -17.09:  50%|█████     | 5/10 [00:10<00:11,  2.37s/it]\u001b[A\n",
      "loss: -16.29:  50%|█████     | 5/10 [00:12<00:11,  2.37s/it]\u001b[A\n",
      "loss: -16.29:  60%|██████    | 6/10 [00:12<00:08,  2.22s/it]\u001b[A\n",
      "loss: -16.36:  60%|██████    | 6/10 [00:14<00:08,  2.22s/it]\u001b[A\n",
      "loss: -16.36:  70%|███████   | 7/10 [00:14<00:06,  2.12s/it]\u001b[A\n",
      "loss: -16.13:  70%|███████   | 7/10 [00:16<00:06,  2.12s/it]\u001b[A\n",
      "loss: -16.13:  80%|████████  | 8/10 [00:16<00:04,  2.05s/it]\u001b[A\n",
      "loss: -15.40:  80%|████████  | 8/10 [00:18<00:04,  2.05s/it]\u001b[A\n",
      "loss: -15.40:  90%|█████████ | 9/10 [00:18<00:02,  2.01s/it]\u001b[A\n",
      "\n",
      "image update: 100%|██████████| 2/2.0 [00:21<00:00, 10.72s/it]\u001b[A\u001b[A\n",
      "loss: -15.34:  90%|█████████ | 9/10 [00:21<00:02,  2.01s/it]\u001b[A\n",
      "loss: -15.34: 100%|██████████| 10/10 [00:21<00:00,  2.17s/it]\n",
      "      epochs: 100%|██████████| 1/1 [00:21<00:00, 21.71s/it]\n",
      "image update: 100%|██████████| 2/2.0 [00:22<00:00, 11.31s/it]\n"
     ]
    },
    {
     "name": "stdout",
     "output_type": "stream",
     "text": [
      "Imagining \"Pathology_in_Three_Parts\" ...\n"
     ]
    },
    {
     "name": "stderr",
     "output_type": "stream",
     "text": [
      "\n",
      "\n",
      "      epochs:   0%|          | 0/1 [00:00<?, ?it/s]\n",
      "   iteration:   0%|          | 0/10 [00:00<?, ?it/s]\u001b[A\n",
      "loss: -13.46:   0%|          | 0/10 [00:01<?, ?it/s]\u001b[A\n",
      "loss: -13.46:  10%|█         | 1/10 [00:01<00:17,  1.91s/it]\u001b[A\n",
      "loss: -12.48:  10%|█         | 1/10 [00:03<00:17,  1.91s/it]\u001b[A\n",
      "loss: -12.48:  20%|██        | 2/10 [00:03<00:15,  1.91s/it]\u001b[A\n",
      "loss: -13.43:  20%|██        | 2/10 [00:05<00:15,  1.91s/it]\u001b[A\n",
      "loss: -13.43:  30%|███       | 3/10 [00:05<00:13,  1.91s/it]\u001b[A\n",
      "loss: -14.36:  30%|███       | 3/10 [00:07<00:13,  1.91s/it]\u001b[A\n",
      "loss: -14.36:  40%|████      | 4/10 [00:07<00:11,  1.91s/it]\u001b[A\n",
      "\n",
      "image update:  50%|█████     | 1/2.0 [00:10<00:10, 10.49s/it]\u001b[A\u001b[A\n",
      "loss: -14.48:  40%|████      | 4/10 [00:10<00:11,  1.91s/it]\u001b[A\n",
      "loss: -14.48:  50%|█████     | 5/10 [00:10<00:11,  2.33s/it]\u001b[A\n",
      "loss: -14.96:  50%|█████     | 5/10 [00:12<00:11,  2.33s/it]\u001b[A\n",
      "loss: -14.96:  60%|██████    | 6/10 [00:12<00:08,  2.19s/it]\u001b[A\n",
      "loss: -15.47:  60%|██████    | 6/10 [00:14<00:08,  2.19s/it]\u001b[A\n",
      "loss: -15.47:  70%|███████   | 7/10 [00:14<00:06,  2.10s/it]\u001b[A\n",
      "loss: -15.89:  70%|███████   | 7/10 [00:16<00:06,  2.10s/it]\u001b[A\n",
      "loss: -15.89:  80%|████████  | 8/10 [00:16<00:04,  2.05s/it]\u001b[A\n",
      "loss: -15.35:  80%|████████  | 8/10 [00:18<00:04,  2.05s/it]\u001b[A\n",
      "loss: -15.35:  90%|█████████ | 9/10 [00:18<00:02,  2.01s/it]\u001b[A\n",
      "\n",
      "image update: 100%|██████████| 2/2.0 [00:21<00:00, 10.64s/it]\u001b[A\u001b[A\n",
      "loss: -16.28:  90%|█████████ | 9/10 [00:21<00:02,  2.01s/it]\u001b[A\n",
      "loss: -16.28: 100%|██████████| 10/10 [00:21<00:00,  2.14s/it]\n",
      "      epochs: 100%|██████████| 1/1 [00:21<00:00, 21.44s/it]\n",
      "image update: 100%|██████████| 2/2.0 [00:22<00:00, 11.18s/it]\n"
     ]
    },
    {
     "name": "stdout",
     "output_type": "stream",
     "text": [
      "Imagining \"Ammonite\" ...\n"
     ]
    },
    {
     "name": "stderr",
     "output_type": "stream",
     "text": [
      "\n",
      "\n",
      "      epochs:   0%|          | 0/1 [00:00<?, ?it/s]\n",
      "   iteration:   0%|          | 0/10 [00:00<?, ?it/s]\u001b[A\n",
      "loss: -11.02:   0%|          | 0/10 [00:01<?, ?it/s]\u001b[A\n",
      "loss: -11.02:  10%|█         | 1/10 [00:01<00:17,  1.91s/it]\u001b[A\n",
      "loss: -7.94:  10%|█         | 1/10 [00:03<00:17,  1.91s/it] \u001b[A\n",
      "loss: -7.94:  20%|██        | 2/10 [00:03<00:15,  1.92s/it]\u001b[A\n",
      "loss: -8.11:  20%|██        | 2/10 [00:05<00:15,  1.92s/it]\u001b[A\n",
      "loss: -8.11:  30%|███       | 3/10 [00:05<00:13,  1.92s/it]\u001b[A\n",
      "loss: -8.89:  30%|███       | 3/10 [00:07<00:13,  1.92s/it]\u001b[A\n",
      "loss: -8.89:  40%|████      | 4/10 [00:07<00:11,  1.91s/it]\u001b[A\n",
      "\n",
      "image update:  50%|█████     | 1/2.0 [00:10<00:10, 10.46s/it]\u001b[A\u001b[A\n",
      "loss: -16.16:  40%|████      | 4/10 [00:10<00:11,  1.91s/it]\u001b[A\n",
      "loss: -16.16:  50%|█████     | 5/10 [00:10<00:11,  2.28s/it]\u001b[A\n",
      "loss: -17.39:  50%|█████     | 5/10 [00:12<00:11,  2.28s/it]\u001b[A\n",
      "loss: -17.39:  60%|██████    | 6/10 [00:12<00:08,  2.16s/it]\u001b[A\n",
      "loss: -19.00:  60%|██████    | 6/10 [00:14<00:08,  2.16s/it]\u001b[A\n",
      "loss: -19.00:  70%|███████   | 7/10 [00:14<00:06,  2.08s/it]\u001b[A\n",
      "loss: -16.59:  70%|███████   | 7/10 [00:16<00:06,  2.08s/it]\u001b[A\n",
      "loss: -16.59:  80%|████████  | 8/10 [00:16<00:04,  2.03s/it]\u001b[A\n",
      "loss: -16.45:  80%|████████  | 8/10 [00:18<00:04,  2.03s/it]\u001b[A\n",
      "loss: -16.45:  90%|█████████ | 9/10 [00:18<00:01,  1.99s/it]\u001b[A\n",
      "\n",
      "image update: 100%|██████████| 2/2.0 [00:21<00:00, 10.57s/it]\u001b[A\u001b[A\n",
      "loss: -16.74:  90%|█████████ | 9/10 [00:21<00:01,  1.99s/it]\u001b[A\n",
      "loss: -16.74: 100%|██████████| 10/10 [00:21<00:00,  2.13s/it]\n",
      "      epochs: 100%|██████████| 1/1 [00:21<00:00, 21.32s/it]\n"
     ]
    }
   ],
   "source": [
    "import os\n",
    "\n",
    "import pandas as pd\n",
    "from big_sleep import Imagine\n",
    "\n",
    "lb2021 = pd.read_csv('machine-curation/datasets/liverpool_biennial_2021/LB2021_metadata.csv')\n",
    "\n",
    "for item in lb2021.clean_title:\n",
    "    dream = Imagine(\n",
    "        text=item,\n",
    "        lr=5e-2,\n",
    "        epochs=1,\n",
    "        save_every=200,\n",
    "        save_progress=True,\n",
    "        iterations=1000,\n",
    "        num_cutouts=32,\n",
    "        save_best=True,\n",
    "    )\n",
    "    dream()\n",
    "\n",
    "# Move 'best' machine generated images into a data dir\n",
    "data_dir = \"title_to_image_data\"\n",
    "os.mkdir(data_dir)\n",
    "for file in os.listdir():\n",
    "    if file.endswith(\".best.png\"):\n",
    "        os.rename(file, os.path.join(data_dir, file))\n",
    "    elif file.endswith(\".png\"):\n",
    "        # clean cwdir\n",
    "        os.remove(file)\n"
   ]
  },
  {
   "cell_type": "markdown",
   "metadata": {
    "id": "f98w2iHMsTAl"
   },
   "source": [
    "## Extract keywords\n"
   ]
  },
  {
   "cell_type": "markdown",
   "metadata": {
    "id": "tgA_IZZAEZxy"
   },
   "source": [
    "Each artwork in the Liverpool Biennial is associated with detailed written literature discussing the themes, contexts and factual basis underlying the artwork. For example:"
   ]
  },
  {
   "cell_type": "markdown",
   "metadata": {
    "id": "DnVXq9mFArGG"
   },
   "source": [
    "*Pan African Flag for the Relic Travellers' Alliance*, by Larry Achiampong .....\n",
    "\n",
    "![original_image](https://raw.githubusercontent.com/DurhamARC/machine-curation/master/datasets/liverpool_biennial_2021/example_images/pan_african_flag.png)\n",
    "\n",
    " ....... Maps to the following project description (from the Liverpool Biennial [website](https://www.liverpoolbiennial2021.com/))\n",
    "\n",
    "> \"Larry Achiampong presents a series of eight different Pan African flags, exhibited across ten locations, on buildings and streets throughout Liverpool city centre. With some designs featuring 54 stars that represent the 54 countries of Africa, the flags evoke solidarity and collective empathy – while some of their locations speak to Liverpool’s connection with the enslavement of West Africans as part of the transatlantic slave trade. The colours of the flags reflect Pan African symbolism: green, black and red represent Africa’s land, people and the struggles the continent has endured respectively, while yellow-gold represents a new dawn and prosperity. Achiampong has configured these colours into icons that are suggestive of community, motion and the human figure in ascension.For Liverpool Biennial 2021, four of the artist’s flags from his original series are shown - Ascension, Community, Motion and Squadron - as well as four new flag designs that generate new symbolic constitutions;What I hear I Keep – related to the act of sending and receiving messages that resonate.Dualities – related to the connection between those born within the African continent and those of the African Diaspora.Bringers of Life – related to the eternal reverence of the elements that bring and fortify life.Mothership – in praise, honour and respect of the centre of community; Black Womxn.Supported by The African Arts Trust. 'What I Hear I Keep' was commissioned by De La Warr Pavilion.This artwork is now open, local residents can plan your visit here.\""
   ]
  },
  {
   "cell_type": "markdown",
   "metadata": {
    "id": "TIB9msvjEwJL"
   },
   "source": [
    "Our machine curator can extract keywords from the project descriptions for each artwork in the Liverpool Biennial. We demonstrate this step here. Subsequently, this will be used to facilitate transitions to images that resonate as similar with the keywords that we extract from the project descriptions in this step."
   ]
  },
  {
   "cell_type": "markdown",
   "metadata": {
    "id": "wceNFQdvsxui"
   },
   "source": [
    "First, import the modules:"
   ]
  },
  {
   "cell_type": "code",
   "execution_count": 4,
   "metadata": {
    "colab": {
     "base_uri": "https://localhost:8080/"
    },
    "id": "L1yG3jvZsVJ4",
    "outputId": "641f38ed-6938-49d5-b37c-2244e59cba0d"
   },
   "outputs": [
    {
     "name": "stdout",
     "output_type": "stream",
     "text": [
      "Requirement already satisfied: sentence_transformers in /usr/local/lib/python3.7/dist-packages (2.0.0)\n",
      "Requirement already satisfied: torch>=1.6.0 in /usr/local/lib/python3.7/dist-packages (from sentence_transformers) (1.9.0+cu102)\n",
      "Requirement already satisfied: sentencepiece in /usr/local/lib/python3.7/dist-packages (from sentence_transformers) (0.1.96)\n",
      "Requirement already satisfied: scipy in /usr/local/lib/python3.7/dist-packages (from sentence_transformers) (1.4.1)\n",
      "Requirement already satisfied: torchvision in /usr/local/lib/python3.7/dist-packages (from sentence_transformers) (0.10.0+cu102)\n",
      "Requirement already satisfied: scikit-learn in /usr/local/lib/python3.7/dist-packages (from sentence_transformers) (0.22.2.post1)\n",
      "Requirement already satisfied: transformers<5.0.0,>=4.6.0 in /usr/local/lib/python3.7/dist-packages (from sentence_transformers) (4.9.2)\n",
      "Requirement already satisfied: numpy in /usr/local/lib/python3.7/dist-packages (from sentence_transformers) (1.19.5)\n",
      "Requirement already satisfied: tqdm in /usr/local/lib/python3.7/dist-packages (from sentence_transformers) (4.62.0)\n",
      "Requirement already satisfied: huggingface-hub in /usr/local/lib/python3.7/dist-packages (from sentence_transformers) (0.0.12)\n",
      "Requirement already satisfied: nltk in /usr/local/lib/python3.7/dist-packages (from sentence_transformers) (3.2.5)\n",
      "Requirement already satisfied: typing-extensions in /usr/local/lib/python3.7/dist-packages (from torch>=1.6.0->sentence_transformers) (3.7.4.3)\n",
      "Requirement already satisfied: importlib-metadata in /usr/local/lib/python3.7/dist-packages (from transformers<5.0.0,>=4.6.0->sentence_transformers) (4.6.4)\n",
      "Requirement already satisfied: requests in /usr/local/lib/python3.7/dist-packages (from transformers<5.0.0,>=4.6.0->sentence_transformers) (2.23.0)\n",
      "Requirement already satisfied: sacremoses in /usr/local/lib/python3.7/dist-packages (from transformers<5.0.0,>=4.6.0->sentence_transformers) (0.0.45)\n",
      "Requirement already satisfied: packaging in /usr/local/lib/python3.7/dist-packages (from transformers<5.0.0,>=4.6.0->sentence_transformers) (21.0)\n",
      "Requirement already satisfied: regex!=2019.12.17 in /usr/local/lib/python3.7/dist-packages (from transformers<5.0.0,>=4.6.0->sentence_transformers) (2019.12.20)\n",
      "Requirement already satisfied: pyyaml>=5.1 in /usr/local/lib/python3.7/dist-packages (from transformers<5.0.0,>=4.6.0->sentence_transformers) (5.4.1)\n",
      "Requirement already satisfied: filelock in /usr/local/lib/python3.7/dist-packages (from transformers<5.0.0,>=4.6.0->sentence_transformers) (3.0.12)\n",
      "Requirement already satisfied: tokenizers<0.11,>=0.10.1 in /usr/local/lib/python3.7/dist-packages (from transformers<5.0.0,>=4.6.0->sentence_transformers) (0.10.3)\n",
      "Requirement already satisfied: pyparsing>=2.0.2 in /usr/local/lib/python3.7/dist-packages (from packaging->transformers<5.0.0,>=4.6.0->sentence_transformers) (2.4.7)\n",
      "Requirement already satisfied: zipp>=0.5 in /usr/local/lib/python3.7/dist-packages (from importlib-metadata->transformers<5.0.0,>=4.6.0->sentence_transformers) (3.5.0)\n",
      "Requirement already satisfied: six in /usr/local/lib/python3.7/dist-packages (from nltk->sentence_transformers) (1.15.0)\n",
      "Requirement already satisfied: urllib3!=1.25.0,!=1.25.1,<1.26,>=1.21.1 in /usr/local/lib/python3.7/dist-packages (from requests->transformers<5.0.0,>=4.6.0->sentence_transformers) (1.25.11)\n",
      "Requirement already satisfied: idna<3,>=2.5 in /usr/local/lib/python3.7/dist-packages (from requests->transformers<5.0.0,>=4.6.0->sentence_transformers) (2.10)\n",
      "Requirement already satisfied: chardet<4,>=3.0.2 in /usr/local/lib/python3.7/dist-packages (from requests->transformers<5.0.0,>=4.6.0->sentence_transformers) (3.0.4)\n",
      "Requirement already satisfied: certifi>=2017.4.17 in /usr/local/lib/python3.7/dist-packages (from requests->transformers<5.0.0,>=4.6.0->sentence_transformers) (2021.5.30)\n",
      "Requirement already satisfied: click in /usr/local/lib/python3.7/dist-packages (from sacremoses->transformers<5.0.0,>=4.6.0->sentence_transformers) (7.1.2)\n",
      "Requirement already satisfied: joblib in /usr/local/lib/python3.7/dist-packages (from sacremoses->transformers<5.0.0,>=4.6.0->sentence_transformers) (1.0.1)\n",
      "Requirement already satisfied: pillow>=5.3.0 in /usr/local/lib/python3.7/dist-packages (from torchvision->sentence_transformers) (7.1.2)\n"
     ]
    }
   ],
   "source": [
    "!pip install sentence_transformers\n",
    "\n",
    "import numpy as np\n",
    "import pandas as pd\n",
    "import itertools\n",
    "from sklearn.feature_extraction.text import CountVectorizer\n",
    "from sentence_transformers import SentenceTransformer\n",
    "from sklearn.metrics.pairwise import cosine_similarity"
   ]
  },
  {
   "cell_type": "markdown",
   "metadata": {
    "id": "HYgs7LY7s4XF"
   },
   "source": [
    "Load the BERT model and read in our dataset (our workflow here follows [this](https://towardsdatascience.com/keyword-extraction-with-bert-724efca412ea#_=_) example):"
   ]
  },
  {
   "cell_type": "code",
   "execution_count": 5,
   "metadata": {
    "id": "Q8HxRwP5sViW"
   },
   "outputs": [],
   "source": [
    "model = SentenceTransformer('distilbert-base-nli-mean-tokens')\n",
    "\n",
    "lb2021 = pd.read_csv('machine-curation/datasets/liverpool_biennial_2021/LB2021_metadata.csv')"
   ]
  },
  {
   "cell_type": "markdown",
   "metadata": {
    "id": "sfQzXyZMtMRT"
   },
   "source": [
    "Define a diversification function:"
   ]
  },
  {
   "cell_type": "code",
   "execution_count": 6,
   "metadata": {
    "id": "z1OAUENosV4U"
   },
   "outputs": [],
   "source": [
    "def max_sum_sim(doc_embedding, word_embeddings, words, top_n, nr_candidates):\n",
    "    # Calculate distances and extract keywords\n",
    "    distances = cosine_similarity(doc_embedding, word_embeddings)\n",
    "    distances_candidates = cosine_similarity(word_embeddings, \n",
    "                                             word_embeddings)\n",
    "\n",
    "    # Get top_n words as candidates based on cosine similarity\n",
    "    words_idx = list(distances.argsort()[0][-nr_candidates:])\n",
    "    words_vals = [words[index] for index in words_idx]\n",
    "    distances_candidates = distances_candidates[np.ix_(words_idx, words_idx)]\n",
    "\n",
    "    # Calculate the combination of words that are the least similar to each other\n",
    "    min_sim = np.inf\n",
    "    candidate = None\n",
    "    for combination in itertools.combinations(range(len(words_idx)), top_n):\n",
    "        sim = sum([distances_candidates[i][j] for i in combination for j in combination if i != j])\n",
    "        if sim < min_sim:\n",
    "            candidate = combination\n",
    "            min_sim = sim\n",
    "\n",
    "    return [words_vals[idx] for idx in candidate]"
   ]
  },
  {
   "cell_type": "markdown",
   "metadata": {
    "id": "FSAgtlXrI5Et"
   },
   "source": [
    "Define a function to extract keywords:"
   ]
  },
  {
   "cell_type": "code",
   "execution_count": 7,
   "metadata": {
    "id": "yGop-n8tI9WR"
   },
   "outputs": [],
   "source": [
    "n_gram_range = (3, 3)\n",
    "stop_words = \"english\"\n",
    "\n",
    "def extract_keywords(project_description):\n",
    "    count = CountVectorizer(ngram_range=n_gram_range, stop_words=stop_words).fit([project_description])\n",
    "    candidates = count.get_feature_names()\n",
    "    doc_embedding = model.encode([project_description])\n",
    "    candidate_embeddings = model.encode(candidates)\n",
    "    return max_sum_sim(doc_embedding, candidate_embeddings, candidates, top_n=5, nr_candidates=20)\n"
   ]
  },
  {
   "cell_type": "markdown",
   "metadata": {
    "id": "Mz4OTjgZJrYA"
   },
   "source": [
    "Now we can extract keywords from the example we looked at above - *Pan African Flag for the Relic Travellers' Alliance* by Larry Achiampong."
   ]
  },
  {
   "cell_type": "code",
   "execution_count": 8,
   "metadata": {
    "colab": {
     "base_uri": "https://localhost:8080/"
    },
    "id": "Kt3F2D5jKL0d",
    "outputId": "7ad637bc-40f0-4196-84a2-24dfc0bd5371"
   },
   "outputs": [
    {
     "name": "stdout",
     "output_type": "stream",
     "text": [
      "The keywords for the 'Pan African Flag for the Relic Travellers' Alliance' project description are:\n",
      "  1) 'featuring 54 stars'\n",
      "  2) 'biennial 2021 artist'\n",
      "  3) 'transatlantic slave trade'\n",
      "  4) 'african symbolism green'\n",
      "  5) 'community black womxn'\n"
     ]
    }
   ],
   "source": [
    "# Extract the project description from our LB csv\n",
    "project_description = lb2021.loc[lb2021.artist == \"larry-achiampong\", \"featured_text\"].values[0]\n",
    "\n",
    "# Extract keywords from project description\n",
    "keywords = extract_keywords(project_description)\n",
    "\n",
    "print(\"The keywords for the 'Pan African Flag for the Relic Travellers' Alliance' project description are:\")\n",
    "for count, keyword in enumerate(keywords):\n",
    "    print(f\"  {count+1}) '{keyword}'\")"
   ]
  },
  {
   "cell_type": "markdown",
   "metadata": {
    "id": "ur4qC72Dg6oL"
   },
   "source": [
    "There we have it - the keywords for the 'Pan African Flag for the Relic Travellers' Alliance' project description."
   ]
  },
  {
   "cell_type": "markdown",
   "metadata": {
    "id": "oXJKxCittoUe"
   },
   "source": [
    "We can now use the same methodology to extract keywords from all LB2021 project descriptions:"
   ]
  },
  {
   "cell_type": "code",
   "execution_count": 9,
   "metadata": {
    "colab": {
     "base_uri": "https://localhost:8080/"
    },
    "id": "s83GwNb8toz0",
    "outputId": "746d138a-c0d0-441e-8ec7-ed1f3e44c341"
   },
   "outputs": [
    {
     "name": "stdout",
     "output_type": "stream",
     "text": [
      "The keywords for 'Meat is Not Murder' by pedro-neves-marques-haut are:\n",
      "  1) 'artificiality biotech fluidity'\n",
      "  2) 'rights advocate vegan'\n",
      "  3) '2021 umbrella term'\n",
      "  4) 'woman ovary raw'\n",
      "  5) 'meat murder narrates'\n",
      "The keywords for 'Osteoclast (I do not know how I came to be on board this ship, this navel of my ark)' by teresa-solar are:\n",
      "  1) 'liverpool biennial liverpool'\n",
      "  2) 'ports facilitating transatlantic'\n",
      "  3) 'sculptures anchor history'\n",
      "  4) 'newly commissioned outdoor'\n",
      "  5) 'solar kayaks turned'\n",
      "The keywords for 'I I I (something flat, something cosmic, something endless)' by serafine1369 are:\n",
      "  1) 'situates research obsession'\n",
      "  2) 'body dreams nightmares'\n",
      "  3) 'weekend commissioned liverpool'\n",
      "  4) 'endless 2021 bluecoat'\n",
      "  5) 'march 8pm work'\n",
      "The keywords for 'hyperbolisch ratlos ortlos inhaltslos' by reto-pulfer are:\n",
      "  1) 'immersive textile installations'\n",
      "  2) 'uckermark region germany'\n",
      "  3) 'environmental sculptures reflecting'\n",
      "  4) 'switzerland largest landscape'\n",
      "  5) 'newly commissioned site'\n",
      "The keywords for 'La Pensee Ferale' by daniel-steegmann-mangrane are:\n",
      "  1) 'pariah dog bangladesh'\n",
      "  2) 'film bluecoat steegmann'\n",
      "  3) 'planted forest black'\n",
      "  4) 'newly commissioned outdoor'\n",
      "  5) 'art summit 2020'\n",
      "The keywords for 'Borrowed Lady ' by martine-syms are:\n",
      "  1) 'liverpool taking cue'\n",
      "  2) 'impressions cinema recuperation'\n",
      "  3) 'politics gesture scholar'\n",
      "  4) 'seventeenth century physician'\n",
      "  5) 'lady 2015 tate'\n",
      "The keywords for 'between a whisper and a cry' by alberta-whittle are:\n",
      "  1) 'contemporary tourist industry'\n",
      "  2) 'combines archival footages'\n",
      "  3) 'ocean life invoking'\n",
      "  4) 'film whisper 2019'\n",
      "  5) 'day climate instability'\n",
      "The keywords for 'Tongues' by anu-poder are:\n",
      "  1) 'fear enlarged size'\n",
      "  2) 'estonia occupied soviet'\n",
      "  3) 'cast soap working'\n",
      "  4) 'women violent imagery'\n",
      "  5) '1998 tate collection'\n",
      "The keywords for 'Sundown' by xaviera-simmons are:\n",
      "  1) 'american landscape simmons'\n",
      "  2) 'segregation great migration'\n",
      "  3) 'drugs mass incarceration'\n",
      "  4) 'cotton exchange building'\n",
      "  5) 'biennial photoworks exhibition'\n",
      "The keywords for 'The Next Biennial Should be Curated by a Machine' by ubermorgen-leonardo-impett-joasia-krysa are:\n",
      "  1) 'biennial whitney museum'\n",
      "  2) 'reimagining future curating'\n",
      "  3) 'websites liverpool biennial'\n",
      "  4) 'b³ tnscam 2021'\n",
      "  5) 'artists ubermorgen digital'\n",
      "The keywords for 'Sugar Routes' by zineb-sedira are:\n",
      "  1) 'space encounter sugar'\n",
      "  2) 'provence 2013 european'\n",
      "  3) 'prints depict sugar'\n",
      "  4) '2013 european capital'\n",
      "  5) 'continued trade sugar'\n",
      "The keywords for 'Pteridophilia' by zheng-bo are:\n",
      "  1) 'sexuality love incorporate'\n",
      "  2) 'plants subjects films'\n",
      "  3) 'queer people pushing'\n",
      "  4) 'queer ecology rejects'\n",
      "  5) 'pteridophilia series 2016'\n",
      "The keywords for 'Indigo, Orange and Plum Matter (I Magma cycle)' by jenna-sutela are:\n",
      "  1) 'science gallery london'\n",
      "  2) 'ongoing series magma'\n",
      "  3) 'space work celebrates'\n",
      "  4) 'explores psychedelic history'\n",
      "  5) '2021 supported finnish'\n",
      "The keywords for 'Testa' by andre-romao are:\n",
      "  1) 'crafted wood generator'\n",
      "  2) 'mussels testa 2019'\n",
      "  3) 'blue plexiglass disk'\n",
      "  4) 'moonrise 2019 large'\n",
      "  5) 'italian antique sculpture'\n",
      "The keywords for 'Bad Fruit' by kathleen-ryan are:\n",
      "  1) 'infinite shape rusty'\n",
      "  2) 'negotiate organic mechanic'\n",
      "  3) 'interior select sculptures'\n",
      "  4) 'tall iron structure'\n",
      "  5) 'sculptural works bluecoat'\n",
      "The keywords for 'fraught for those who bear bare witness' by ebony-g-patterson are:\n",
      "  1) 'death bodies fallen'\n",
      "  2) 'commissioned liverpool biennial'\n",
      "  3) 'patterson considers gardens'\n",
      "  4) 'blood tears new'\n",
      "  5) 'space beauty burial'\n",
      "The keywords for 'deader than dead' by ligia-lewis are:\n",
      "  1) 'deader dead 2020'\n",
      "  2) 'documented dance performance'\n",
      "  3) 'tomorrow tomorrow tomorrow'\n",
      "  4) 'liverpool biennial live'\n",
      "  5) 'dancers perform macbeth'\n",
      "The keywords for 'Femme Colonne' by jutta-koether are:\n",
      "  1) 'galerie buchholz berlin'\n",
      "  2) 'commissioned liverpool biennial'\n",
      "  3) 'male painters grotesque'\n",
      "  4) 'koether painting constantly'\n",
      "  5) 'palette paintings deceivingly'\n",
      "The keywords for 'Like a filter, matters passed through you and became a part of you' by luo-jr-shin are:\n",
      "  1) '2021 lewis building'\n",
      "  2) 'ingredients beer coats'\n",
      "  3) 'cyclical drinking urinating'\n",
      "  4) 'nightclub golden liquid'\n",
      "  5) 'installation shifts toilet'\n",
      "The keywords for 'Wet Job' by camille-henrot are:\n",
      "  1) 'job 2020 21'\n",
      "  2) 'excess leaking breasts'\n",
      "  3) 'motherhood embedded subjectivity'\n",
      "  4) 'biology deprive women'\n",
      "  5) 'newly commissioned sculptures'\n",
      "The keywords for 'A Maze in Grace ' by neo-muyanga are:\n",
      "  1) 'slaves brazil work'\n",
      "  2) 'amazing grace hymn'\n",
      "  3) 'new 12 vinyl'\n",
      "  4) 'slaver turned abolitionist'\n",
      "  5) '2021 video installation'\n",
      "The keywords for 'The Coast' by sohrab-hura are:\n",
      "  1) 'photography print text'\n",
      "  2) 'coast 2020 series'\n",
      "  3) 'photographs veer violent'\n",
      "  4) 'bathers sea night'\n",
      "  5) 'bird 2017 shown'\n",
      "The keywords for 'Jiibie' by laura-huertas-millan are:\n",
      "  1) 'coca forms crucial'\n",
      "  2) 'americas kin family'\n",
      "  3) 'notion harvesting cocaine'\n",
      "  4) '2019 bluecoat film'\n",
      "  5) 'ritual green coca'\n",
      "The keywords for 'Bower of Bliss' by linder are:\n",
      "  1) 'commissioned liverpool biennial'\n",
      "  2) 'domestic fashion magazines'\n",
      "  3) 'magazines pornographic imagery'\n",
      "  4) 'local dancers lauren'\n",
      "  5) 'bickershaw festival 1972'\n",
      "The keywords for 'Stacked Heads' by rashid-johnson are:\n",
      "  1) 'bronze furnished plants'\n",
      "  2) 'sculpture takes inspiration'\n",
      "  3) 'anxious men 2015'\n",
      "  4) 'grow sculpture yucca'\n",
      "  5) '2020 canning dock'\n",
      "The keywords for 'Mauvaise Alphabet ' by jorgge-menna-barreto are:\n",
      "  1) 'publication enzyme life'\n",
      "  2) 'culminating mural bluecoat'\n",
      "  3) 'final mural presentation'\n",
      "  4) 'weeds liverpool creating'\n",
      "  5) 'students local mural'\n",
      "The keywords for 'GRITO Las Brisas de Febrero' by invernomuto-jim-c-nedd are:\n",
      "  1) 'street parties piece'\n",
      "  2) 'colombia work centres'\n",
      "  3) 'transatlantic slave trade'\n",
      "  4) '2021 liverpool cotton'\n",
      "  5) 'playing vintage afrocolombian'\n",
      "The keywords for 'Balindile I' by nicholas-hlobo are:\n",
      "  1) 'balindile 2012 created'\n",
      "  2) 'rubber gathered repair'\n",
      "  3) 'south africa sculptures'\n",
      "  4) 'johannesburg association cars'\n",
      "  5) 'reflects politics gender'\n",
      "The keywords for 'Superposition' by erick-beltran are:\n",
      "  1) 'paradigms cumbia music'\n",
      "  2) '2021 set graphical'\n",
      "  3) 'commissioned liverpool biennial'\n",
      "  4) 'pieces taxi cabs'\n",
      "  5) 'proprioception quantum physics'\n",
      "The keywords for 'I sing of the sea, I am mermaid of the trees' by ayesha-hameed are:\n",
      "  1) 'thousands miles undersea'\n",
      "  2) 'violence transmitted seafloor'\n",
      "  3) '2021 newly commissioned'\n",
      "  4) 'outbreak revolt 1857'\n",
      "  5) 'sing sea mermaid'\n",
      "The keywords for 'Human ear complaining to Nature from the Spiegel der Weisheit manuscript' by luisa-ungar are:\n",
      "  1) 'presented newly commissioned'\n",
      "  2) 'song spell consultations'\n",
      "  3) 'weekly phone calls'\n",
      "  4) 'colonial disease 2021'\n",
      "  5) 'hygienisation witch hunting'\n",
      "The keywords for 'Mouth of Medusa' by roland-persson are:\n",
      "  1) 'silicone pieces retain'\n",
      "  2) 'life art history'\n",
      "  3) 'illustration leaf cactus'\n",
      "  4) 'bluecoat toying classical'\n",
      "  5) 'drawing sculptural installation'\n",
      "The keywords for 'The Only Good System Is a Soundsystem' by b.o.s.s are:\n",
      "  1) 'lux weaving archival'\n",
      "  2) 'culture spaces collective'\n",
      "  3) 'sound score sculpture'\n",
      "  4) 'healing commissioned liverpool'\n",
      "  5) 'new short film'\n",
      "The keywords for 'Life and Death by Water' by lamin-fofana are:\n",
      "  1) 'realities racial capitalism'\n",
      "  2) 'murdered drowning ship'\n",
      "  3) 'book length poem'\n",
      "  4) '2021 large scale'\n",
      "  5) '150 enslaved africans'\n",
      "The keywords for 'Wingspan of the captive' by yael-davids are:\n",
      "  1) 'sessions embodied birds'\n",
      "  2) 'henderson lotte lara'\n",
      "  3) 'library david project'\n",
      "  4) 'captive 2021 liverpool'\n",
      "  5) 'american naturalist painter'\n",
      "The keywords for 'Pan African Flag for the Relic Travellers' Alliance' by larry-achiampong are:\n",
      "  1) 'featuring 54 stars'\n",
      "  2) 'biennial 2021 artist'\n",
      "  3) 'transatlantic slave trade'\n",
      "  4) 'african symbolism green'\n",
      "  5) 'community black womxn'\n",
      "The keywords for 'The Goblets' by ane-graff are:\n",
      "  1) 'anxiety disorder 2021'\n",
      "  2) 'contemporary art norway'\n",
      "  3) 'including food medications'\n",
      "  4) 'research environmental risk'\n",
      "  5) 'tables inspired feminist'\n",
      "The keywords for 'Untitled' by dr-lakra are:\n",
      "  1) 'contemporáneo embassy mexico'\n",
      "  2) 'british american sailors'\n",
      "  3) 'drawing practice inspired'\n",
      "  4) 'biennial 2021 lakra'\n",
      "  5) 'history tattooing practice'\n",
      "The keywords for 'Even an awkward smile can sprout beyond the sun' by jade-fadojutimi are:\n",
      "  1) 'complex emotional landscapes'\n",
      "  2) 'artist pippy houldsworth'\n",
      "  3) 'oils oil sticks'\n",
      "  4) 'visitors enjoy art'\n",
      "  5) 'paintings bluecoat using'\n",
      "The keywords for 'Horror Vacui' by david-zink-yi are:\n",
      "  1) 'video installation horror'\n",
      "  2) 'combines footage rehearsals'\n",
      "  3) 'dr martin luther'\n",
      "  4) 'rooted afro cuban'\n",
      "  5) 'afuera latin band'\n",
      "The keywords for 'Networks' by jes-fan are:\n",
      "  1) 'gallery exhibition programme'\n",
      "  2) 'ongoing sprawling new'\n",
      "  3) 'differences sculpture incubator'\n",
      "  4) '2021 network survival'\n",
      "  5) 'sculpture incubator black'\n",
      "The keywords for 'Masterless Voices' by ines-doujak-john-barker are:\n",
      "  1) 'spread disease parasite'\n",
      "  2) 'uncovering histories globalisation'\n",
      "  3) 'masterless voices 2014'\n",
      "  4) 'roots carnival patterns'\n",
      "  5) 'liverpool new podcast'\n",
      "The keywords for 'Body Percussion Ensemble' by kekeca are:\n",
      "  1) 'network schools liverpool'\n",
      "  2) 'kekeça body percussion'\n",
      "  3) 'workshops wider audiences'\n",
      "  4) 'recorded live streamed'\n",
      "  5) 'biennial learning programme'\n",
      "The keywords for 'Volcanic Landscape' by ithell-colquhoun are:\n",
      "  1) 'interests occultism surrealism'\n",
      "  2) 'tate liverpool colquhoun'\n",
      "  3) 'work contemporary artist'\n",
      "  4) 'science accelerating science'\n",
      "  5) 'process 1940 volcanic'\n",
      "The keywords for 'Inflation' by diego-bianchi are:\n",
      "  1) 'objects car parts'\n",
      "  2) 'site specific installation'\n",
      "  3) 'fictional machinery work'\n",
      "  4) 'organic matter bioplastics'\n",
      "  5) 'life works reconfigure'\n",
      "The keywords for 'Timbre' by sonia-gomes are:\n",
      "  1) 'original owners tying'\n",
      "  2) 'taking errant leftovers'\n",
      "  3) 'liverpool cotton exchange'\n",
      "  4) 'materials gives new'\n",
      "  5) 'life sculptures metaphorically'\n",
      "The keywords for 'Through the Flower' by judy-chicago are:\n",
      "  1) 'practice 1970s exhibition'\n",
      "  2) 'paintings flower 1972'\n",
      "  3) 'imagery depicting childbirth'\n",
      "  4) 'space work women'\n",
      "  5) 'chicago early feminist'\n",
      "The keywords for 'turbulence' by christopher-cozier are:\n",
      "  1) 'space transnational trading'\n",
      "  2) 'economic environmental history'\n",
      "  3) 'ecology imagination science'\n",
      "  4) 'turbulence 2019 2021'\n",
      "  5) 'newly commissioned drawings'\n",
      "The keywords for 'Pathology in Three Parts' by haroon-mirza are:\n",
      "  1) 'parts 2021 vocal'\n",
      "  2) 'pathology parts 2021'\n",
      "  3) 'mirza latest album'\n",
      "  4) 'international festival 2019'\n",
      "  5) 'new choral performance'\n",
      "The keywords for 'Ammonite' by alice-channer are:\n",
      "  1) 'fossils channer large'\n",
      "  2) 'primordial excavations zooming'\n",
      "  3) 'rock surfaces tuning'\n",
      "  4) 'presented series sculptures'\n",
      "  5) 'surfaces seeing bone'\n"
     ]
    }
   ],
   "source": [
    "all_keywords = []\n",
    "for project_description in lb2021.featured_text:\n",
    "    all_keywords.append(extract_keywords(project_description))\n",
    "\n",
    "for index, keyword_set in enumerate(all_keywords):\n",
    "    print(f\"The keywords for '{lb2021.iloc[index].clean_title}' by {lb2021.iloc[index].artist} are:\")\n",
    "    for index, keyword in enumerate(keyword_set):\n",
    "        print(f\"  {index+1}) '{keyword}'\")"
   ]
  },
  {
   "cell_type": "markdown",
   "metadata": {
    "id": "hWKTEQlyw3hm"
   },
   "source": [
    "## Generate image captions"
   ]
  },
  {
   "cell_type": "markdown",
   "metadata": {
    "id": "VRCONEeuaQqt"
   },
   "source": [
    "Generating image captions using CATR"
   ]
  },
  {
   "cell_type": "code",
   "execution_count": 10,
   "metadata": {
    "colab": {
     "base_uri": "https://localhost:8080/"
    },
    "id": "PVPTQ6xlaauD",
    "outputId": "d5ecee4b-158b-40e8-cf20-74fe61d85541"
   },
   "outputs": [
    {
     "name": "stdout",
     "output_type": "stream",
     "text": [
      "Cloning into 'catr'...\n",
      "remote: Enumerating objects: 121, done.\u001b[K\n",
      "remote: Counting objects: 100% (121/121), done.\u001b[K\n",
      "remote: Compressing objects: 100% (91/91), done.\u001b[K\n",
      "remote: Total 121 (delta 55), reused 74 (delta 27), pack-reused 0\u001b[K\n",
      "Receiving objects: 100% (121/121), 3.05 MiB | 33.94 MiB/s, done.\n",
      "Resolving deltas: 100% (55/55), done.\n",
      "/content/catr\n",
      "Requirement already satisfied: torch in /usr/local/lib/python3.7/dist-packages (from -r requirements.txt (line 1)) (1.9.0+cu102)\n",
      "Requirement already satisfied: torchvision in /usr/local/lib/python3.7/dist-packages (from -r requirements.txt (line 2)) (0.10.0+cu102)\n",
      "Requirement already satisfied: numpy in /usr/local/lib/python3.7/dist-packages (from -r requirements.txt (line 3)) (1.19.5)\n",
      "Requirement already satisfied: transformers in /usr/local/lib/python3.7/dist-packages (from -r requirements.txt (line 4)) (4.9.2)\n",
      "Requirement already satisfied: tqdm in /usr/local/lib/python3.7/dist-packages (from -r requirements.txt (line 5)) (4.62.0)\n",
      "Requirement already satisfied: typing-extensions in /usr/local/lib/python3.7/dist-packages (from torch->-r requirements.txt (line 1)) (3.7.4.3)\n",
      "Requirement already satisfied: pillow>=5.3.0 in /usr/local/lib/python3.7/dist-packages (from torchvision->-r requirements.txt (line 2)) (7.1.2)\n",
      "Requirement already satisfied: requests in /usr/local/lib/python3.7/dist-packages (from transformers->-r requirements.txt (line 4)) (2.23.0)\n",
      "Requirement already satisfied: importlib-metadata in /usr/local/lib/python3.7/dist-packages (from transformers->-r requirements.txt (line 4)) (4.6.4)\n",
      "Requirement already satisfied: filelock in /usr/local/lib/python3.7/dist-packages (from transformers->-r requirements.txt (line 4)) (3.0.12)\n",
      "Requirement already satisfied: tokenizers<0.11,>=0.10.1 in /usr/local/lib/python3.7/dist-packages (from transformers->-r requirements.txt (line 4)) (0.10.3)\n",
      "Requirement already satisfied: huggingface-hub==0.0.12 in /usr/local/lib/python3.7/dist-packages (from transformers->-r requirements.txt (line 4)) (0.0.12)\n",
      "Requirement already satisfied: regex!=2019.12.17 in /usr/local/lib/python3.7/dist-packages (from transformers->-r requirements.txt (line 4)) (2019.12.20)\n",
      "Requirement already satisfied: packaging in /usr/local/lib/python3.7/dist-packages (from transformers->-r requirements.txt (line 4)) (21.0)\n",
      "Requirement already satisfied: sacremoses in /usr/local/lib/python3.7/dist-packages (from transformers->-r requirements.txt (line 4)) (0.0.45)\n",
      "Requirement already satisfied: pyyaml>=5.1 in /usr/local/lib/python3.7/dist-packages (from transformers->-r requirements.txt (line 4)) (5.4.1)\n",
      "Requirement already satisfied: pyparsing>=2.0.2 in /usr/local/lib/python3.7/dist-packages (from packaging->transformers->-r requirements.txt (line 4)) (2.4.7)\n",
      "Requirement already satisfied: zipp>=0.5 in /usr/local/lib/python3.7/dist-packages (from importlib-metadata->transformers->-r requirements.txt (line 4)) (3.5.0)\n",
      "Requirement already satisfied: urllib3!=1.25.0,!=1.25.1,<1.26,>=1.21.1 in /usr/local/lib/python3.7/dist-packages (from requests->transformers->-r requirements.txt (line 4)) (1.25.11)\n",
      "Requirement already satisfied: idna<3,>=2.5 in /usr/local/lib/python3.7/dist-packages (from requests->transformers->-r requirements.txt (line 4)) (2.10)\n",
      "Requirement already satisfied: certifi>=2017.4.17 in /usr/local/lib/python3.7/dist-packages (from requests->transformers->-r requirements.txt (line 4)) (2021.5.30)\n",
      "Requirement already satisfied: chardet<4,>=3.0.2 in /usr/local/lib/python3.7/dist-packages (from requests->transformers->-r requirements.txt (line 4)) (3.0.4)\n",
      "Requirement already satisfied: click in /usr/local/lib/python3.7/dist-packages (from sacremoses->transformers->-r requirements.txt (line 4)) (7.1.2)\n",
      "Requirement already satisfied: joblib in /usr/local/lib/python3.7/dist-packages (from sacremoses->transformers->-r requirements.txt (line 4)) (1.0.1)\n",
      "Requirement already satisfied: six in /usr/local/lib/python3.7/dist-packages (from sacremoses->transformers->-r requirements.txt (line 4)) (1.15.0)\n",
      "/content\n",
      "popd -> /content\n"
     ]
    }
   ],
   "source": [
    "!git clone https://github.com/saahiluppal/catr.git\n",
    "%pushd catr/\n",
    "!pip install -r requirements.txt\n",
    "%popd"
   ]
  },
  {
   "cell_type": "markdown",
   "metadata": {
    "id": "Bd4--g32aqMA"
   },
   "source": [
    "We can generate captions using the following syntax:\n",
    "\n",
    "`!python predict.py --path <path-to-png>`\n",
    "\n",
    "For example:"
   ]
  },
  {
   "cell_type": "code",
   "execution_count": 11,
   "metadata": {
    "colab": {
     "base_uri": "https://localhost:8080/"
    },
    "id": "Phw9QxGzayUp",
    "outputId": "157e0125-f385-4a9c-aad4-ee9915393d6d"
   },
   "outputs": [
    {
     "name": "stdout",
     "output_type": "stream",
     "text": [
      "The machine generated caption for Ammonite is: 'A close up of a circular sculpture of a round thing'\n"
     ]
    }
   ],
   "source": [
    "import os\n",
    "import subprocess\n",
    "\n",
    "image_path = os.path.join(\n",
    "    os.sep, \n",
    "    'content', \n",
    "    'machine-curation', \n",
    "    lb2021.loc[lb2021.clean_title == 'Ammonite', 'path_to_original_image'].values[0]\n",
    ")\n",
    "output = subprocess.run(['python','catr/predict.py', '--path', image_path], capture_output=True)\n",
    "print(f\"The machine generated caption for Ammonite is: '{output.stdout.decode('ascii').rstrip()}'\")"
   ]
  },
  {
   "cell_type": "markdown",
   "metadata": {
    "id": "gHwD4Sc6SxeO"
   },
   "source": [
    "For interest, here is a picture of the original artwork, *Ammonite*, by Alice Channer:\n",
    "\n",
    "![original_image](https://raw.githubusercontent.com/DurhamARC/machine-curation/master/datasets/liverpool_biennial_2021/example_images/Ammonite.png)\n"
   ]
  },
  {
   "cell_type": "markdown",
   "metadata": {
    "id": "E1hBNq0H2nVY"
   },
   "source": [
    "Now we can repeat the same process to get machine generated captions for all images in the Liverpool Biennial:"
   ]
  },
  {
   "cell_type": "code",
   "execution_count": null,
   "metadata": {
    "colab": {
     "base_uri": "https://localhost:8080/"
    },
    "id": "_OS7No3y2miD",
    "outputId": "8080d9a3-a6c4-4d98-cf72-e6d16f95a523"
   },
   "outputs": [
    {
     "name": "stdout",
     "output_type": "stream",
     "text": [
      "The machine generated caption for 'Meat is Not Murder' by pedro-neves-marques-haut is: 'A person is holding a doughnut in a plastic container.'\n",
      "The machine generated caption for 'Osteoclast (I do not know how I came to be on board this ship, this navel of my ark)' by teresa-solar is: 'A group of orange and white fire hydrants sitting in a parking lot.'\n",
      "The machine generated caption for 'I I I (something flat, something cosmic, something endless)' by serafine1369 is: 'A man laying on the ground while using a cell phone.'\n",
      "The machine generated caption for 'hyperbolisch ratlos ortlos inhaltslos' by reto-pulfer is: 'A bed with a white comforter and a quilt on it.'\n",
      "The machine generated caption for 'La Pensee Ferale' by daniel-steegmann-mangrane is: 'A large statue in front of a tree in a park.'\n",
      "The machine generated caption for 'Borrowed Lady ' by martine-syms is: 'A computer monitor is shown with a picture of a woman on it.'\n",
      "The machine generated caption for 'between a whisper and a cry' by alberta-whittle is: 'A man sitting at a table with a laptop computer.'\n",
      "The machine generated caption for 'Tongues' by anu-poder is: 'A group of five different types of toothbrushes.'\n",
      "The machine generated caption for 'Sundown' by xaviera-simmons is: 'A room with a wall with a tv on it and a lot of pictures on the wall.'\n",
      "The machine generated caption for 'The Next Biennial Should be Curated by a Machine' by ubermorgen-leonardo-impett-joasia-krysa is: 'A sign with a message on it that says \" the library \".'\n",
      "The machine generated caption for 'Sugar Routes' by zineb-sedira is: 'A snowboarder is in a tunnel in a building.'\n",
      "The machine generated caption for 'Pteridophilia' by zheng-bo is: 'A man with a beard eating a green apple.'\n",
      "The machine generated caption for 'Indigo, Orange and Plum Matter (I Magma cycle)' by jenna-sutela is: 'A couple of vases that are on a table'\n",
      "The machine generated caption for 'Testa' by andre-romao is: 'A close up of a cat on a table'\n",
      "The machine generated caption for 'Bad Fruit' by kathleen-ryan is: 'A close up of a cake on a table'\n",
      "The machine generated caption for 'fraught for those who bear bare witness' by ebony-g-patterson is: 'A christmas tree with christmas garland on it.'\n",
      "The machine generated caption for 'deader than dead' by ligia-lewis is: 'A woman in a mask and a pair of shoes'\n",
      "The machine generated caption for 'Femme Colonne' by jutta-koether is: 'A bathroom with a large mirror and a large mirror'\n",
      "The machine generated caption for 'Like a filter, matters passed through you and became a part of you' by luo-jr-shin is: 'A large room with a large glass door and a large window.'\n",
      "The machine generated caption for 'Wet Job' by camille-henrot is: 'A man is standing in a room with a bed and a bed.'\n",
      "The machine generated caption for 'A Maze in Grace ' by neo-muyanga is: 'A woman standing in a room with a large screen tv.'\n",
      "The machine generated caption for 'The Coast' by sohrab-hura is: 'A store with a large display case filled with books.'\n",
      "The machine generated caption for 'Jiibie' by laura-huertas-millan is: 'A man is watching a television in a room'\n",
      "The machine generated caption for 'Bower of Bliss' by linder is: 'A group of people standing around a building.'\n",
      "The machine generated caption for 'Stacked Heads' by rashid-johnson is: 'A statue of a man sitting on a bench in front of a building.'\n",
      "The machine generated caption for 'Mauvaise Alphabet ' by jorgge-menna-barreto is: 'A graffiti covered wall next to a building with graffiti on it.'\n",
      "The machine generated caption for 'GRITO Las Brisas de Febrero' by invernomuto-jim-c-nedd is: 'A man taking a picture of a woman in a mirror.'\n",
      "The machine generated caption for 'Balindile I' by nicholas-hlobo is: 'A pair of glasses and a pair of scissors.'\n",
      "The machine generated caption for 'Superposition' by erick-beltran is: 'A car with a lot of surfboards in the back of it.'\n",
      "The machine generated caption for 'I sing of the sea, I am mermaid of the trees' by ayesha-hameed is: 'A group of blue and blue vases sitting on a table.'\n",
      "The machine generated caption for 'Human ear complaining to Nature from the Spiegel der Weisheit manuscript' by luisa-ungar is: 'A picture of a bed with a picture of a cat.'\n",
      "The machine generated caption for 'Mouth of Medusa' by roland-persson is: 'A cat sitting on a table with a plate of food.'\n",
      "The machine generated caption for 'The Only Good System Is a Soundsystem' by b.o.s.s is: 'A small metal clock sitting on top of a table.'\n",
      "The machine generated caption for 'Life and Death by Water' by lamin-fofana is: 'A room with a large window and a large window.'\n",
      "The machine generated caption for 'Wingspan of the captive' by yael-davids is: 'A large room with a large clock mounted to the wall.'\n",
      "The machine generated caption for 'Pan African Flag for the Relic Travellers' Alliance' by larry-achiampong is: 'A large building with a clock on the front of it'\n",
      "The machine generated caption for 'The Goblets' by ane-graff is: 'A red liquid in a glass filled with liquid.'\n",
      "The machine generated caption for 'Untitled' by dr-lakra is: 'A painting of a bird on a large elephant'\n",
      "The machine generated caption for 'Even an awkward smile can sprout beyond the sun' by jade-fadojutimi is: 'A painting of a picture of a bird on a wall.'\n",
      "The machine generated caption for 'Horror Vacui' by david-zink-yi is: 'A man is playing a guitar hero with a man watching.'\n",
      "The machine generated caption for 'Networks' by jes-fan is: 'A room with a large mirror and a large window.'\n"
     ]
    }
   ],
   "source": [
    "machine_generated_captions = []\n",
    "for index, artwork in enumerate(lb2021.clean_title):\n",
    "    image_path = os.path.join(\n",
    "        os.sep,\n",
    "        'content',\n",
    "        'machine-curation',\n",
    "        lb2021.iloc[index].path_to_original_image\n",
    "    )\n",
    "    output = subprocess.run(['python','catr/predict.py', '--path', image_path], capture_output=True)\n",
    "    machine_generated_captions.append(output.stdout.decode('ascii').rstrip())\n",
    "    print(f\"The machine generated caption for '{artwork}' by {lb2021.iloc[index].artist} is: '{output.stdout.decode('ascii').rstrip()}'\")"
   ]
  },
  {
   "attachments": {},
   "cell_type": "markdown",
   "metadata": {},
   "source": [
    "Our orignal machine curator uses the VLP model in this stage to generate captions. For more information about VLP see this [link](https://github.com/LuoweiZhou/VLP). This was preceded by feature extraction using [detectron-vlp](https://github.com/LuoweiZhou/detectron-vlp). We were, however, unable to reproduce this workflow in Colab given a number of dependecies that could not be fulfilled from within the Colab structure - for example, an old version of Torch and Cuda. CATR, used above, is a simple alternative with similar results."
   ]
  },
  {
   "cell_type": "markdown",
   "metadata": {
    "id": "0ehLf1eZ3TiD"
   },
   "source": [
    "## Heatmaps"
   ]
  },
  {
   "cell_type": "markdown",
   "metadata": {
    "id": "DcZ1fTwf3XkZ"
   },
   "source": [
    "Heatmaps are important in our machine-curated exhibition. They appear to the 'right' of the original image itself. The overlay is informed by the machine generated caption computed above. That is, the heatmap often highlights objects that appear in the machine's caption - it gives us a view into what a machine 'sees' in an artwork, the way it parses objects and interprets concepts."
   ]
  },
  {
   "cell_type": "markdown",
   "metadata": {
    "id": "Kdl7c_Ks3jYn"
   },
   "source": [
    "First import the modules:"
   ]
  },
  {
   "cell_type": "code",
   "execution_count": null,
   "metadata": {
    "colab": {
     "base_uri": "https://localhost:8080/"
    },
    "id": "EMgP1Yhb3YHy",
    "outputId": "e9a7ab44-dddb-4d08-b1c7-adf1df5b89d3"
   },
   "outputs": [
    {
     "name": "stdout",
     "output_type": "stream",
     "text": [
      "Collecting git+https://github.com/openai/CLIP.git\n",
      "  Cloning https://github.com/openai/CLIP.git to /tmp/pip-req-build-kvwd14ky\n",
      "  Running command git clone -q https://github.com/openai/CLIP.git /tmp/pip-req-build-kvwd14ky\n",
      "Requirement already satisfied: ftfy in /usr/local/lib/python3.7/dist-packages (from clip==1.0) (6.0.3)\n",
      "Requirement already satisfied: regex in /usr/local/lib/python3.7/dist-packages (from clip==1.0) (2019.12.20)\n",
      "Requirement already satisfied: tqdm in /usr/local/lib/python3.7/dist-packages (from clip==1.0) (4.62.0)\n",
      "Requirement already satisfied: torch in /usr/local/lib/python3.7/dist-packages (from clip==1.0) (1.9.0+cu102)\n",
      "Requirement already satisfied: torchvision in /usr/local/lib/python3.7/dist-packages (from clip==1.0) (0.10.0+cu102)\n",
      "Requirement already satisfied: wcwidth in /usr/local/lib/python3.7/dist-packages (from ftfy->clip==1.0) (0.2.5)\n",
      "Requirement already satisfied: typing-extensions in /usr/local/lib/python3.7/dist-packages (from torch->clip==1.0) (3.7.4.3)\n",
      "Requirement already satisfied: numpy in /usr/local/lib/python3.7/dist-packages (from torchvision->clip==1.0) (1.19.5)\n",
      "Requirement already satisfied: pillow>=5.3.0 in /usr/local/lib/python3.7/dist-packages (from torchvision->clip==1.0) (7.1.2)\n",
      "Building wheels for collected packages: clip\n",
      "  Building wheel for clip (setup.py) ... \u001b[?25l\u001b[?25hdone\n",
      "  Created wheel for clip: filename=clip-1.0-py3-none-any.whl size=1369079 sha256=b5a1fe4a7e64adfcc2ea902ff14876d5a5e27c4c83cf823987aa099f1cd72e26\n",
      "  Stored in directory: /tmp/pip-ephem-wheel-cache-pgdnxvdw/wheels/fd/b9/c3/5b4470e35ed76e174bff77c92f91da82098d5e35fd5bc8cdac\n",
      "Successfully built clip\n",
      "Installing collected packages: clip\n",
      "Successfully installed clip-1.0\n",
      "Collecting torchray\n",
      "  Downloading torchray-1.0.0.2.tar.gz (376 kB)\n",
      "\u001b[K     |████████████████████████████████| 376 kB 10.8 MB/s \n",
      "\u001b[?25hRequirement already satisfied: importlib_resources in /usr/local/lib/python3.7/dist-packages (from torchray) (5.2.2)\n",
      "Requirement already satisfied: matplotlib in /usr/local/lib/python3.7/dist-packages (from torchray) (3.2.2)\n",
      "Requirement already satisfied: packaging in /usr/local/lib/python3.7/dist-packages (from torchray) (21.0)\n",
      "Requirement already satisfied: pycocotools>=2.0.0 in /usr/local/lib/python3.7/dist-packages (from torchray) (2.0.2)\n",
      "Requirement already satisfied: pymongo in /usr/local/lib/python3.7/dist-packages (from torchray) (3.12.0)\n",
      "Requirement already satisfied: requests in /usr/local/lib/python3.7/dist-packages (from torchray) (2.23.0)\n",
      "Requirement already satisfied: torch>=1.1 in /usr/local/lib/python3.7/dist-packages (from torchray) (1.9.0+cu102)\n",
      "Requirement already satisfied: torchvision>=0.3.0 in /usr/local/lib/python3.7/dist-packages (from torchray) (0.10.0+cu102)\n",
      "Requirement already satisfied: setuptools>=18.0 in /usr/local/lib/python3.7/dist-packages (from pycocotools>=2.0.0->torchray) (57.4.0)\n",
      "Requirement already satisfied: cython>=0.27.3 in /usr/local/lib/python3.7/dist-packages (from pycocotools>=2.0.0->torchray) (0.29.24)\n",
      "Requirement already satisfied: cycler>=0.10 in /usr/local/lib/python3.7/dist-packages (from matplotlib->torchray) (0.10.0)\n",
      "Requirement already satisfied: numpy>=1.11 in /usr/local/lib/python3.7/dist-packages (from matplotlib->torchray) (1.19.5)\n",
      "Requirement already satisfied: pyparsing!=2.0.4,!=2.1.2,!=2.1.6,>=2.0.1 in /usr/local/lib/python3.7/dist-packages (from matplotlib->torchray) (2.4.7)\n",
      "Requirement already satisfied: kiwisolver>=1.0.1 in /usr/local/lib/python3.7/dist-packages (from matplotlib->torchray) (1.3.1)\n",
      "Requirement already satisfied: python-dateutil>=2.1 in /usr/local/lib/python3.7/dist-packages (from matplotlib->torchray) (2.8.2)\n",
      "Requirement already satisfied: six in /usr/local/lib/python3.7/dist-packages (from cycler>=0.10->matplotlib->torchray) (1.15.0)\n",
      "Requirement already satisfied: typing-extensions in /usr/local/lib/python3.7/dist-packages (from torch>=1.1->torchray) (3.7.4.3)\n",
      "Requirement already satisfied: pillow>=5.3.0 in /usr/local/lib/python3.7/dist-packages (from torchvision>=0.3.0->torchray) (7.1.2)\n",
      "Requirement already satisfied: zipp>=3.1.0 in /usr/local/lib/python3.7/dist-packages (from importlib_resources->torchray) (3.5.0)\n",
      "Requirement already satisfied: idna<3,>=2.5 in /usr/local/lib/python3.7/dist-packages (from requests->torchray) (2.10)\n",
      "Requirement already satisfied: certifi>=2017.4.17 in /usr/local/lib/python3.7/dist-packages (from requests->torchray) (2021.5.30)\n",
      "Requirement already satisfied: urllib3!=1.25.0,!=1.25.1,<1.26,>=1.21.1 in /usr/local/lib/python3.7/dist-packages (from requests->torchray) (1.25.11)\n",
      "Requirement already satisfied: chardet<4,>=3.0.2 in /usr/local/lib/python3.7/dist-packages (from requests->torchray) (3.0.4)\n",
      "Building wheels for collected packages: torchray\n",
      "  Building wheel for torchray (setup.py) ... \u001b[?25l\u001b[?25hdone\n",
      "  Created wheel for torchray: filename=torchray-1.0.0.2-py3-none-any.whl size=444034 sha256=ce53e787219acbd79b07da3a3ab1bb160affe87d1af30bf5d03ca2cff4b2ca44\n",
      "  Stored in directory: /root/.cache/pip/wheels/4c/c5/8f/379f16aec89cc52ed3580456a62d3420422c690b2016976303\n",
      "Successfully built torchray\n",
      "Installing collected packages: torchray\n",
      "Successfully installed torchray-1.0.0.2\n"
     ]
    }
   ],
   "source": [
    "import os\n",
    "import torch\n",
    "!pip install git+https://github.com/openai/CLIP.git\n",
    "import clip\n",
    "from PIL import Image\n",
    "import numpy as np\n",
    "!pip install torchray\n",
    "from torchray.attribution.grad_cam import grad_cam"
   ]
  },
  {
   "cell_type": "markdown",
   "metadata": {
    "id": "CmU_ahtr3onJ"
   },
   "source": [
    "And load the CLIP language model:"
   ]
  },
  {
   "cell_type": "code",
   "execution_count": null,
   "metadata": {
    "colab": {
     "base_uri": "https://localhost:8080/"
    },
    "id": "3nnStqim3qfO",
    "outputId": "19673b10-7904-4a28-f2cd-334ce5cbfa56"
   },
   "outputs": [
    {
     "name": "stderr",
     "output_type": "stream",
     "text": [
      "100%|███████████████████████████████████████| 244M/244M [00:04<00:00, 59.7MiB/s]\n"
     ]
    }
   ],
   "source": [
    "device = \"cuda\" if torch.cuda.is_available() else \"cpu\"\n",
    "def get_model():\n",
    "    return clip.load(\"RN50\", device=device, jit=False)\n",
    "model, preprocess = get_model()"
   ]
  },
  {
   "cell_type": "markdown",
   "metadata": {
    "id": "_obYYmqp37OK"
   },
   "source": [
    "Load the images"
   ]
  },
  {
   "cell_type": "code",
   "execution_count": null,
   "metadata": {
    "id": "hqqtbQ-W39S1"
   },
   "outputs": [],
   "source": [
    "images=[]\n",
    "for index, artwork in enumerate(lb2021.clean_title):\n",
    "    image_path = os.path.join(\n",
    "        os.sep,\n",
    "        'content',\n",
    "        'machine-curation',\n",
    "        lb2021.iloc[index].path_to_original_image\n",
    "    )\n",
    "    image = preprocess(Image.open(image_path).convert(\"RGB\"))\n",
    "    images.append(image)\n",
    "\n",
    "image_input = torch.tensor(np.stack(images)).cuda()"
   ]
  },
  {
   "cell_type": "markdown",
   "metadata": {
    "id": "5BdhzRRN-ON_"
   },
   "source": [
    "These functions are taken from miniClip ([here](https://github.com/HendrikStrobelt/miniClip/blob/main/miniclip/imageWrangle.py)) They allow us to compute heatmaps within Colab without having to install miniClip and all its dependencies (some of which create incompatibilities withour other code)"
   ]
  },
  {
   "cell_type": "code",
   "execution_count": null,
   "metadata": {
    "id": "BTdd01QA9KSI"
   },
   "outputs": [],
   "source": [
    "from matplotlib import cm\n",
    "\n",
    "def min_max_norm(array):\n",
    "    lim = [array.min(), array.max()]\n",
    "    array = array - lim[0] \n",
    "    array.mul_(1 / (1.e-10+ (lim[1] - lim[0])))\n",
    "    return array\n",
    "\n",
    "def torch_to_rgba(img):\n",
    "    img = min_max_norm(img)\n",
    "    rgba_im = img.permute(1, 2, 0).cpu()\n",
    "    if rgba_im.shape[2] == 3:\n",
    "        rgba_im = torch.cat((rgba_im, torch.ones(*rgba_im.shape[:2], 1)), dim=2)\n",
    "    assert rgba_im.shape[2] == 4\n",
    "    return rgba_im\n",
    "\n",
    "def numpy_to_image(img, size):\n",
    "    \"\"\"\n",
    "    takes a [0..1] normalized rgba input and returns resized image as [0...255] rgba image\n",
    "    \"\"\"\n",
    "    resized = Image.fromarray((img*255.).astype(np.uint8)).resize((size, size))\n",
    "    return resized\n",
    "\n",
    "def heatmap(image:torch.Tensor, heatmap: torch.Tensor, size=None, alpha=.6):\n",
    "    if not size:\n",
    "        size = image.shape[1]\n",
    "\n",
    "    img = torch_to_rgba(image).numpy() # [0...1] rgba numpy \"image\"\n",
    "    hm = cm.hot(min_max_norm(heatmap).numpy()) # [0...1] rgba numpy \"image\"\n",
    "\n",
    "    img = np.array(numpy_to_image(img,size))\n",
    "    hm = np.array(numpy_to_image(hm, size))\n",
    "\n",
    "    return Image.fromarray((alpha * hm + (1-alpha)*img).astype(np.uint8))\n"
   ]
  },
  {
   "cell_type": "markdown",
   "metadata": {
    "id": "HfwmerO8nAq5"
   },
   "source": [
    "Now we can generate a heatmap overlay for all images in the Liverpool Biennial. These new images are saved in a new directory: `attention_maps`. Heatmaps are generated based on the machine generated captions computed above"
   ]
  },
  {
   "cell_type": "code",
   "execution_count": null,
   "metadata": {
    "id": "A1eLTqb1-Of0"
   },
   "outputs": [],
   "source": [
    "layer='layer4.2.relu'\n",
    "alpha=0.7 # can be changed\n",
    "\n",
    "!rm -rf attention_maps\n",
    "os.mkdir(\"attention_maps\")\n",
    "\n",
    "\n",
    "att_img_path=[] \n",
    "for i in range (len(lb2021)):\n",
    "    image = image_input[i].reshape([1,3,224,224])\n",
    "    txt_input = machine_generated_captions[i]\n",
    "    tokenized_text = clip.tokenize(txt_input).to(device)\n",
    "    with torch.no_grad():\n",
    "        image_features = model.encode_image(image)\n",
    "        text_features = model.encode_text(tokenized_text)\n",
    "        image_features_norm = image_features.norm(dim=-1, keepdim=True)\n",
    "        image_features_new = image_features / image_features_norm\n",
    "        text_features_norm = text_features.norm(dim=-1, keepdim=True)\n",
    "        text_features_new = text_features / text_features_norm\n",
    "    text_prediction = (text_features_new* image_features_norm)\n",
    "    saliency = grad_cam(model.visual, image.type(model.dtype), text_prediction, saliency_layer=layer)\n",
    "    \n",
    "    hm = heatmap(image[0], saliency[0][0,].detach().type(torch.float32).cpu(), alpha=alpha)    \n",
    "    img_name = os.path.join(\"attention_maps\", \"att_map_\"+lb2021.iloc[i].clean_title.replace(\" \", \"_\")+\".png\")\n",
    "    att_img_path.append(img_name)\n",
    "    hm.convert(\"RGB\").save(img_name)\n",
    "    "
   ]
  },
  {
   "cell_type": "markdown",
   "metadata": {
    "id": "W5gFsLRzAi3z"
   },
   "source": [
    "A few of the attention maps below are added reproduced here (you will see the rest in a folder called attention_maps after running the cell above). We map image captions to heatmaps showing the way objects from the captions are identified and highlighted by the heatmaps.\n",
    "\n",
    "\"A group of five different types of toothbrushes.\"\n",
    "\n",
    "(`Tongues` by Anu Põder)\n",
    "\n",
    "![original_image](https://raw.githubusercontent.com/DurhamARC/machine-curation/master/datasets/liverpool_biennial_2021/example_images/att_map_Tongues.png)\n",
    "\n",
    "\"A car with a lot of surfboards in the back of it.\" \n",
    "\n",
    "(`Superposition` by Erick Beltrán\n",
    "\n",
    "![original_image](https://raw.githubusercontent.com/DurhamARC/machine-curation/master/datasets/liverpool_biennial_2021/example_images/att_map_Superposition.png)\n",
    "\n",
    "\"A large building with a clock on the front of it\" \n",
    "\n",
    "(`Pan African Flag for the Relic Travellers' Alliance` by Larry Achiampong)\n",
    "\n",
    "![original_image](https://raw.githubusercontent.com/DurhamARC/machine-curation/master/datasets/liverpool_biennial_2021/example_images/att_map_Pan_African_Flag_for_the_Relic_Travellers'_Alliance.png)\n",
    "\n",
    "\"A red liquid in a glass filled with liquid\" \n",
    "\n",
    "(`The Goblets` by Ane Graff)\n",
    "\n",
    "![original_image](https://raw.githubusercontent.com/DurhamARC/machine-curation/master/datasets/liverpool_biennial_2021/example_images/att_map_The_Goblets.png)"
   ]
  },
  {
   "cell_type": "markdown",
   "metadata": {
    "id": "tGQfakBUiG-g"
   },
   "source": [
    "# CLIP similarities"
   ]
  },
  {
   "cell_type": "markdown",
   "metadata": {
    "id": "8mIQ9xSiLtn4"
   },
   "source": [
    "Having completed the preprocessing steps above, we are now in a position to use this data to create connections between artworks in the collection. These connections are based on similarity values and inform way viewers can use the machine curator to move between images. There are three steps to this workflow:\n",
    "\n",
    "\n",
    "1.   The similarities between captions are ascertained.\n",
    "2.   The similarities between machine-generated images are computed\n",
    "3.   The similarities between artworks and computed keywords are computed.\n",
    "\n"
   ]
  },
  {
   "cell_type": "markdown",
   "metadata": {
    "id": "MTBPZXf1XTNq"
   },
   "source": [
    "First, we import modules"
   ]
  },
  {
   "cell_type": "code",
   "execution_count": null,
   "metadata": {
    "id": "VgV9LN7pXZEY"
   },
   "outputs": [],
   "source": [
    "import json\n",
    "\n",
    "import torch\n",
    "import clip\n",
    "from PIL import Image\n",
    "import pandas as pd\n",
    "import numpy as np\n",
    "from scipy.spatial import distance"
   ]
  },
  {
   "cell_type": "markdown",
   "metadata": {
    "id": "VDz-iyrIXrC3"
   },
   "source": [
    "Load the CLIP model\n"
   ]
  },
  {
   "cell_type": "code",
   "execution_count": null,
   "metadata": {
    "colab": {
     "base_uri": "https://localhost:8080/"
    },
    "id": "AjfGk7uZXp4f",
    "outputId": "b81c7ad3-6aa2-4bf9-bafc-dbaf2c7a9819"
   },
   "outputs": [
    {
     "name": "stdout",
     "output_type": "stream",
     "text": [
      "Working with cuda\n"
     ]
    }
   ],
   "source": [
    "device = \"cuda\" if torch.cuda.is_available() else \"cpu\"\n",
    "print(f\"Working with {device}\")\n",
    "model, preprocess = clip.load(\"ViT-B/32\", device=device)\n"
   ]
  },
  {
   "cell_type": "markdown",
   "metadata": {
    "id": "lBKsT0FBbAhq"
   },
   "source": [
    "## Caption similarities"
   ]
  },
  {
   "cell_type": "markdown",
   "metadata": {
    "id": "2Av3ZBcAX-rp"
   },
   "source": [
    "Now we are in a position to be able to compute the similarity values between the machine generated captions that belong to each artwork in the Liverpool Biennial collection. These similarity values are vased on the cosine distance of the CLIP text features.\n",
    "\n",
    "In the machine curated exhibition this data is used when navigating right. That is, when moving to the right the viewer is shown a picture with the most similar machine generated caption to the artwork's caption that is currently being viewed."
   ]
  },
  {
   "cell_type": "code",
   "execution_count": null,
   "metadata": {
    "colab": {
     "base_uri": "https://localhost:8080/"
    },
    "id": "oiOGZPgbX-AJ",
    "outputId": "f7bc323e-4c4a-4702-b886-1a8a7b80b759"
   },
   "outputs": [
    {
     "name": "stdout",
     "output_type": "stream",
     "text": [
      "[[(44, 0.653166295279205), (36, 0.6355711888185002), (26, 0.623048394504548), (41, 0.6225226498768238), (49, 0.608123893549033), (22, 0.6078462745604094), (19, 0.6078363158454496), (16, 0.6020274760143041), (33, 0.5980445038136194), (42, 0.5852852404403436), (5, 0.5822586393592443), (40, 0.5820296608218488), (11, 0.5745293285085412), (35, 0.5736677202944179), (10, 0.5655789052893478), (27, 0.5643827145863647), (18, 0.5638039537121451), (23, 0.5637546951136899), (17, 0.5564370616267578), (20, 0.5558147823093631), (45, 0.5546424678082712), (46, 0.5539811814480363), (9, 0.5472148008725043), (14, 0.5452916751977142), (28, 0.5429561358609649), (6, 0.5394459273457679), (21, 0.5341329022578823), (32, 0.5324565216117578), (12, 0.5321645228148311), (39, 0.5309162980536152), (2, 0.5226767670355249), (3, 0.5207815739245537), (31, 0.5182099539134781), (8, 0.5176788584317916), (34, 0.508574407361361), (38, 0.50402040641346), (47, 0.5008898531649434), (24, 0.49902846439669335), (37, 0.49800338663029386), (43, 0.4957580861729989), (13, 0.4900632170696043), (30, 0.4889145423682526), (48, 0.4795220918364037), (15, 0.4792451448551047), (7, 0.46426509326976484), (4, 0.4628637253767751), (25, 0.44033454928970084), (29, 0.3386231008058991), (1, 0.32579021783629836)], [(42, 0.470056580132614), (23, 0.44651179288757525), (12, 0.43191677746165436), (25, 0.4176620959416455), (24, 0.4167190703987078), (28, 0.4134697007021928), (36, 0.41060799588275265), (35, 0.4083756945598269), (7, 0.4059590873083907), (29, 0.4026026599953536), (4, 0.39611175307213164), (14, 0.3869119287470555), (49, 0.37892012733644975), (2, 0.3750141535383127), (3, 0.3675763780412654), (15, 0.36460012793399454), (48, 0.3586678309276281), (44, 0.3579014039458157), (21, 0.3572833951204155), (9, 0.35670785646066383), (45, 0.35259507046003613), (47, 0.34810386290992723), (16, 0.3455977547874358), (31, 0.33789912882244566), (13, 0.3314445667758026), (27, 0.3278447896053184), (34, 0.3267247734400073), (0, 0.32579021783629836), (33, 0.32209387659188793), (10, 0.3181315182182556), (19, 0.31606163649555064), (43, 0.3149827891089061), (32, 0.3124287292645438), (17, 0.3101182788374488), (22, 0.3097306114631624), (38, 0.30434670135185227), (8, 0.30276878686311837), (30, 0.2972875368228677), (40, 0.2955004938594088), (6, 0.28487081278085824), (26, 0.2832399438197424), (39, 0.28322050601641324), (41, 0.2823621025405225), (18, 0.2794875475383072), (37, 0.26288340204578153), (46, 0.25658257375143223), (11, 0.2559416306748633), (5, 0.21536554589012247), (20, 0.20902536778334668)], [(42, 0.6835326309640387), (6, 0.6822680107690561), (22, 0.662726042276756), (24, 0.6603944481968271), (26, 0.6566350087024597), (41, 0.6463894724273721), (19, 0.6433126660625654), (35, 0.6158994752724818), (39, 0.5983374956671069), (16, 0.5897904641171521), (33, 0.5880401188901834), (30, 0.5779599522275415), (18, 0.575629894828396), (46, 0.5739831115692153), (10, 0.5639684861421999), (5, 0.5638110668452522), (23, 0.5621598169933595), (40, 0.5613923815879593), (21, 0.555104710951908), (3, 0.5550612920384073), (9, 0.5543666898016325), (44, 0.5509268950203385), (36, 0.5503610808655546), (14, 0.5481880425997068), (49, 0.5481018583779245), (13, 0.5435570726165345), (8, 0.5433745711636591), (47, 0.5416223685496091), (34, 0.5396646681097745), (28, 0.5377531870406483), (17, 0.533567886441761), (48, 0.5331995081001344), (25, 0.5273630296287931), (32, 0.5257102284957851), (45, 0.5228227422200318), (0, 0.5226767670355249), (38, 0.5214764228507505), (11, 0.5206910135049858), (43, 0.5162248239112663), (20, 0.5125399013006654), (12, 0.5091239021692211), (4, 0.5056652485542652), (27, 0.5055483042488547), (31, 0.5031963557767329), (37, 0.5024080727899488), (15, 0.4534798636814623), (7, 0.4460360993329049), (1, 0.3750141535383127), (29, 0.33282127854465193)], [(19, 0.7770414915726762), (8, 0.7050234163485106), (33, 0.7034925840739902), (30, 0.6948820343857054), (22, 0.6629921460346991), (44, 0.6625457143191829), (40, 0.6616522400534708), (45, 0.6609109628645485), (42, 0.6408898376093034), (28, 0.6369314562130252), (41, 0.6350608843323684), (14, 0.618558565865625), (27, 0.6181784539765648), (10, 0.6145420685328287), (35, 0.60897905521851), (36, 0.6069702002330364), (34, 0.6023988783286482), (17, 0.5992702858514682), (16, 0.5934965973720824), (18, 0.593358752421785), (38, 0.5923362932507433), (21, 0.5888563857527757), (9, 0.5806583390602587), (43, 0.5740005517973568), (49, 0.5739503983986746), (12, 0.5712262819495867), (15, 0.5644303335541685), (32, 0.5635344568559287), (13, 0.5610820815380543), (2, 0.5550612920384073), (25, 0.5538415205022965), (47, 0.5510980421954568), (46, 0.5411227966680575), (39, 0.5397370762292112), (37, 0.5380095851175912), (23, 0.5370755765079337), (31, 0.5213349343271154), (0, 0.5207815739245537), (5, 0.5178284580186738), (6, 0.5100474896096918), (26, 0.49960331980410544), (20, 0.4963923509511139), (24, 0.49414122487774503), (7, 0.4720789607671749), (11, 0.4503283227852801), (4, 0.44428746456008916), (48, 0.440916527712365), (1, 0.3675763780412654), (29, 0.308769609537781)], [(24, 0.7232208070517403), (35, 0.6328996211866197), (48, 0.6199079191228785), (47, 0.6069898178605604), (49, 0.5976098351390355), (15, 0.5965531540197472), (23, 0.5865326091835685), (41, 0.5599645983146834), (42, 0.5414514727643036), (25, 0.5369422967553406), (21, 0.5317615693579463), (9, 0.5287127330769706), (32, 0.5276762512242541), (37, 0.5268021495145718), (14, 0.5233084196058286), (16, 0.5168090176995651), (34, 0.5150652569506408), (28, 0.5136908431860634), (46, 0.5133116710347528), (13, 0.5091885003500434), (2, 0.5056652485542652), (6, 0.5050283198093822), (33, 0.5037289491095521), (19, 0.49807703618033905), (22, 0.49729074004610974), (44, 0.4958300383024763), (18, 0.48915967854802855), (20, 0.488314070728717), (12, 0.48609635974735355), (43, 0.4844547640408733), (38, 0.4798884337884157), (36, 0.4736211809232077), (40, 0.47327696278101916), (8, 0.47247377846381), (5, 0.46714820600401374), (0, 0.4628637253767751), (17, 0.45560150760050355), (26, 0.45541296102002526), (31, 0.4527122993363849), (3, 0.44428746456008916), (10, 0.4421552255070209), (45, 0.43267978177250144), (30, 0.42978883200448714), (39, 0.429613436527606), (27, 0.428359923754854), (11, 0.41897378421913034), (1, 0.39611175307213164), (7, 0.3607415984084791), (29, 0.3423594649982349)], [(41, 0.7891574429896357), (20, 0.788242409388436), (6, 0.758080994822293), (22, 0.7271760452590669), (8, 0.662413438549995), (26, 0.658588721712676), (19, 0.6512542072084223), (33, 0.6486949539514918), (21, 0.6469334479976361), (16, 0.646541781293238), (39, 0.6447825538000911), (30, 0.6438216650748168), (9, 0.6260718696916561), (35, 0.624890161756848), (38, 0.6233614438030062), (42, 0.6193156215961236), (18, 0.6182385725178432), (43, 0.6121814871460989), (40, 0.6108146687769647), (36, 0.6024934121553173), (34, 0.6011285199553019), (37, 0.5958206830162357), (46, 0.5926107453449947), (44, 0.5924890563624263), (32, 0.5897184547765306), (49, 0.5871751131505464), (14, 0.5865316260222136), (13, 0.5834340467783378), (0, 0.5822586393592443), (17, 0.5781774869297363), (23, 0.5650322858309689), (2, 0.5638110668452522), (12, 0.562893567630622), (47, 0.5539366624169663), (27, 0.5419601246272394), (28, 0.5411453078329037), (24, 0.5363805536142033), (31, 0.5291092203127813), (10, 0.527208010804471), (45, 0.5254440457886449), (3, 0.5178284580186738), (25, 0.4842828808893984), (4, 0.46714820600401374), (11, 0.4657500772353107), (7, 0.4630522103055965), (48, 0.45554472971932936), (15, 0.44732332544323095), (29, 0.3539233619925759), (1, 0.21536554589012247)], [(22, 0.7664098169730195), (5, 0.758080994822293), (24, 0.7053058318821377), (42, 0.7044489598167971), (41, 0.697776659354392), (31, 0.685605248175851), (19, 0.6842843681737845), (2, 0.6822680107690561), (13, 0.6721103764462654), (39, 0.66907554001933), (32, 0.6623518767471102), (14, 0.6558007816696805), (33, 0.6535833126068615), (20, 0.6519367986324677), (44, 0.6479851310792637), (21, 0.64558208364558), (26, 0.632009871678595), (18, 0.6289447448061957), (45, 0.6212779539944381), (35, 0.614559550209735), (8, 0.6092717111770469), (12, 0.6082051175509003), (40, 0.5967031595512956), (28, 0.5888014872507505), (36, 0.5879939828511352), (9, 0.5867995511939599), (34, 0.5827147323815913), (16, 0.5820097844845916), (30, 0.5761194326339755), (11, 0.5698047427877906), (49, 0.5661709598317654), (17, 0.5644094117498742), (38, 0.562062778883629), (23, 0.5597445289321064), (37, 0.555920498566235), (48, 0.5484087845539304), (43, 0.5459092308663069), (10, 0.5428914261640119), (46, 0.5428321068907916), (27, 0.541322379398295), (0, 0.5394459273457679), (47, 0.5320728667047663), (3, 0.5100474896096918), (4, 0.5050283198093822), (7, 0.4990219605096291), (25, 0.48811302499370757), (29, 0.47448824911269605), (15, 0.4652022481718646), (1, 0.28487081278085824)], [(45, 0.7394106641228536), (42, 0.594689703284467), (21, 0.5896212493730959), (27, 0.586145465817198), (23, 0.5831694871252309), (12, 0.5749348984178989), (17, 0.5741256207943866), (16, 0.5687358322497766), (28, 0.5619245939506323), (36, 0.5605691775389879), (44, 0.5528685482421255), (33, 0.5492972359476999), (35, 0.5394725198276451), (19, 0.5389616688307661), (49, 0.5381032126382104), (22, 0.5371108867534756), (9, 0.5367321062971424), (40, 0.5331127976720568), (14, 0.5271058475461304), (18, 0.5172483742093676), (47, 0.5063021871012356), (8, 0.5060250410022875), (6, 0.4990219605096291), (26, 0.4983173502156313), (39, 0.4935259893861824), (34, 0.4884762110928602), (15, 0.4876120415948164), (41, 0.4835915740266731), (32, 0.4806410507464659), (13, 0.47668180678861816), (3, 0.4720789607671749), (37, 0.46846397807333395), (11, 0.46639166922557385), (0, 0.46426509326976484), (5, 0.4630522103055965), (20, 0.46105383347100726), (29, 0.45935382721229345), (25, 0.45778391596533097), (38, 0.45750002101527476), (10, 0.4563046200779999), (2, 0.4460360993329049), (46, 0.4379430866139039), (31, 0.43364140822648567), (24, 0.41382298612765656), (30, 0.40691633239427627), (1, 0.4059590873083907), (43, 0.40406258734306055), (48, 0.38112840323874164), (4, 0.3607415984084791)], [(41, 0.8272493495327595), (22, 0.8181341672299887), (33, 0.7825431910964941), (43, 0.7679373514780244), (40, 0.7673986956239787), (38, 0.7577386556934115), (19, 0.7505007677722033), (30, 0.7173941544472682), (34, 0.7160399455323206), (21, 0.7089169759164793), (3, 0.7050234163485106), (20, 0.7037405736197372), (18, 0.7025915766954255), (17, 0.6990217414658401), (42, 0.696124580417019), (28, 0.6832753051409405), (25, 0.6811110601172777), (44, 0.6629512798364522), (5, 0.662413438549995), (10, 0.6616443970647833), (9, 0.6607280512722817), (35, 0.6579654461680078), (27, 0.647517908060675), (23, 0.6465408384773921), (26, 0.6412415075178912), (36, 0.6388653895351967), (14, 0.6324693322595396), (39, 0.628229595058478), (45, 0.6246889933413128), (49, 0.6220274950357525), (16, 0.618651612633089), (13, 0.6172432557389834), (46, 0.6143762992580865), (12, 0.6111558197443324), (6, 0.6092717111770469), (37, 0.6002170160986736), (32, 0.5970170139694692), (15, 0.5940283048999991), (47, 0.570777728501037), (31, 0.5521979153964482), (2, 0.5433745711636591), (24, 0.5197363419642655), (0, 0.5176788584317916), (7, 0.5060250410022875), (48, 0.4813881592899494), (11, 0.47436513756250753), (4, 0.47247377846381), (29, 0.33901025611247304), (1, 0.30276878686311837)], [(21, 0.7364206580752808), (35, 0.7202552074339771), (41, 0.6835045157948796), (49, 0.6810511778318247), (42, 0.6785151157410192), (23, 0.6653045046785288), (44, 0.6647646590397059), (8, 0.6607280512722817), (33, 0.659273434513235), (14, 0.6589109502782207), (22, 0.6553884966195931), (19, 0.6526387102186287), (16, 0.6493292947071492), (36, 0.6454655958016274), (38, 0.6449268573862537), (27, 0.6413408870439001), (28, 0.6387545462507974), (25, 0.6376990420770966), (32, 0.6264790527540733), (5, 0.6260718696916561), (40, 0.6255898310531375), (26, 0.6227530279079468), (13, 0.6215195427713729), (34, 0.6189277121362493), (18, 0.6188150069030378), (17, 0.6144897516738372), (12, 0.6127671739015004), (47, 0.6097087944881944), (43, 0.609134915999585), (45, 0.5988956088585108), (37, 0.598172309696329), (10, 0.5929877486012444), (6, 0.5867995511939599), (30, 0.5843732794034106), (15, 0.5835311342257478), (46, 0.5824765565356654), (3, 0.5806583390602587), (20, 0.5737069649545969), (24, 0.5735086624113718), (39, 0.570801205511253), (2, 0.5543666898016325), (0, 0.5472148008725043), (31, 0.5432467458540935), (7, 0.5367321062971424), (4, 0.5287127330769706), (48, 0.5183052199085572), (11, 0.47103590993927535), (1, 0.35670785646066383), (29, 0.3426429063990487)], [(19, 0.685273818354445), (22, 0.6804291836559013), (33, 0.6702243801222121), (28, 0.6689798919657106), (41, 0.6653133102855077), (8, 0.6616443970647833), (40, 0.6464360822962796), (35, 0.6285052284012659), (42, 0.6212180358323314), (16, 0.6176433977950152), (25, 0.6148078920559675), (3, 0.6145420685328287), (34, 0.6144345371415102), (17, 0.6143001925257158), (18, 0.6124324799303318), (23, 0.6059376266500373), (36, 0.6015524949600388), (27, 0.5996844422481553), (44, 0.5959639316851469), (21, 0.5936695515860839), (9, 0.5929877486012444), (38, 0.5906056600209751), (49, 0.5884304518691857), (39, 0.5850591935488973), (45, 0.5821583253869318), (43, 0.5656098199592727), (0, 0.5655789052893478), (2, 0.5639684861421999), (14, 0.5627620460033772), (47, 0.559286269138557), (30, 0.5581665622325334), (26, 0.5543393382157262), (13, 0.5494916725938529), (37, 0.5470509658657646), (12, 0.5437170863543236), (46, 0.543501922668926), (6, 0.5428914261640119), (20, 0.5415094957449245), (15, 0.5369151718895744), (24, 0.5296979428600004), (5, 0.527208010804471), (32, 0.5256474574394135), (48, 0.5009646477868095), (31, 0.49829898404479245), (7, 0.4563046200779999), (11, 0.4502631698293461), (4, 0.4421552255070209), (1, 0.3181315182182556), (29, 0.31614049264911515)], [(22, 0.5876441506010435), (0, 0.5745293285085412), (6, 0.5698047427877906), (19, 0.5623931145510876), (16, 0.5605061637617282), (41, 0.5450903145194196), (42, 0.5375399789083366), (26, 0.5277278376263042), (2, 0.5206910135049858), (27, 0.5173973623648357), (45, 0.5151149004224349), (24, 0.5114192190372341), (44, 0.5113302143925765), (36, 0.5025518145287275), (38, 0.49602701634937907), (33, 0.49525979328160696), (39, 0.49194220775353803), (48, 0.48974818450861424), (37, 0.4872303030321079), (15, 0.48315769200242953), (46, 0.48119979506853894), (35, 0.48060763348455615), (8, 0.47436513756250753), (40, 0.473026094923263), (49, 0.4729701153300545), (23, 0.4713372158233695), (9, 0.47103590993927535), (7, 0.46639166922557385), (5, 0.4657500772353107), (17, 0.4640730846268518), (18, 0.46377599859931373), (14, 0.4632196702888327), (21, 0.45661605158175833), (43, 0.45080863564965235), (3, 0.4503283227852801), (10, 0.4502631698293461), (12, 0.4467470772231996), (28, 0.4464949775084389), (31, 0.44417771025013786), (34, 0.44074790884794557), (20, 0.44051425318069637), (13, 0.43408444519920275), (32, 0.4318184315055471), (4, 0.41897378421913034), (47, 0.41876965859643844), (30, 0.41245029688515467), (25, 0.4040108608048778), (29, 0.3113410876064511), (1, 0.2559416306748633)], [(44, 0.7310314386808778), (14, 0.7225451057543107), (13, 0.6948567164765043), (36, 0.6941513379702748), (32, 0.6910637841705973), (45, 0.6901209756443182), (16, 0.6586478642092092), (33, 0.657423409914844), (29, 0.6507582245400781), (22, 0.6499637242959548), (17, 0.6427905873233338), (40, 0.6410966607776153), (27, 0.6384674316597737), (49, 0.6362910281379072), (42, 0.6313177077178863), (28, 0.6312944508394082), (21, 0.6306026012592075), (19, 0.6271933400085459), (31, 0.6226728984348362), (41, 0.615936505892596), (9, 0.6127671739015004), (8, 0.6111558197443324), (6, 0.6082051175509003), (18, 0.6061953658976803), (26, 0.6007677106915943), (30, 0.5994343168409944), (35, 0.5964125602155922), (34, 0.5847583832824348), (15, 0.5773605125665271), (7, 0.5749348984178989), (3, 0.5712262819495867), (38, 0.5644955072681607), (5, 0.562893567630622), (47, 0.5574684608293207), (43, 0.5469908456333726), (10, 0.5437170863543236), (37, 0.54101071990807), (23, 0.5402448871586482), (39, 0.532577019519384), (0, 0.5321645228148311), (20, 0.5255608978215615), (25, 0.523479728993684), (2, 0.5091239021692211), (46, 0.49900603649943465), (24, 0.4921094876641794), (4, 0.48609635974735355), (48, 0.4506889055135537), (11, 0.4467470772231996), (1, 0.43191677746165436)], [(31, 0.8494005367927596), (14, 0.8432794383973333), (44, 0.7796436243463516), (32, 0.7266036069872612), (30, 0.7185679192012252), (12, 0.6948567164765043), (42, 0.6784236366469815), (6, 0.6721103764462654), (49, 0.6687870626552109), (22, 0.6683391473484107), (45, 0.6649396949335733), (41, 0.6421296740644327), (36, 0.6360201899768743), (43, 0.628776937904572), (28, 0.62638537517938), (19, 0.6218372866664714), (9, 0.6215195427713729), (33, 0.6209847440520491), (8, 0.6172432557389834), (38, 0.613226276964339), (21, 0.6120207262325199), (35, 0.6001628922015052), (37, 0.5990847862835924), (16, 0.5937737990367917), (40, 0.5864597466792798), (24, 0.5835799234434363), (5, 0.5834340467783378), (27, 0.5793998143780835), (3, 0.5610820815380543), (15, 0.5586366725807033), (23, 0.5543556164063975), (18, 0.5537596723724918), (17, 0.5532425840775232), (26, 0.5501171411342666), (10, 0.5494916725938529), (2, 0.5435570726165345), (47, 0.5388471773607655), (34, 0.5372428210251862), (39, 0.5370644284702286), (20, 0.5231912506529864), (25, 0.522511324929691), (46, 0.5190317887827743), (4, 0.5091885003500434), (0, 0.4900632170696043), (7, 0.47668180678861816), (29, 0.4698412923784985), (48, 0.43623056292746254), (11, 0.43408444519920275), (1, 0.3314445667758026)], [(44, 0.8783322073750311), (13, 0.8432794383973333), (49, 0.7370854062352546), (32, 0.7268588440877525), (12, 0.7225451057543107), (42, 0.7122035958497396), (45, 0.7014002050887356), (31, 0.6906937307298023), (22, 0.671619175076748), (21, 0.6658379679740389), (36, 0.6592296966750324), (9, 0.6589109502782207), (6, 0.6558007816696805), (19, 0.652183800557327), (41, 0.64654676317166), (28, 0.6456549002443502), (33, 0.6401954241796232), (8, 0.6324693322595396), (35, 0.6317978135484648), (3, 0.618558565865625), (30, 0.6163779254640525), (40, 0.602370077207425), (43, 0.6016715365505239), (23, 0.5994416017811603), (38, 0.596133827877315), (16, 0.5904235335872107), (27, 0.5875961941632762), (5, 0.5865316260222136), (25, 0.5794046851525807), (17, 0.575719940964241), (18, 0.5735501825312231), (37, 0.5730445130263003), (34, 0.5715067098529603), (26, 0.5674887106604426), (15, 0.5652703810101894), (39, 0.5647464345805375), (24, 0.564183132355589), (10, 0.5627620460033772), (47, 0.5494867721134683), (2, 0.5481880425997068), (0, 0.5452916751977142), (20, 0.5373107138776553), (7, 0.5271058475461304), (4, 0.5233084196058286), (46, 0.5021479567008917), (11, 0.4632196702888327), (29, 0.4622105407554302), (48, 0.4510640486094477), (1, 0.3869119287470555)], [(28, 0.6091589700381285), (42, 0.6010345479125931), (4, 0.5965531540197472), (36, 0.5960790322549155), (44, 0.5955341760537131), (8, 0.5940283048999991), (49, 0.5865925364614211), (9, 0.5835311342257478), (35, 0.5826473119549544), (12, 0.5773605125665271), (45, 0.5713452611231261), (19, 0.5686013924392905), (32, 0.567245604976474), (14, 0.5652703810101894), (3, 0.5644303335541685), (22, 0.5643596075208073), (33, 0.5636876225361611), (13, 0.5586366725807033), (27, 0.5566963788165924), (23, 0.5534440027043135), (40, 0.5532811419266641), (41, 0.5523309670101392), (38, 0.5516174172989287), (21, 0.5503176809088649), (16, 0.545575744973475), (34, 0.5419319250007548), (17, 0.5374615405141515), (10, 0.5369151718895744), (43, 0.5305090785418659), (47, 0.5205478816953281), (18, 0.5191291524049886), (30, 0.5162618038285414), (31, 0.516233433696405), (25, 0.5108456406574545), (26, 0.503285117383317), (46, 0.4983758490910932), (7, 0.4876120415948164), (37, 0.48726289894222896), (11, 0.48315769200242953), (24, 0.48108134253850143), (39, 0.48097024306810465), (0, 0.4792451448551047), (6, 0.4652022481718646), (48, 0.45953153864874496), (2, 0.4534798636814623), (20, 0.4528063291552238), (5, 0.44732332544323095), (1, 0.36460012793399454), (29, 0.33607335696456486)], [(19, 0.7039084838003605), (27, 0.7025962534947693), (41, 0.6974125832934188), (22, 0.694960133203879), (42, 0.6722079147340162), (35, 0.670896180941539), (33, 0.6693736605444617), (12, 0.6586478642092092), (26, 0.6553392548993022), (40, 0.6506837580953184), (9, 0.6493292947071492), (5, 0.646541781293238), (36, 0.6460881566450057), (21, 0.6418320027903235), (17, 0.6364796365161756), (23, 0.6357489230459725), (45, 0.6346670813082045), (18, 0.6309854054072598), (20, 0.630229275228306), (44, 0.625905239914093), (38, 0.6252652064703482), (46, 0.6227488548698698), (28, 0.6203349789966718), (8, 0.618651612633089), (10, 0.6176433977950152), (37, 0.6117660904893003), (34, 0.6101726677036562), (0, 0.6020274760143041), (49, 0.5979149657352585), (47, 0.5941088145803931), (13, 0.5937737990367917), (3, 0.5934965973720824), (14, 0.5904235335872107), (2, 0.5897904641171521), (24, 0.5863112444068781), (6, 0.5820097844845916), (43, 0.5785822260127481), (39, 0.5721944938773481), (30, 0.5701591867102868), (7, 0.5687358322497766), (32, 0.5685550414146586), (11, 0.5605061637617282), (31, 0.5546854957528119), (25, 0.5521056944903251), (15, 0.545575744973475), (48, 0.5419357662028994), (4, 0.5168090176995651), (29, 0.3952043437607168), (1, 0.3455977547874358)], [(40, 0.8911424479926332), (26, 0.7968557782039347), (33, 0.7818357616783821), (18, 0.7808050363432836), (19, 0.7031747764199865), (8, 0.6990217414658401), (22, 0.6930389748145077), (21, 0.6928045276958442), (44, 0.6813355949909267), (41, 0.6683485802302235), (36, 0.667711039261531), (34, 0.660625076820663), (27, 0.6513462191887118), (12, 0.6427905873233338), (16, 0.6364796365161756), (35, 0.6304783956845336), (45, 0.6286408353105954), (42, 0.620779470410431), (30, 0.6185297066227768), (23, 0.616231182175156), (9, 0.6144897516738372), (10, 0.6143001925257158), (20, 0.6122204933302323), (28, 0.6116151257431852), (49, 0.6045021539080947), (3, 0.5992702858514682), (38, 0.596109363266206), (43, 0.588561285693738), (5, 0.5781774869297363), (32, 0.5765989222651253), (14, 0.575719940964241), (7, 0.5741256207943866), (39, 0.5674470582415718), (6, 0.5644094117498742), (0, 0.5564370616267578), (37, 0.5542454493355099), (13, 0.5532425840775232), (47, 0.5465215643233525), (25, 0.5436582031746847), (15, 0.5374615405141515), (2, 0.533567886441761), (31, 0.5329636515674623), (46, 0.5175129973280349), (48, 0.5121987601355994), (24, 0.48587507831779564), (11, 0.4640730846268518), (4, 0.45560150760050355), (29, 0.3967538875146055), (1, 0.3101182788374488)], [(33, 0.9195985463617874), (40, 0.9074717053774974), (17, 0.7808050363432836), (34, 0.7664755799718538), (21, 0.7579115370669762), (22, 0.7364312280478227), (19, 0.7146512854440057), (35, 0.7111279571903913), (20, 0.7035046310505547), (8, 0.7025915766954255), (41, 0.6911825192094456), (26, 0.6901063433742132), (36, 0.6832301482829322), (44, 0.6767114480425221), (23, 0.6527026053048465), (42, 0.6399509764861934), (16, 0.6309854054072598), (6, 0.6289447448061957), (47, 0.6289244601640535), (9, 0.6188150069030378), (27, 0.6185820955212173), (5, 0.6182385725178432), (10, 0.6124324799303318), (12, 0.6061953658976803), (48, 0.6002277992958104), (3, 0.593358752421785), (28, 0.5932153503316835), (30, 0.580311252824581), (2, 0.575629894828396), (14, 0.5735501825312231), (37, 0.5693906119009996), (49, 0.567702568601209), (39, 0.5650436426463761), (38, 0.5647583014110663), (0, 0.5638039537121451), (45, 0.5621885839392974), (46, 0.5615923832115242), (32, 0.5600100519317083), (43, 0.5578698487361272), (13, 0.5537596723724918), (25, 0.5536812376756265), (24, 0.549422599825418), (15, 0.5191291524049886), (7, 0.5172483742093676), (31, 0.5135458623107888), (4, 0.48915967854802855), (11, 0.46377599859931373), (29, 0.40779891292391324), (1, 0.2794875475383072)], [(22, 0.8613233399911602), (33, 0.7926382512757276), (3, 0.7770414915726762), (40, 0.7521897321687286), (8, 0.7505007677722033), (41, 0.7468154810694143), (18, 0.7146512854440057), (30, 0.7071186094937358), (16, 0.7039084838003605), (17, 0.7031747764199865), (34, 0.6991933895252135), (42, 0.6989583883125043), (20, 0.69512054385091), (44, 0.6896383235514049), (10, 0.685273818354445), (6, 0.6842843681737845), (23, 0.6839101121664396), (35, 0.6838746226031331), (21, 0.6838529249952567), (26, 0.6643857351205108), (28, 0.6641900764880819), (36, 0.6613723221439961), (39, 0.6589751961794746), (38, 0.6544210575638884), (45, 0.6536542956391298), (9, 0.6526387102186287), (14, 0.652183800557327), (27, 0.651886935691051), (5, 0.6512542072084223), (2, 0.6433126660625654), (32, 0.6327785592444377), (46, 0.62728782353163), (12, 0.6271933400085459), (49, 0.6250646931211777), (13, 0.6218372866664714), (43, 0.6195849869233963), (24, 0.6195107808862097), (48, 0.6190575074116896), (37, 0.6095429281990441), (0, 0.6078363158454496), (47, 0.5945394487243891), (31, 0.585569852399331), (15, 0.5686013924392905), (11, 0.5623931145510876), (25, 0.5589102580306151), (7, 0.5389616688307661), (4, 0.49807703618033905), (29, 0.3903196540728028), (1, 0.31606163649555064)], [(41, 0.8260683617515167), (5, 0.788242409388436), (22, 0.7680367786262248), (8, 0.7037405736197372), (18, 0.7035046310505547), (19, 0.69512054385091), (33, 0.6736595888489891), (21, 0.6665898910280728), (34, 0.6632037810554076), (6, 0.6519367986324677), (26, 0.6499506356749031), (40, 0.6495521841021524), (16, 0.630229275228306), (23, 0.6251141083966443), (39, 0.6130699990240771), (17, 0.6122204933302323), (38, 0.5988368189455664), (35, 0.5986469497760787), (46, 0.5935094931022095), (43, 0.5907139278970507), (37, 0.5804428194734323), (9, 0.5737069649545969), (30, 0.5571534822279658), (36, 0.557103176787704), (0, 0.5558147823093631), (42, 0.5551843067712404), (44, 0.5537710836418419), (48, 0.5452217047588237), (10, 0.5415094957449245), (14, 0.5373107138776553), (12, 0.5255608978215615), (13, 0.5231912506529864), (32, 0.5229278534325148), (25, 0.5197043229562381), (28, 0.5194263850407252), (47, 0.5135503373020622), (2, 0.5125399013006654), (27, 0.5061329462186788), (49, 0.5048246772805227), (3, 0.4963923509511139), (31, 0.4957135473184502), (24, 0.49023275281712775), (4, 0.488314070728717), (45, 0.46553319414770844), (7, 0.46105383347100726), (15, 0.4528063291552238), (11, 0.44051425318069637), (29, 0.3693473489377763), (1, 0.20902536778334668)], [(18, 0.7579115370669762), (33, 0.7474564495839376), (40, 0.7381842026902199), (9, 0.7364206580752808), (35, 0.7220123896566129), (22, 0.712584546843848), (8, 0.7089169759164793), (17, 0.6928045276958442), (41, 0.6902555421731382), (23, 0.685014528700719), (19, 0.6838529249952567), (44, 0.6829288803337595), (28, 0.6722927492021191), (20, 0.6665898910280728), (14, 0.6658379679740389), (34, 0.6654518330732465), (42, 0.6637309491974199), (49, 0.6552111847405285), (36, 0.6532110894294254), (5, 0.6469334479976361), (6, 0.64558208364558), (26, 0.6436444204474366), (16, 0.6418320027903235), (47, 0.6340485376208331), (12, 0.6306026012592075), (25, 0.625483311729852), (32, 0.6250839408907177), (27, 0.6137680243603292), (13, 0.6120207262325199), (24, 0.6041254001749158), (30, 0.5997634491670948), (10, 0.5936695515860839), (38, 0.5923751183022006), (7, 0.5896212493730959), (3, 0.5888563857527757), (45, 0.5835750370900301), (39, 0.5793058869384653), (37, 0.5781527421687257), (43, 0.5693961073949979), (31, 0.5566719247252474), (2, 0.555104710951908), (46, 0.5549120946391027), (15, 0.5503176809088649), (0, 0.5341329022578823), (4, 0.5317615693579463), (48, 0.5238164778117828), (11, 0.45661605158175833), (29, 0.4276945926531732), (1, 0.3572833951204155)], [(19, 0.8613233399911602), (41, 0.8481123701948422), (8, 0.8181341672299887), (33, 0.8086685517758313), (40, 0.7704277470766541), (20, 0.7680367786262248), (6, 0.7664098169730195), (42, 0.7466498184213873), (39, 0.7384423204388538), (18, 0.7364312280478227), (5, 0.7271760452590669), (26, 0.716394089065036), (34, 0.71463760208783), (21, 0.712584546843848), (44, 0.7061208731958143), (16, 0.694960133203879), (17, 0.6930389748145077), (38, 0.6915550941533583), (36, 0.6862269869514279), (10, 0.6804291836559013), (30, 0.6792041364219171), (35, 0.675001454344559), (14, 0.671619175076748), (13, 0.6683391473484107), (3, 0.6629921460346991), (2, 0.662726042276756), (43, 0.6625810225564782), (32, 0.6555869660133218), (23, 0.655581613330786), (9, 0.6553884966195931), (45, 0.652198426187177), (27, 0.6501444508796689), (12, 0.6499637242959548), (46, 0.6419277759515841), (28, 0.6386216729160039), (49, 0.6346855297331955), (24, 0.6346272715930356), (37, 0.625662062058621), (0, 0.6078462745604094), (31, 0.6057025357523205), (11, 0.5876441506010435), (47, 0.5821281173392094), (25, 0.5660126485461846), (15, 0.5643596075208073), (48, 0.5607368971599827), (7, 0.5371108867534756), (4, 0.49729074004610974), (29, 0.4088121444255818), (1, 0.3097306114631624)], [(35, 0.7737006622098592), (42, 0.7729020646055809), (48, 0.6935156207698103), (21, 0.685014528700719), (19, 0.6839101121664396), (33, 0.6823796780879852), (25, 0.6739955883383705), (41, 0.6731556240046608), (9, 0.6653045046785288), (24, 0.6645333711958173), (22, 0.655581613330786), (18, 0.6527026053048465), (8, 0.6465408384773921), (26, 0.6464547139309831), (28, 0.6364972596878745), (16, 0.6357489230459725), (49, 0.6298261596945636), (40, 0.6292619001340288), (20, 0.6251141083966443), (47, 0.6200004159245437), (43, 0.6185795973237947), (17, 0.616231182175156), (34, 0.6137614751017578), (44, 0.6115165492672273), (38, 0.6073117934227401), (10, 0.6059376266500373), (39, 0.6057150481052218), (14, 0.5994416017811603), (36, 0.5991395690737504), (4, 0.5865326091835685), (7, 0.5831694871252309), (46, 0.5765533783212711), (27, 0.5751614554437164), (37, 0.5743908619536767), (5, 0.5650322858309689), (0, 0.5637546951136899), (2, 0.5621598169933595), (6, 0.5597445289321064), (13, 0.5543556164063975), (15, 0.5534440027043135), (12, 0.5402448871586482), (3, 0.5370755765079337), (32, 0.5325696976708634), (45, 0.5313809535954583), (30, 0.48491530692289364), (31, 0.4737227031285993), (11, 0.4713372158233695), (1, 0.44651179288757525), (29, 0.38563010229993366)], [(4, 0.7232208070517403), (6, 0.7053058318821377), (48, 0.7017853343155979), (35, 0.6896808102806546), (23, 0.6645333711958173), (2, 0.6603944481968271), (42, 0.6583274258509209), (22, 0.6346272715930356), (41, 0.6323909994793494), (19, 0.6195107808862097), (25, 0.6144957684374888), (21, 0.6041254001749158), (33, 0.597539231991272), (16, 0.5863112444068781), (13, 0.5835799234434363), (47, 0.5765356692070044), (9, 0.5735086624113718), (32, 0.568750094094894), (14, 0.564183132355589), (38, 0.5639317509823684), (49, 0.558427416008696), (31, 0.5551461032965274), (44, 0.5526096471830311), (18, 0.549422599825418), (46, 0.5492788143592959), (28, 0.5483232430898843), (5, 0.5363805536142033), (37, 0.5306458805417903), (43, 0.5302680135729129), (10, 0.5296979428600004), (39, 0.5284302771938664), (40, 0.5269885341814006), (45, 0.5205872505114224), (8, 0.5197363419642655), (36, 0.517944941812132), (26, 0.5133341108327665), (11, 0.5114192190372341), (0, 0.49902846439669335), (3, 0.49414122487774503), (30, 0.4929160165905875), (12, 0.4921094876641794), (20, 0.49023275281712775), (17, 0.48587507831779564), (34, 0.48326043824143583), (15, 0.48108134253850143), (27, 0.4701878339336514), (1, 0.4167190703987078), (7, 0.41382298612765656), (29, 0.37120978158434914)], [(38, 0.69616579522417), (35, 0.6937600408315063), (8, 0.6811110601172777), (23, 0.6739955883383705), (41, 0.6688695690236401), (9, 0.6376990420770966), (43, 0.6321457005721586), (21, 0.625483311729852), (10, 0.6148078920559675), (24, 0.6144957684374888), (28, 0.6062385891931327), (33, 0.5955316252433104), (37, 0.5909698956452054), (48, 0.5859614094372697), (34, 0.5821402822398095), (49, 0.5818753323609039), (47, 0.5809527747212889), (14, 0.5794046851525807), (42, 0.5708638082967783), (46, 0.5671094395408648), (22, 0.5660126485461846), (19, 0.5589102580306151), (40, 0.558325118764839), (3, 0.5538415205022965), (18, 0.5536812376756265), (16, 0.5521056944903251), (17, 0.5436582031746847), (4, 0.5369422967553406), (36, 0.5338171492090068), (44, 0.53037737924039), (30, 0.5293760366855687), (2, 0.5273630296287931), (12, 0.523479728993684), (13, 0.522511324929691), (20, 0.5197043229562381), (26, 0.514983850160642), (27, 0.5113207589978963), (15, 0.5108456406574545), (32, 0.5053079000096553), (39, 0.5035432076869811), (6, 0.48811302499370757), (5, 0.4842828808893984), (45, 0.4842128794123347), (7, 0.45778391596533097), (0, 0.44033454928970084), (1, 0.4176620959416455), (31, 0.41419350024206847), (11, 0.4040108608048778), (29, 0.3042267307648865)], [(17, 0.7968557782039347), (40, 0.7672767326351563), (22, 0.716394089065036), (41, 0.6950995821559645), (18, 0.6901063433742132), (33, 0.6884652192526574), (39, 0.6770397811535124), (19, 0.6643857351205108), (5, 0.658588721712676), (2, 0.6566350087024597), (16, 0.6553392548993022), (20, 0.6499506356749031), (36, 0.6498353427728141), (42, 0.6486487234686854), (23, 0.6464547139309831), (21, 0.6436444204474366), (8, 0.6412415075178912), (44, 0.6409454938171605), (43, 0.63440148649753), (6, 0.632009871678595), (0, 0.623048394504548), (9, 0.6227530279079468), (49, 0.611824458226576), (38, 0.6057555010402798), (27, 0.6015341568873144), (12, 0.6007677106915943), (30, 0.6002150033557633), (35, 0.5994562681901203), (34, 0.5892331303196241), (28, 0.5745498726159438), (46, 0.5726645454481872), (14, 0.5674887106604426), (10, 0.5543393382157262), (45, 0.5524092996346075), (13, 0.5501171411342666), (37, 0.543862962083803), (32, 0.5420948610367691), (11, 0.5277278376263042), (31, 0.5168182769970011), (25, 0.514983850160642), (24, 0.5133341108327665), (48, 0.5037896788910927), (15, 0.503285117383317), (3, 0.49960331980410544), (47, 0.4989003753477692), (7, 0.4983173502156313), (4, 0.45541296102002526), (29, 0.3282931501948424), (1, 0.2832399438197424)], [(16, 0.7025962534947693), (45, 0.6918264685575116), (33, 0.683530800461982), (36, 0.6790592209399212), (40, 0.6687787576364673), (19, 0.651886935691051), (17, 0.6513462191887118), (22, 0.6501444508796689), (42, 0.6499521161800139), (8, 0.647517908060675), (41, 0.6436514270929554), (44, 0.6431777916342176), (9, 0.6413408870439001), (12, 0.6384674316597737), (28, 0.6320058020167643), (35, 0.6208062168987788), (18, 0.6185820955212173), (3, 0.6181784539765648), (21, 0.6137680243603292), (26, 0.6015341568873144), (10, 0.5996844422481553), (49, 0.5990255493415914), (14, 0.5875961941632762), (7, 0.586145465817198), (32, 0.5818249606025273), (13, 0.5793998143780835), (23, 0.5751614554437164), (38, 0.5738101196431757), (0, 0.5643827145863647), (39, 0.562795267080356), (34, 0.5602799745479825), (15, 0.5566963788165924), (43, 0.5490962375981943), (46, 0.5448457679470948), (5, 0.5419601246272394), (30, 0.5416421638881301), (6, 0.541322379398295), (47, 0.5384851796428511), (37, 0.5221143591070114), (11, 0.5173973623648357), (25, 0.5113207589978963), (20, 0.5061329462186788), (2, 0.5055483042488547), (31, 0.4986611976017956), (24, 0.4701878339336514), (48, 0.44876510644826184), (4, 0.428359923754854), (29, 0.3608954109906102), (1, 0.3278447896053184)], [(42, 0.6903351254013197), (8, 0.6832753051409405), (21, 0.6722927492021191), (10, 0.6689798919657106), (19, 0.6641900764880819), (44, 0.6548164758335573), (45, 0.6477919715906406), (14, 0.6456549002443502), (33, 0.6432631535189529), (9, 0.6387545462507974), (22, 0.6386216729160039), (3, 0.6369314562130252), (23, 0.6364972596878745), (40, 0.6342441548188477), (35, 0.6321825899934603), (27, 0.6320058020167643), (12, 0.6312944508394082), (49, 0.6273900609240036), (13, 0.62638537517938), (16, 0.6203349789966718), (41, 0.6188968493875092), (17, 0.6116151257431852), (36, 0.6098556889922773), (15, 0.6091589700381285), (25, 0.6062385891931327), (39, 0.6038717569979155), (18, 0.5932153503316835), (6, 0.5888014872507505), (31, 0.5870431282480084), (30, 0.5799573673858903), (32, 0.5766707403313737), (26, 0.5745498726159438), (7, 0.5619245939506323), (34, 0.5592162702295934), (38, 0.5582750536773396), (37, 0.5494348867157236), (24, 0.5483232430898843), (47, 0.548021172253157), (0, 0.5429561358609649), (5, 0.5411453078329037), (43, 0.538446892701037), (2, 0.5377531870406483), (46, 0.5349883942073319), (20, 0.5194263850407252), (4, 0.5136908431860634), (48, 0.4806669490687202), (11, 0.4464949775084389), (1, 0.4134697007021928), (29, 0.39349675120911964)], [(12, 0.6507582245400781), (45, 0.4906215563636105), (32, 0.4890813641334364), (42, 0.47657403985787816), (6, 0.47448824911269605), (31, 0.47241689057855407), (44, 0.46987979955967996), (13, 0.4698412923784985), (14, 0.4622105407554302), (7, 0.45935382721229345), (21, 0.4276945926531732), (34, 0.4239025999250543), (33, 0.41182764757819434), (22, 0.4088121444255818), (18, 0.40779891292391324), (36, 0.4056677819303911), (1, 0.4026026599953536), (40, 0.397715731074368), (17, 0.3967538875146055), (16, 0.3952043437607168), (28, 0.39349675120911964), (19, 0.3903196540728028), (23, 0.38563010229993366), (35, 0.3728316439902136), (47, 0.3718204457008607), (24, 0.37120978158434914), (49, 0.37021604665421215), (20, 0.3693473489377763), (37, 0.36196008282728265), (27, 0.3608954109906102), (5, 0.3539233619925759), (41, 0.35024579806189593), (38, 0.3437321123175703), (9, 0.3426429063990487), (4, 0.3423594649982349), (30, 0.3400814084370073), (8, 0.33901025611247304), (0, 0.3386231008058991), (15, 0.33607335696456486), (2, 0.33282127854465193), (48, 0.331472215243343), (26, 0.3282931501948424), (10, 0.31614049264911515), (11, 0.3113410876064511), (3, 0.308769609537781), (25, 0.3042267307648865), (43, 0.3040825823754594), (39, 0.2935937551585963), (46, 0.2898027162392127)], [(13, 0.7185679192012252), (8, 0.7173941544472682), (43, 0.7158674484192672), (19, 0.7071186094937358), (31, 0.7005780990158064), (3, 0.6948820343857054), (38, 0.6910477714666969), (22, 0.6792041364219171), (41, 0.6658393613846914), (33, 0.6601868532360355), (40, 0.6517666149137419), (5, 0.6438216650748168), (44, 0.6346560078601498), (17, 0.6185297066227768), (14, 0.6163779254640525), (26, 0.6002150033557633), (21, 0.5997634491670948), (12, 0.5994343168409944), (37, 0.5924739532207386), (36, 0.5913098232015072), (32, 0.5886689709085332), (34, 0.5872105831372681), (9, 0.5843732794034106), (18, 0.580311252824581), (28, 0.5799573673858903), (2, 0.5779599522275415), (6, 0.5761194326339755), (35, 0.5746330227744384), (42, 0.5717083358137821), (16, 0.5701591867102868), (10, 0.5581665622325334), (20, 0.5571534822279658), (46, 0.5553076319352865), (45, 0.5464786340411008), (39, 0.5464151158593682), (27, 0.5416421638881301), (49, 0.539802400784116), (25, 0.5293760366855687), (47, 0.5183578388648498), (15, 0.5162618038285414), (24, 0.4929160165905875), (0, 0.4889145423682526), (23, 0.48491530692289364), (4, 0.42978883200448714), (48, 0.420814377725351), (11, 0.41245029688515467), (7, 0.40691633239427627), (29, 0.3400814084370073), (1, 0.2972875368228677)], [(13, 0.8494005367927596), (44, 0.7162745505152331), (30, 0.7005780990158064), (32, 0.6909775846598983), (14, 0.6906937307298023), (6, 0.685605248175851), (12, 0.6226728984348362), (45, 0.6206540230445914), (22, 0.6057025357523205), (42, 0.6045661116582578), (28, 0.5870431282480084), (19, 0.585569852399331), (36, 0.5653062033543075), (33, 0.5640469813505059), (38, 0.5567229583253896), (21, 0.5566719247252474), (24, 0.5551461032965274), (16, 0.5546854957528119), (8, 0.5521979153964482), (41, 0.5507469062081336), (43, 0.5487669571063595), (40, 0.5460121405297226), (49, 0.544530884557017), (9, 0.5432467458540935), (35, 0.533896791430336), (17, 0.5329636515674623), (37, 0.5303424915873967), (5, 0.5291092203127813), (3, 0.5213349343271154), (34, 0.5182645421115574), (0, 0.5182099539134781), (26, 0.5168182769970011), (15, 0.516233433696405), (18, 0.5135458623107888), (2, 0.5031963557767329), (27, 0.4986611976017956), (10, 0.49829898404479245), (20, 0.4957135473184502), (39, 0.48936089341387434), (47, 0.4862617930731634), (46, 0.48410768651201785), (23, 0.4737227031285993), (29, 0.47241689057855407), (4, 0.4527122993363849), (11, 0.44417771025013786), (7, 0.43364140822648567), (48, 0.417974693812023), (25, 0.41419350024206847), (1, 0.33789912882244566)], [(44, 0.7427768807089147), (14, 0.7268588440877525), (13, 0.7266036069872612), (35, 0.6948636045811344), (12, 0.6910637841705973), (31, 0.6909775846598983), (49, 0.6780887773498198), (34, 0.6743133290912523), (6, 0.6623518767471102), (36, 0.6558544545316577), (22, 0.6555869660133218), (45, 0.6481103459836851), (42, 0.636201156488599), (19, 0.6327785592444377), (47, 0.6268862406147419), (9, 0.6264790527540733), (21, 0.6250839408907177), (33, 0.6159624261386923), (41, 0.6124747430559123), (40, 0.6015358655908426), (38, 0.599398567708632), (8, 0.5970170139694692), (5, 0.5897184547765306), (30, 0.5886689709085332), (27, 0.5818249606025273), (28, 0.5766707403313737), (17, 0.5765989222651253), (24, 0.568750094094894), (16, 0.5685550414146586), (15, 0.567245604976474), (3, 0.5635344568559287), (18, 0.5600100519317083), (37, 0.5588960958982054), (43, 0.5495422213591136), (26, 0.5420948610367691), (23, 0.5325696976708634), (0, 0.5324565216117578), (4, 0.5276762512242541), (2, 0.5257102284957851), (10, 0.5256474574394135), (20, 0.5229278534325148), (39, 0.5218481368311385), (46, 0.5124873970150156), (25, 0.5053079000096553), (29, 0.4890813641334364), (7, 0.4806410507464659), (48, 0.44312810060558006), (11, 0.4318184315055471), (1, 0.3124287292645438)], [(40, 0.9362747957430865), (18, 0.9195985463617874), (22, 0.8086685517758313), (19, 0.7926382512757276), (8, 0.7825431910964941), (17, 0.7818357616783821), (34, 0.7706211599951871), (35, 0.7523036072223416), (21, 0.7474564495839376), (41, 0.7333031104303355), (44, 0.7317153435717788), (42, 0.7121745311277761), (36, 0.7114363053402004), (3, 0.7034925840739902), (26, 0.6884652192526574), (27, 0.683530800461982), (23, 0.6823796780879852), (20, 0.6736595888489891), (10, 0.6702243801222121), (16, 0.6693736605444617), (47, 0.669182021774896), (30, 0.6601868532360355), (9, 0.659273434513235), (12, 0.657423409914844), (6, 0.6535833126068615), (5, 0.6486949539514918), (28, 0.6432631535189529), (14, 0.6401954241796232), (38, 0.6397597704367761), (45, 0.6344702946113024), (43, 0.6250524733752925), (49, 0.6216175228638368), (13, 0.6209847440520491), (32, 0.6159624261386923), (46, 0.6069945297339698), (39, 0.5981090352139666), (0, 0.5980445038136194), (24, 0.597539231991272), (25, 0.5955316252433104), (37, 0.5909885650793882), (2, 0.5880401188901834), (48, 0.575686852527548), (31, 0.5640469813505059), (15, 0.5636876225361611), (7, 0.5492972359476999), (4, 0.5037289491095521), (11, 0.49525979328160696), (29, 0.41182764757819434), (1, 0.32209387659188793)], [(35, 0.8324359461835837), (47, 0.7922097825878633), (33, 0.7706211599951871), (18, 0.7664755799718538), (40, 0.7408540297273533), (8, 0.7160399455323206), (22, 0.71463760208783), (19, 0.6991933895252135), (41, 0.6920226567717943), (32, 0.6743133290912523), (21, 0.6654518330732465), (20, 0.6632037810554076), (17, 0.660625076820663), (49, 0.6489370936998345), (42, 0.637391330162018), (38, 0.6252872654518702), (9, 0.6189277121362493), (37, 0.6175579005478908), (10, 0.6144345371415102), (23, 0.6137614751017578), (16, 0.6101726677036562), (3, 0.6023988783286482), (5, 0.6011285199553019), (44, 0.5983886395714586), (46, 0.5933414559002401), (36, 0.5922331752179754), (26, 0.5892331303196241), (30, 0.5872105831372681), (43, 0.5854855343832129), (12, 0.5847583832824348), (6, 0.5827147323815913), (25, 0.5821402822398095), (14, 0.5715067098529603), (27, 0.5602799745479825), (28, 0.5592162702295934), (15, 0.5419319250007548), (48, 0.5406727992887552), (2, 0.5396646681097745), (39, 0.5385031582576103), (13, 0.5372428210251862), (45, 0.5272261876938931), (31, 0.5182645421115574), (4, 0.5150652569506408), (0, 0.508574407361361), (7, 0.4884762110928602), (24, 0.48326043824143583), (11, 0.44074790884794557), (29, 0.4239025999250543), (1, 0.3267247734400073)], [(47, 0.8785693699101261), (34, 0.8324359461835837), (23, 0.7737006622098592), (33, 0.7523036072223416), (21, 0.7220123896566129), (49, 0.7206983224194535), (9, 0.7202552074339771), (18, 0.7111279571903913), (32, 0.6948636045811344), (25, 0.6937600408315063), (41, 0.6915319595536081), (42, 0.6914967163721198), (40, 0.6899132367736993), (24, 0.6896808102806546), (19, 0.6838746226031331), (22, 0.675001454344559), (16, 0.670896180941539), (8, 0.6579654461680078), (48, 0.6530263935703315), (36, 0.6521005210402516), (44, 0.647893158470593), (46, 0.6382896253574155), (37, 0.6359669864506626), (38, 0.6344740074245034), (4, 0.6328996211866197), (28, 0.6321825899934603), (14, 0.6317978135484648), (17, 0.6304783956845336), (10, 0.6285052284012659), (5, 0.624890161756848), (27, 0.6208062168987788), (2, 0.6158994752724818), (6, 0.614559550209735), (3, 0.60897905521851), (13, 0.6001628922015052), (26, 0.5994562681901203), (20, 0.5986469497760787), (43, 0.5977672893377249), (12, 0.5964125602155922), (15, 0.5826473119549544), (30, 0.5746330227744384), (0, 0.5736677202944179), (45, 0.5732589274375962), (39, 0.567718433703842), (7, 0.5394725198276451), (31, 0.533896791430336), (11, 0.48060763348455615), (1, 0.4083756945598269), (29, 0.3728316439902136)], [(44, 0.7616465411506007), (40, 0.7139798941174769), (33, 0.7114363053402004), (12, 0.6941513379702748), (22, 0.6862269869514279), (18, 0.6832301482829322), (42, 0.6825591369791516), (27, 0.6790592209399212), (49, 0.6696162013699489), (17, 0.667711039261531), (45, 0.6657853428229622), (19, 0.6613723221439961), (14, 0.6592296966750324), (32, 0.6558544545316577), (21, 0.6532110894294254), (35, 0.6521005210402516), (26, 0.6498353427728141), (16, 0.6460881566450057), (9, 0.6454655958016274), (41, 0.6407383139773346), (8, 0.6388653895351967), (13, 0.6360201899768743), (0, 0.6355711888185002), (38, 0.6246911653591757), (28, 0.6098556889922773), (3, 0.6069702002330364), (5, 0.6024934121553173), (10, 0.6015524949600388), (23, 0.5991395690737504), (37, 0.5990524444895603), (43, 0.5968527597832455), (15, 0.5960790322549155), (34, 0.5922331752179754), (30, 0.5913098232015072), (6, 0.5879939828511352), (47, 0.5740209223148386), (46, 0.572497636727732), (31, 0.5653062033543075), (7, 0.5605691775389879), (20, 0.557103176787704), (2, 0.5503610808655546), (39, 0.5454374263580767), (25, 0.5338171492090068), (24, 0.517944941812132), (11, 0.5025518145287275), (48, 0.48950858224991467), (4, 0.4736211809232077), (1, 0.41060799588275265), (29, 0.4056677819303911)], [(38, 0.7954502662530532), (46, 0.6961185610598289), (43, 0.6897056150227757), (41, 0.6506727910457588), (35, 0.6359669864506626), (22, 0.625662062058621), (34, 0.6175579005478908), (16, 0.6117660904893003), (19, 0.6095429281990441), (47, 0.6036617040195495), (8, 0.6002170160986736), (13, 0.5990847862835924), (36, 0.5990524444895603), (9, 0.598172309696329), (5, 0.5958206830162357), (30, 0.5924739532207386), (42, 0.5923889503764581), (33, 0.5909885650793882), (25, 0.5909698956452054), (49, 0.5901503081716531), (20, 0.5804428194734323), (21, 0.5781527421687257), (23, 0.5743908619536767), (14, 0.5730445130263003), (18, 0.5693906119009996), (44, 0.5685742874001517), (40, 0.5618144473403397), (32, 0.5588960958982054), (6, 0.555920498566235), (17, 0.5542454493355099), (28, 0.5494348867157236), (10, 0.5470509658657646), (26, 0.543862962083803), (12, 0.54101071990807), (39, 0.5402695472114736), (3, 0.5380095851175912), (24, 0.5306458805417903), (31, 0.5303424915873967), (4, 0.5268021495145718), (45, 0.5254059823862004), (27, 0.5221143591070114), (2, 0.5024080727899488), (48, 0.500581602431611), (0, 0.49800338663029386), (15, 0.48726289894222896), (11, 0.4872303030321079), (7, 0.46846397807333395), (29, 0.36196008282728265), (1, 0.26288340204578153)], [(43, 0.8019331520661163), (37, 0.7954502662530532), (8, 0.7577386556934115), (41, 0.74646742134878), (46, 0.7358423501535905), (25, 0.69616579522417), (22, 0.6915550941533583), (30, 0.6910477714666969), (19, 0.6544210575638884), (9, 0.6449268573862537), (33, 0.6397597704367761), (35, 0.6344740074245034), (34, 0.6252872654518702), (16, 0.6252652064703482), (36, 0.6246911653591757), (5, 0.6233614438030062), (42, 0.6217525217501433), (13, 0.613226276964339), (40, 0.6087585159918903), (23, 0.6073117934227401), (26, 0.6057555010402798), (44, 0.6019361600915163), (32, 0.599398567708632), (20, 0.5988368189455664), (49, 0.5961580145648395), (14, 0.596133827877315), (17, 0.596109363266206), (21, 0.5923751183022006), (3, 0.5923362932507433), (10, 0.5906056600209751), (27, 0.5738101196431757), (39, 0.565539896972521), (18, 0.5647583014110663), (12, 0.5644955072681607), (24, 0.5639317509823684), (6, 0.562062778883629), (28, 0.5582750536773396), (31, 0.5567229583253896), (15, 0.5516174172989287), (45, 0.5474596128711834), (47, 0.5427159492691029), (2, 0.5214764228507505), (0, 0.50402040641346), (48, 0.49863482804532033), (11, 0.49602701634937907), (4, 0.4798884337884157), (7, 0.45750002101527476), (29, 0.3437321123175703), (1, 0.30434670135185227)], [(22, 0.7384423204388538), (41, 0.6968187198768756), (26, 0.6770397811535124), (6, 0.66907554001933), (42, 0.6619571214642906), (19, 0.6589751961794746), (5, 0.6447825538000911), (8, 0.628229595058478), (20, 0.6130699990240771), (23, 0.6057150481052218), (28, 0.6038717569979155), (2, 0.5983374956671069), (33, 0.5981090352139666), (40, 0.5852149639140828), (10, 0.5850591935488973), (21, 0.5793058869384653), (46, 0.5756678149186807), (16, 0.5721944938773481), (9, 0.570801205511253), (35, 0.567718433703842), (17, 0.5674470582415718), (38, 0.565539896972521), (18, 0.5650436426463761), (14, 0.5647464345805375), (44, 0.5630707933298292), (27, 0.562795267080356), (43, 0.5596420698772737), (30, 0.5464151158593682), (36, 0.5454374263580767), (45, 0.5451168276507667), (37, 0.5402695472114736), (3, 0.5397370762292112), (34, 0.5385031582576103), (13, 0.5370644284702286), (49, 0.5367633468879884), (12, 0.532577019519384), (0, 0.5309162980536152), (24, 0.5284302771938664), (32, 0.5218481368311385), (47, 0.5067394337356504), (25, 0.5035432076869811), (7, 0.4935259893861824), (11, 0.49194220775353803), (31, 0.48936089341387434), (15, 0.48097024306810465), (48, 0.46512710889346276), (4, 0.429613436527606), (29, 0.2935937551585963), (1, 0.28322050601641324)], [(33, 0.9362747957430865), (18, 0.9074717053774974), (17, 0.8911424479926332), (22, 0.7704277470766541), (8, 0.7673986956239787), (26, 0.7672767326351563), (19, 0.7521897321687286), (34, 0.7408540297273533), (21, 0.7381842026902199), (44, 0.7234010093822278), (36, 0.7139798941174769), (41, 0.6963910643416475), (35, 0.6899132367736993), (27, 0.6687787576364673), (3, 0.6616522400534708), (42, 0.6579687000690666), (30, 0.6517666149137419), (16, 0.6506837580953184), (20, 0.6495521841021524), (10, 0.6464360822962796), (12, 0.6410966607776153), (28, 0.6342441548188477), (23, 0.6292619001340288), (9, 0.6255898310531375), (45, 0.6212668094405209), (47, 0.6118963630098018), (5, 0.6108146687769647), (49, 0.6103019086792725), (38, 0.6087585159918903), (14, 0.602370077207425), (32, 0.6015358655908426), (43, 0.5990409747402313), (6, 0.5967031595512956), (13, 0.5864597466792798), (39, 0.5852149639140828), (0, 0.5820296608218488), (46, 0.5626554696987816), (37, 0.5618144473403397), (2, 0.5613923815879593), (25, 0.558325118764839), (15, 0.5532811419266641), (31, 0.5460121405297226), (7, 0.5331127976720568), (48, 0.5295920834541771), (24, 0.5269885341814006), (4, 0.47327696278101916), (11, 0.473026094923263), (29, 0.397715731074368), (1, 0.2955004938594088)], [(22, 0.8481123701948422), (8, 0.8272493495327595), (20, 0.8260683617515167), (5, 0.7891574429896357), (19, 0.7468154810694143), (38, 0.74646742134878), (43, 0.7430270900045786), (33, 0.7333031104303355), (6, 0.697776659354392), (16, 0.6974125832934188), (39, 0.6968187198768756), (40, 0.6963910643416475), (42, 0.6963246783731538), (26, 0.6950995821559645), (34, 0.6920226567717943), (35, 0.6915319595536081), (18, 0.6911825192094456), (21, 0.6902555421731382), (46, 0.6853417177067198), (9, 0.6835045157948796), (23, 0.6731556240046608), (25, 0.6688695690236401), (17, 0.6683485802302235), (30, 0.6658393613846914), (10, 0.6653133102855077), (44, 0.6634505556943199), (37, 0.6506727910457588), (14, 0.64654676317166), (2, 0.6463894724273721), (27, 0.6436514270929554), (13, 0.6421296740644327), (36, 0.6407383139773346), (49, 0.6366843149551418), (3, 0.6350608843323684), (24, 0.6323909994793494), (0, 0.6225226498768238), (28, 0.6188968493875092), (12, 0.615936505892596), (32, 0.6124747430559123), (47, 0.5951433074214999), (45, 0.5855725653044116), (48, 0.5627429560604106), (4, 0.5599645983146834), (15, 0.5523309670101392), (31, 0.5507469062081336), (11, 0.5450903145194196), (7, 0.4835915740266731), (29, 0.35024579806189593), (1, 0.2823621025405225)], [(23, 0.7729020646055809), (22, 0.7466498184213873), (44, 0.7148686911026185), (14, 0.7122035958497396), (33, 0.7121745311277761), (6, 0.7044489598167971), (49, 0.6998175435045791), (19, 0.6989583883125043), (41, 0.6963246783731538), (8, 0.696124580417019), (35, 0.6914967163721198), (28, 0.6903351254013197), (2, 0.6835326309640387), (36, 0.6825591369791516), (9, 0.6785151157410192), (13, 0.6784236366469815), (16, 0.6722079147340162), (45, 0.6700656481143352), (21, 0.6637309491974199), (39, 0.6619571214642906), (24, 0.6583274258509209), (40, 0.6579687000690666), (27, 0.6499521161800139), (26, 0.6486487234686854), (3, 0.6408898376093034), (18, 0.6399509764861934), (34, 0.637391330162018), (32, 0.636201156488599), (12, 0.6313177077178863), (38, 0.6217525217501433), (10, 0.6212180358323314), (17, 0.620779470410431), (5, 0.6193156215961236), (43, 0.6070368796278084), (31, 0.6045661116582578), (15, 0.6010345479125931), (7, 0.594689703284467), (47, 0.5935395799781776), (37, 0.5923889503764581), (0, 0.5852852404403436), (30, 0.5717083358137821), (25, 0.5708638082967783), (20, 0.5551843067712404), (46, 0.5513391268428217), (4, 0.5414514727643036), (11, 0.5375399789083366), (48, 0.5097946022911155), (29, 0.47657403985787816), (1, 0.470056580132614)], [(38, 0.8019331520661163), (8, 0.7679373514780244), (41, 0.7430270900045786), (30, 0.7158674484192672), (37, 0.6897056150227757), (22, 0.6625810225564782), (26, 0.63440148649753), (25, 0.6321457005721586), (13, 0.628776937904572), (33, 0.6250524733752925), (19, 0.6195849869233963), (23, 0.6185795973237947), (5, 0.6121814871460989), (9, 0.609134915999585), (42, 0.6070368796278084), (14, 0.6016715365505239), (44, 0.6008500461389381), (40, 0.5990409747402313), (35, 0.5977672893377249), (36, 0.5968527597832455), (20, 0.5907139278970507), (17, 0.588561285693738), (46, 0.5883040545013595), (34, 0.5854855343832129), (49, 0.5789257325890397), (16, 0.5785822260127481), (3, 0.5740005517973568), (21, 0.5693961073949979), (10, 0.5656098199592727), (39, 0.5596420698772737), (18, 0.5578698487361272), (32, 0.5495422213591136), (27, 0.5490962375981943), (31, 0.5487669571063595), (12, 0.5469908456333726), (6, 0.5459092308663069), (28, 0.538446892701037), (15, 0.5305090785418659), (24, 0.5302680135729129), (45, 0.525454095975233), (2, 0.5162248239112663), (47, 0.4960275637374577), (0, 0.4957580861729989), (4, 0.4844547640408733), (48, 0.46857104366328306), (11, 0.45080863564965235), (7, 0.40406258734306055), (1, 0.3149827891089061), (29, 0.3040825823754594)], [(14, 0.8783322073750311), (13, 0.7796436243463516), (36, 0.7616465411506007), (45, 0.7446771856456248), (32, 0.7427768807089147), (33, 0.7317153435717788), (12, 0.7310314386808778), (40, 0.7234010093822278), (31, 0.7162745505152331), (42, 0.7148686911026185), (22, 0.7061208731958143), (19, 0.6896383235514049), (49, 0.6837466977003828), (21, 0.6829288803337595), (17, 0.6813355949909267), (18, 0.6767114480425221), (9, 0.6647646590397059), (41, 0.6634505556943199), (8, 0.6629512798364522), (3, 0.6625457143191829), (28, 0.6548164758335573), (0, 0.653166295279205), (6, 0.6479851310792637), (35, 0.647893158470593), (27, 0.6431777916342176), (26, 0.6409454938171605), (30, 0.6346560078601498), (16, 0.625905239914093), (23, 0.6115165492672273), (38, 0.6019361600915163), (43, 0.6008500461389381), (34, 0.5983886395714586), (10, 0.5959639316851469), (15, 0.5955341760537131), (5, 0.5924890563624263), (47, 0.5733217733823184), (37, 0.5685742874001517), (39, 0.5630707933298292), (20, 0.5537710836418419), (7, 0.5528685482421255), (24, 0.5526096471830311), (2, 0.5509268950203385), (46, 0.5414289515488502), (25, 0.53037737924039), (11, 0.5113302143925765), (4, 0.4958300383024763), (48, 0.4768644584599635), (29, 0.46987979955967996), (1, 0.3579014039458157)], [(44, 0.7446771856456248), (7, 0.7394106641228536), (14, 0.7014002050887356), (27, 0.6918264685575116), (12, 0.6901209756443182), (42, 0.6700656481143352), (36, 0.6657853428229622), (13, 0.6649396949335733), (3, 0.6609109628645485), (19, 0.6536542956391298), (22, 0.652198426187177), (32, 0.6481103459836851), (28, 0.6477919715906406), (16, 0.6346670813082045), (33, 0.6344702946113024), (17, 0.6286408353105954), (8, 0.6246889933413128), (6, 0.6212779539944381), (40, 0.6212668094405209), (31, 0.6206540230445914), (9, 0.5988956088585108), (41, 0.5855725653044116), (21, 0.5835750370900301), (10, 0.5821583253869318), (35, 0.5732589274375962), (15, 0.5713452611231261), (49, 0.5701592401691343), (18, 0.5621885839392974), (0, 0.5546424678082712), (26, 0.5524092996346075), (38, 0.5474596128711834), (30, 0.5464786340411008), (39, 0.5451168276507667), (23, 0.5313809535954583), (34, 0.5272261876938931), (47, 0.5258695217771466), (43, 0.525454095975233), (5, 0.5254440457886449), (37, 0.5254059823862004), (2, 0.5228227422200318), (24, 0.5205872505114224), (11, 0.5151149004224349), (29, 0.4906215563636105), (25, 0.4842128794123347), (46, 0.484141351273943), (20, 0.46553319414770844), (4, 0.43267978177250144), (48, 0.420384352618307), (1, 0.35259507046003613)], [(38, 0.7358423501535905), (37, 0.6961185610598289), (41, 0.6853417177067198), (22, 0.6419277759515841), (35, 0.6382896253574155), (19, 0.62728782353163), (16, 0.6227488548698698), (8, 0.6143762992580865), (47, 0.6098608964822712), (33, 0.6069945297339698), (20, 0.5935094931022095), (34, 0.5933414559002401), (5, 0.5926107453449947), (43, 0.5883040545013595), (9, 0.5824765565356654), (23, 0.5765533783212711), (39, 0.5756678149186807), (2, 0.5739831115692153), (26, 0.5726645454481872), (36, 0.572497636727732), (25, 0.5671094395408648), (40, 0.5626554696987816), (18, 0.5615923832115242), (30, 0.5553076319352865), (21, 0.5549120946391027), (0, 0.5539811814480363), (42, 0.5513391268428217), (24, 0.5492788143592959), (48, 0.5473222150289615), (27, 0.5448457679470948), (10, 0.543501922668926), (6, 0.5428321068907916), (44, 0.5414289515488502), (3, 0.5411227966680575), (49, 0.5392592167615705), (28, 0.5349883942073319), (13, 0.5190317887827743), (17, 0.5175129973280349), (4, 0.5133116710347528), (32, 0.5124873970150156), (14, 0.5021479567008917), (12, 0.49900603649943465), (15, 0.4983758490910932), (45, 0.484141351273943), (31, 0.48410768651201785), (11, 0.48119979506853894), (7, 0.4379430866139039), (29, 0.2898027162392127), (1, 0.25658257375143223)], [(35, 0.8785693699101261), (34, 0.7922097825878633), (33, 0.669182021774896), (49, 0.6341103523076455), (21, 0.6340485376208331), (18, 0.6289244601640535), (32, 0.6268862406147419), (23, 0.6200004159245437), (40, 0.6118963630098018), (46, 0.6098608964822712), (9, 0.6097087944881944), (4, 0.6069898178605604), (37, 0.6036617040195495), (41, 0.5951433074214999), (19, 0.5945394487243891), (16, 0.5941088145803931), (42, 0.5935395799781776), (22, 0.5821281173392094), (25, 0.5809527747212889), (24, 0.5765356692070044), (36, 0.5740209223148386), (44, 0.5733217733823184), (8, 0.570777728501037), (48, 0.5640650782627699), (10, 0.559286269138557), (12, 0.5574684608293207), (5, 0.5539366624169663), (3, 0.5510980421954568), (14, 0.5494867721134683), (28, 0.548021172253157), (17, 0.5465215643233525), (38, 0.5427159492691029), (2, 0.5416223685496091), (13, 0.5388471773607655), (27, 0.5384851796428511), (6, 0.5320728667047663), (45, 0.5258695217771466), (15, 0.5205478816953281), (30, 0.5183578388648498), (20, 0.5135503373020622), (39, 0.5067394337356504), (7, 0.5063021871012356), (0, 0.5008898531649434), (26, 0.4989003753477692), (43, 0.4960275637374577), (31, 0.4862617930731634), (11, 0.41876965859643844), (29, 0.3718204457008607), (1, 0.34810386290992723)], [(24, 0.7017853343155979), (23, 0.6935156207698103), (35, 0.6530263935703315), (4, 0.6199079191228785), (19, 0.6190575074116896), (18, 0.6002277992958104), (25, 0.5859614094372697), (33, 0.575686852527548), (47, 0.5640650782627699), (41, 0.5627429560604106), (22, 0.5607368971599827), (6, 0.5484087845539304), (46, 0.5473222150289615), (20, 0.5452217047588237), (16, 0.5419357662028994), (34, 0.5406727992887552), (2, 0.5331995081001344), (40, 0.5295920834541771), (21, 0.5238164778117828), (9, 0.5183052199085572), (17, 0.5121987601355994), (42, 0.5097946022911155), (26, 0.5037896788910927), (10, 0.5009646477868095), (37, 0.500581602431611), (38, 0.49863482804532033), (11, 0.48974818450861424), (36, 0.48950858224991467), (49, 0.48696605593850784), (8, 0.4813881592899494), (28, 0.4806669490687202), (0, 0.4795220918364037), (44, 0.4768644584599635), (43, 0.46857104366328306), (39, 0.46512710889346276), (15, 0.45953153864874496), (5, 0.45554472971932936), (14, 0.4510640486094477), (12, 0.4506889055135537), (27, 0.44876510644826184), (32, 0.44312810060558006), (3, 0.440916527712365), (13, 0.43623056292746254), (30, 0.420814377725351), (45, 0.420384352618307), (31, 0.417974693812023), (7, 0.38112840323874164), (1, 0.3586678309276281), (29, 0.331472215243343)], [(14, 0.7370854062352546), (35, 0.7206983224194535), (42, 0.6998175435045791), (44, 0.6837466977003828), (9, 0.6810511778318247), (32, 0.6780887773498198), (36, 0.6696162013699489), (13, 0.6687870626552109), (21, 0.6552111847405285), (34, 0.6489370936998345), (41, 0.6366843149551418), (12, 0.6362910281379072), (22, 0.6346855297331955), (47, 0.6341103523076455), (23, 0.6298261596945636), (28, 0.6273900609240036), (19, 0.6250646931211777), (8, 0.6220274950357525), (33, 0.6216175228638368), (26, 0.611824458226576), (40, 0.6103019086792725), (0, 0.608123893549033), (17, 0.6045021539080947), (27, 0.5990255493415914), (16, 0.5979149657352585), (4, 0.5976098351390355), (38, 0.5961580145648395), (37, 0.5901503081716531), (10, 0.5884304518691857), (5, 0.5871751131505464), (15, 0.5865925364614211), (25, 0.5818753323609039), (43, 0.5789257325890397), (3, 0.5739503983986746), (45, 0.5701592401691343), (18, 0.567702568601209), (6, 0.5661709598317654), (24, 0.558427416008696), (2, 0.5481018583779245), (31, 0.544530884557017), (30, 0.539802400784116), (46, 0.5392592167615705), (7, 0.5381032126382104), (39, 0.5367633468879884), (20, 0.5048246772805227), (48, 0.48696605593850784), (11, 0.4729701153300545), (1, 0.37892012733644975), (29, 0.37021604665421215)]]\n"
     ]
    }
   ],
   "source": [
    "txt_input = machine_generated_captions\n",
    "text = clip.tokenize(txt_input).to(device)\n",
    "\n",
    "with torch.no_grad():\n",
    "    Caption_features = model.encode_text(text)\n",
    "Caption_features /= Caption_features.norm(dim=-1, keepdim=True)\n",
    "\n",
    "# calculate the ordering of indices and distance values based on the distance between caption features \n",
    "CaptionTxtDistance_ind=np.argsort(distance.cdist(Caption_features.cpu().numpy(),Caption_features.cpu().numpy(), metric='cosine')).squeeze()\n",
    "CaptionTxtDistance_val=np.sort(distance.cdist(Caption_features.cpu().numpy(),Caption_features.cpu().numpy(), metric='cosine')).squeeze()\n",
    "\n",
    "# save list of tuples (index, similarity value)\n",
    "CaptionTxtDistance=[]\n",
    "for i in range (len(lb2021)):\n",
    "    tup=[]\n",
    "    for j in range (1,len(lb2021)):\n",
    "        tup.append((int(CaptionTxtDistance_ind[i][j]), float(1.0-CaptionTxtDistance_val[i][j]))) #similarity=1-distance\n",
    "    CaptionTxtDistance.append(tup)\n",
    "\n",
    "print(CaptionTxtDistance)\n"
   ]
  },
  {
   "cell_type": "markdown",
   "metadata": {
    "id": "IJ2huDQLZYsz"
   },
   "source": [
    "Now let us look at the similarities for the following artwork:"
   ]
  },
  {
   "cell_type": "code",
   "execution_count": null,
   "metadata": {
    "colab": {
     "base_uri": "https://localhost:8080/"
    },
    "id": "hZFHwGiEJr_g",
    "outputId": "389b9e96-7b35-41d6-8174-24a5094d7778"
   },
   "outputs": [
    {
     "name": "stdout",
     "output_type": "stream",
     "text": [
      "Meat is Not Murder\n",
      "A person is holding a doughnut in a plastic container.\n"
     ]
    }
   ],
   "source": [
    "print(lb2021.iloc[0].clean_title)\n",
    "print(machine_generated_captions[0])\n"
   ]
  },
  {
   "cell_type": "markdown",
   "metadata": {
    "id": "0v6ULhiKZe7y"
   },
   "source": [
    "similarities to the above are recorded here:"
   ]
  },
  {
   "cell_type": "code",
   "execution_count": null,
   "metadata": {
    "colab": {
     "base_uri": "https://localhost:8080/"
    },
    "id": "64Sjol7GZfRF",
    "outputId": "0373bb49-a5e1-4984-f8a2-2bd4f36f197b"
   },
   "outputs": [
    {
     "name": "stdout",
     "output_type": "stream",
     "text": [
      "[(44, 0.653166295279205), (36, 0.6355711888185002), (26, 0.623048394504548), (41, 0.6225226498768238), (49, 0.608123893549033), (22, 0.6078462745604094), (19, 0.6078363158454496), (16, 0.6020274760143041), (33, 0.5980445038136194), (42, 0.5852852404403436), (5, 0.5822586393592443), (40, 0.5820296608218488), (11, 0.5745293285085412), (35, 0.5736677202944179), (10, 0.5655789052893478), (27, 0.5643827145863647), (18, 0.5638039537121451), (23, 0.5637546951136899), (17, 0.5564370616267578), (20, 0.5558147823093631), (45, 0.5546424678082712), (46, 0.5539811814480363), (9, 0.5472148008725043), (14, 0.5452916751977142), (28, 0.5429561358609649), (6, 0.5394459273457679), (21, 0.5341329022578823), (32, 0.5324565216117578), (12, 0.5321645228148311), (39, 0.5309162980536152), (2, 0.5226767670355249), (3, 0.5207815739245537), (31, 0.5182099539134781), (8, 0.5176788584317916), (34, 0.508574407361361), (38, 0.50402040641346), (47, 0.5008898531649434), (24, 0.49902846439669335), (37, 0.49800338663029386), (43, 0.4957580861729989), (13, 0.4900632170696043), (30, 0.4889145423682526), (48, 0.4795220918364037), (15, 0.4792451448551047), (7, 0.46426509326976484), (4, 0.4628637253767751), (25, 0.44033454928970084), (29, 0.3386231008058991), (1, 0.32579021783629836)]\n"
     ]
    }
   ],
   "source": [
    "print(CaptionTxtDistance[0])"
   ]
  },
  {
   "cell_type": "markdown",
   "metadata": {
    "id": "nMEX_pjuZpZi"
   },
   "source": [
    "The most dissimilar caption is:"
   ]
  },
  {
   "cell_type": "code",
   "execution_count": null,
   "metadata": {
    "colab": {
     "base_uri": "https://localhost:8080/"
    },
    "id": "9t-MaS96ZrvB",
    "outputId": "22f56927-f07f-49e5-845f-3ae719851fa6"
   },
   "outputs": [
    {
     "name": "stdout",
     "output_type": "stream",
     "text": [
      "(1, 0.32579021783629836)\n",
      "A group of orange and white fire hydrants sitting in a parking lot.\n"
     ]
    }
   ],
   "source": [
    "most_dissimilar_tuple = CaptionTxtDistance[0][-1]\n",
    "print(most_dissimilar_tuple)\n",
    "print(machine_generated_captions[most_dissimilar_tuple[0]])"
   ]
  },
  {
   "cell_type": "markdown",
   "metadata": {
    "id": "difNLldHZvy_"
   },
   "source": [
    "The most similar caption is:"
   ]
  },
  {
   "cell_type": "code",
   "execution_count": null,
   "metadata": {
    "colab": {
     "base_uri": "https://localhost:8080/"
    },
    "id": "BZGzxYMjZyuq",
    "outputId": "23abf07d-e208-445f-97a8-03c14854ce16"
   },
   "outputs": [
    {
     "name": "stdout",
     "output_type": "stream",
     "text": [
      "(44, 0.653166295279205)\n",
      "A small cake is on a glass table\n"
     ]
    }
   ],
   "source": [
    "most_similar_tuple = CaptionTxtDistance[0][0]\n",
    "print(most_similar_tuple)\n",
    "print(machine_generated_captions[most_similar_tuple[0]])"
   ]
  },
  {
   "cell_type": "markdown",
   "metadata": {
    "id": "6TgEI4u3bER7"
   },
   "source": [
    "## Similarities between generated images"
   ]
  },
  {
   "cell_type": "markdown",
   "metadata": {
    "id": "Qj6CwDcyBNRk"
   },
   "source": [
    "Here we get similarity values between artworks based on the cosine distance of the CLIP image features (where image=generated images).\n",
    "\n",
    "This is used in our machine-curated exhibition when navigating left. That is, to the left of the original image, we show a computer generated image; clicking on that image leads the viewer to the most similar generated image in the collection."
   ]
  },
  {
   "cell_type": "code",
   "execution_count": null,
   "metadata": {
    "id": "uNIOKEs9Babg"
   },
   "outputs": [],
   "source": [
    "#load (from title) generated images and extract image features\n",
    "\n",
    "gen_images=[]\n",
    "for item in lb2021.generated_img_path:\n",
    "    image = preprocess(Image.open(item).convert(\"RGB\"))\n",
    "    gen_images.append(image)\n",
    "\n",
    "image_input = torch.tensor(np.stack(gen_images))\n",
    "with torch.no_grad():\n",
    "    gen_images_features = model.encode_image(image_input).float()\n",
    "\n",
    "gen_images_features /= gen_images_features.norm(dim=-1, keepdim=True)\n",
    "\n",
    "# calculate the ordering of indices and distance values based on the distance between generated image features \n",
    "gen_images_distance_ind = np.argsort(distance.cdist(gen_images_features.cpu().numpy(),gen_images_features.cpu().numpy(), metric='cosine')).squeeze()\n",
    "gen_images_distance_val = np.sort(distance.cdist(gen_images_features.cpu().numpy(),gen_images_features.cpu().numpy(), metric='cosine')).squeeze()\n",
    "\n",
    "# save list of tuples (index, similarity value)\n",
    "gen_images_distance=[]\n",
    "for i in range (len(lb2021)):\n",
    "    tup=[]\n",
    "    for j in range (1,len(lb2021)):\n",
    "        tup.append((int(gen_images_distance_ind[i][j]), float(1.0-gen_images_distance_val[i][j]))) #similarity=1-distance\n",
    "    gen_images_distance.append(tup)\n",
    "\n",
    "print(gen_images_distance)\n"
   ]
  },
  {
   "cell_type": "markdown",
   "metadata": {
    "id": "PNj-DE1j0s-I"
   },
   "source": [
    "## Similarities between artworks and computed keywords"
   ]
  },
  {
   "cell_type": "markdown",
   "metadata": {
    "id": "8Ny-km5lgOxx"
   },
   "source": [
    "Here we compute similarity values between artworks based on the cosine distance of the joint CLIP image and text features. By image we refer to the original artworks and by text we signify the keywords that were extracted from artwork descriptions by a BERT language model.\n",
    "\n",
    "This step enables the machine curator to determine which images resonate with another image's keywords. In the exhibition this is used when navigating using the down arrow."
   ]
  },
  {
   "cell_type": "code",
   "execution_count": null,
   "metadata": {
    "id": "6pROZn0tgQCA"
   },
   "outputs": [],
   "source": [
    "# load keywords and extract text features\n",
    "text = clip.tokenize(machine_generated_captions).to(device)\n",
    "\n",
    "with torch.no_grad():\n",
    "    keywords_features = model.encode_text(text)\n",
    "keywords_features /= keywords_features.norm(dim=-1, keepdim=True)\n",
    "\n",
    "# load original artwork images and extract image features\n",
    "orginal_images=[]\n",
    "for img in lb2021.path_to_original_image:\n",
    "    img_path = os.path.join('machine-curation', img)\n",
    "    image = preprocess(Image.open(img_path).convert(\"RGB\"))\n",
    "    orginal_images.append(image)\n",
    "\n",
    "image_input = torch.tensor(np.stack(orginal_images))\n",
    "with torch.no_grad():\n",
    "    orginal_images_features = model.encode_image(image_input).float()\n",
    "orginal_images_features /= orginal_images_features.norm(dim=-1, keepdim=True)\n",
    "\n",
    "# joint features from image and text features\n",
    "joint_features = (orginal_images_features+keywords_features)/2\n",
    "\n",
    "# calculate the ordering of indices and distance values based on the distance between joint image and text features\n",
    "joint_features_distance_ind=np.argsort(distance.cdist(joint_features.cpu().numpy(),joint_features.cpu().numpy(),metric='cosine')).squeeze()\n",
    "joint_features_distance_val=np.sort(distance.cdist(joint_features.cpu().numpy(),joint_features.cpu().numpy(),metric='cosine').squeeze())\n",
    "\n",
    "# save list of tuples (index, similarity value)\n",
    "joint_features_distance=[]\n",
    "for i in range (len(df)):\n",
    "    tup=[]\n",
    "    for j in range (1,len(df)):\n",
    "        tup.append((int(JointFeaturesDistance_ind[i][j]), float(1.0-JointFeaturesDistance_val[i][j]))) #similarity=1-distance\n",
    "    joint_features_distance.append(tup)\n",
    "\n",
    "print(joint_features_distance)"
   ]
  }
 ],
 "metadata": {
  "accelerator": "GPU",
  "colab": {
   "authorship_tag": "ABX9TyN7xLq7YtNoKaOIccdPVidR",
   "collapsed_sections": [],
   "include_colab_link": true,
   "name": "machine_curation.ipynb",
   "provenance": [],
   "toc_visible": true
  },
  "kernelspec": {
   "display_name": "Python 3",
   "language": "python",
   "name": "python3"
  },
  "language_info": {
   "codemirror_mode": {
    "name": "ipython",
    "version": 3
   },
   "file_extension": ".py",
   "mimetype": "text/x-python",
   "name": "python",
   "nbconvert_exporter": "python",
   "pygments_lexer": "ipython3",
   "version": "3.9.5"
  }
 },
 "nbformat": 4,
 "nbformat_minor": 1
}
